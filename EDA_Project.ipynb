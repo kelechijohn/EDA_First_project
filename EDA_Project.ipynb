{
 "cells": [
  {
   "cell_type": "markdown",
   "metadata": {},
   "source": [
    "### Connecting via psycopg2"
   ]
  },
  {
   "cell_type": "code",
   "execution_count": 3,
   "metadata": {},
   "outputs": [],
   "source": [
    "import pandas as pd\n",
    "import numpy as np\n",
    "pd.set_option('display.max_columns', None)# to set the columns to their maximum\n",
    "import plotly.express as px\n",
    "import matplotlib.pyplot as plt\n",
    "import seaborn as sns\n"
   ]
  },
  {
   "cell_type": "code",
   "execution_count": 4,
   "metadata": {},
   "outputs": [],
   "source": [
    "#import the data from a csv-file\n",
    "df_import = pd.read_csv('data/eda.csv')"
   ]
  },
  {
   "cell_type": "code",
   "execution_count": 5,
   "metadata": {},
   "outputs": [
    {
     "data": {
      "text/html": [
       "<div>\n",
       "<style scoped>\n",
       "    .dataframe tbody tr th:only-of-type {\n",
       "        vertical-align: middle;\n",
       "    }\n",
       "\n",
       "    .dataframe tbody tr th {\n",
       "        vertical-align: top;\n",
       "    }\n",
       "\n",
       "    .dataframe thead th {\n",
       "        text-align: right;\n",
       "    }\n",
       "</style>\n",
       "<table border=\"1\" class=\"dataframe\">\n",
       "  <thead>\n",
       "    <tr style=\"text-align: right;\">\n",
       "      <th></th>\n",
       "      <th>id</th>\n",
       "      <th>bedrooms</th>\n",
       "      <th>bathrooms</th>\n",
       "      <th>sqft_living</th>\n",
       "      <th>sqft_lot</th>\n",
       "      <th>floors</th>\n",
       "      <th>waterfront</th>\n",
       "      <th>view</th>\n",
       "      <th>condition</th>\n",
       "      <th>grade</th>\n",
       "      <th>sqft_above</th>\n",
       "      <th>sqft_basement</th>\n",
       "      <th>yr_built</th>\n",
       "      <th>yr_renovated</th>\n",
       "      <th>zipcode</th>\n",
       "      <th>lat</th>\n",
       "      <th>long</th>\n",
       "      <th>sqft_living15</th>\n",
       "      <th>sqft_lot15</th>\n",
       "      <th>date</th>\n",
       "      <th>price</th>\n",
       "      <th>sales_id</th>\n",
       "    </tr>\n",
       "  </thead>\n",
       "  <tbody>\n",
       "    <tr>\n",
       "      <th>0</th>\n",
       "      <td>7129300520</td>\n",
       "      <td>3.0</td>\n",
       "      <td>1.00</td>\n",
       "      <td>1180.0</td>\n",
       "      <td>5650.0</td>\n",
       "      <td>1.0</td>\n",
       "      <td>NaN</td>\n",
       "      <td>0.0</td>\n",
       "      <td>3</td>\n",
       "      <td>7</td>\n",
       "      <td>1180.0</td>\n",
       "      <td>0.0</td>\n",
       "      <td>1955</td>\n",
       "      <td>0.0</td>\n",
       "      <td>98178</td>\n",
       "      <td>47.5112</td>\n",
       "      <td>-122.257</td>\n",
       "      <td>1340.0</td>\n",
       "      <td>5650.0</td>\n",
       "      <td>2014-10-13</td>\n",
       "      <td>221900.0</td>\n",
       "      <td>1</td>\n",
       "    </tr>\n",
       "    <tr>\n",
       "      <th>1</th>\n",
       "      <td>6414100192</td>\n",
       "      <td>3.0</td>\n",
       "      <td>2.25</td>\n",
       "      <td>2570.0</td>\n",
       "      <td>7242.0</td>\n",
       "      <td>2.0</td>\n",
       "      <td>0.0</td>\n",
       "      <td>0.0</td>\n",
       "      <td>3</td>\n",
       "      <td>7</td>\n",
       "      <td>2170.0</td>\n",
       "      <td>400.0</td>\n",
       "      <td>1951</td>\n",
       "      <td>19910.0</td>\n",
       "      <td>98125</td>\n",
       "      <td>47.7210</td>\n",
       "      <td>-122.319</td>\n",
       "      <td>1690.0</td>\n",
       "      <td>7639.0</td>\n",
       "      <td>2014-12-09</td>\n",
       "      <td>538000.0</td>\n",
       "      <td>2</td>\n",
       "    </tr>\n",
       "    <tr>\n",
       "      <th>2</th>\n",
       "      <td>5631500400</td>\n",
       "      <td>2.0</td>\n",
       "      <td>1.00</td>\n",
       "      <td>770.0</td>\n",
       "      <td>10000.0</td>\n",
       "      <td>1.0</td>\n",
       "      <td>0.0</td>\n",
       "      <td>0.0</td>\n",
       "      <td>3</td>\n",
       "      <td>6</td>\n",
       "      <td>770.0</td>\n",
       "      <td>0.0</td>\n",
       "      <td>1933</td>\n",
       "      <td>NaN</td>\n",
       "      <td>98028</td>\n",
       "      <td>47.7379</td>\n",
       "      <td>-122.233</td>\n",
       "      <td>2720.0</td>\n",
       "      <td>8062.0</td>\n",
       "      <td>2015-02-25</td>\n",
       "      <td>180000.0</td>\n",
       "      <td>3</td>\n",
       "    </tr>\n",
       "    <tr>\n",
       "      <th>3</th>\n",
       "      <td>2487200875</td>\n",
       "      <td>4.0</td>\n",
       "      <td>3.00</td>\n",
       "      <td>1960.0</td>\n",
       "      <td>5000.0</td>\n",
       "      <td>1.0</td>\n",
       "      <td>0.0</td>\n",
       "      <td>0.0</td>\n",
       "      <td>5</td>\n",
       "      <td>7</td>\n",
       "      <td>1050.0</td>\n",
       "      <td>910.0</td>\n",
       "      <td>1965</td>\n",
       "      <td>0.0</td>\n",
       "      <td>98136</td>\n",
       "      <td>47.5208</td>\n",
       "      <td>-122.393</td>\n",
       "      <td>1360.0</td>\n",
       "      <td>5000.0</td>\n",
       "      <td>2014-12-09</td>\n",
       "      <td>604000.0</td>\n",
       "      <td>4</td>\n",
       "    </tr>\n",
       "    <tr>\n",
       "      <th>4</th>\n",
       "      <td>1954400510</td>\n",
       "      <td>3.0</td>\n",
       "      <td>2.00</td>\n",
       "      <td>1680.0</td>\n",
       "      <td>8080.0</td>\n",
       "      <td>1.0</td>\n",
       "      <td>0.0</td>\n",
       "      <td>0.0</td>\n",
       "      <td>3</td>\n",
       "      <td>8</td>\n",
       "      <td>1680.0</td>\n",
       "      <td>0.0</td>\n",
       "      <td>1987</td>\n",
       "      <td>0.0</td>\n",
       "      <td>98074</td>\n",
       "      <td>47.6168</td>\n",
       "      <td>-122.045</td>\n",
       "      <td>1800.0</td>\n",
       "      <td>7503.0</td>\n",
       "      <td>2015-02-18</td>\n",
       "      <td>510000.0</td>\n",
       "      <td>5</td>\n",
       "    </tr>\n",
       "    <tr>\n",
       "      <th>...</th>\n",
       "      <td>...</td>\n",
       "      <td>...</td>\n",
       "      <td>...</td>\n",
       "      <td>...</td>\n",
       "      <td>...</td>\n",
       "      <td>...</td>\n",
       "      <td>...</td>\n",
       "      <td>...</td>\n",
       "      <td>...</td>\n",
       "      <td>...</td>\n",
       "      <td>...</td>\n",
       "      <td>...</td>\n",
       "      <td>...</td>\n",
       "      <td>...</td>\n",
       "      <td>...</td>\n",
       "      <td>...</td>\n",
       "      <td>...</td>\n",
       "      <td>...</td>\n",
       "      <td>...</td>\n",
       "      <td>...</td>\n",
       "      <td>...</td>\n",
       "      <td>...</td>\n",
       "    </tr>\n",
       "    <tr>\n",
       "      <th>21592</th>\n",
       "      <td>263000018</td>\n",
       "      <td>3.0</td>\n",
       "      <td>2.50</td>\n",
       "      <td>1530.0</td>\n",
       "      <td>1131.0</td>\n",
       "      <td>3.0</td>\n",
       "      <td>0.0</td>\n",
       "      <td>0.0</td>\n",
       "      <td>3</td>\n",
       "      <td>8</td>\n",
       "      <td>1530.0</td>\n",
       "      <td>0.0</td>\n",
       "      <td>2009</td>\n",
       "      <td>0.0</td>\n",
       "      <td>98103</td>\n",
       "      <td>47.6993</td>\n",
       "      <td>-122.346</td>\n",
       "      <td>1530.0</td>\n",
       "      <td>1509.0</td>\n",
       "      <td>2014-05-21</td>\n",
       "      <td>360000.0</td>\n",
       "      <td>21593</td>\n",
       "    </tr>\n",
       "    <tr>\n",
       "      <th>21593</th>\n",
       "      <td>6600060120</td>\n",
       "      <td>4.0</td>\n",
       "      <td>2.50</td>\n",
       "      <td>2310.0</td>\n",
       "      <td>5813.0</td>\n",
       "      <td>2.0</td>\n",
       "      <td>0.0</td>\n",
       "      <td>0.0</td>\n",
       "      <td>3</td>\n",
       "      <td>8</td>\n",
       "      <td>2310.0</td>\n",
       "      <td>0.0</td>\n",
       "      <td>2014</td>\n",
       "      <td>0.0</td>\n",
       "      <td>98146</td>\n",
       "      <td>47.5107</td>\n",
       "      <td>-122.362</td>\n",
       "      <td>1830.0</td>\n",
       "      <td>7200.0</td>\n",
       "      <td>2015-02-23</td>\n",
       "      <td>400000.0</td>\n",
       "      <td>21594</td>\n",
       "    </tr>\n",
       "    <tr>\n",
       "      <th>21594</th>\n",
       "      <td>1523300141</td>\n",
       "      <td>2.0</td>\n",
       "      <td>0.75</td>\n",
       "      <td>1020.0</td>\n",
       "      <td>1350.0</td>\n",
       "      <td>2.0</td>\n",
       "      <td>0.0</td>\n",
       "      <td>0.0</td>\n",
       "      <td>3</td>\n",
       "      <td>7</td>\n",
       "      <td>1020.0</td>\n",
       "      <td>0.0</td>\n",
       "      <td>2009</td>\n",
       "      <td>0.0</td>\n",
       "      <td>98144</td>\n",
       "      <td>47.5944</td>\n",
       "      <td>-122.299</td>\n",
       "      <td>1020.0</td>\n",
       "      <td>2007.0</td>\n",
       "      <td>2014-06-23</td>\n",
       "      <td>402101.0</td>\n",
       "      <td>21595</td>\n",
       "    </tr>\n",
       "    <tr>\n",
       "      <th>21595</th>\n",
       "      <td>291310100</td>\n",
       "      <td>3.0</td>\n",
       "      <td>2.50</td>\n",
       "      <td>1600.0</td>\n",
       "      <td>2388.0</td>\n",
       "      <td>2.0</td>\n",
       "      <td>NaN</td>\n",
       "      <td>0.0</td>\n",
       "      <td>3</td>\n",
       "      <td>8</td>\n",
       "      <td>1600.0</td>\n",
       "      <td>0.0</td>\n",
       "      <td>2004</td>\n",
       "      <td>0.0</td>\n",
       "      <td>98027</td>\n",
       "      <td>47.5345</td>\n",
       "      <td>-122.069</td>\n",
       "      <td>1410.0</td>\n",
       "      <td>1287.0</td>\n",
       "      <td>2015-01-16</td>\n",
       "      <td>400000.0</td>\n",
       "      <td>21596</td>\n",
       "    </tr>\n",
       "    <tr>\n",
       "      <th>21596</th>\n",
       "      <td>1523300157</td>\n",
       "      <td>2.0</td>\n",
       "      <td>0.75</td>\n",
       "      <td>1020.0</td>\n",
       "      <td>1076.0</td>\n",
       "      <td>2.0</td>\n",
       "      <td>0.0</td>\n",
       "      <td>0.0</td>\n",
       "      <td>3</td>\n",
       "      <td>7</td>\n",
       "      <td>1020.0</td>\n",
       "      <td>0.0</td>\n",
       "      <td>2008</td>\n",
       "      <td>0.0</td>\n",
       "      <td>98144</td>\n",
       "      <td>47.5941</td>\n",
       "      <td>-122.299</td>\n",
       "      <td>1020.0</td>\n",
       "      <td>1357.0</td>\n",
       "      <td>2014-10-15</td>\n",
       "      <td>325000.0</td>\n",
       "      <td>21597</td>\n",
       "    </tr>\n",
       "  </tbody>\n",
       "</table>\n",
       "<p>21597 rows × 22 columns</p>\n",
       "</div>"
      ],
      "text/plain": [
       "               id  bedrooms  bathrooms  sqft_living  sqft_lot  floors  \\\n",
       "0      7129300520       3.0       1.00       1180.0    5650.0     1.0   \n",
       "1      6414100192       3.0       2.25       2570.0    7242.0     2.0   \n",
       "2      5631500400       2.0       1.00        770.0   10000.0     1.0   \n",
       "3      2487200875       4.0       3.00       1960.0    5000.0     1.0   \n",
       "4      1954400510       3.0       2.00       1680.0    8080.0     1.0   \n",
       "...           ...       ...        ...          ...       ...     ...   \n",
       "21592   263000018       3.0       2.50       1530.0    1131.0     3.0   \n",
       "21593  6600060120       4.0       2.50       2310.0    5813.0     2.0   \n",
       "21594  1523300141       2.0       0.75       1020.0    1350.0     2.0   \n",
       "21595   291310100       3.0       2.50       1600.0    2388.0     2.0   \n",
       "21596  1523300157       2.0       0.75       1020.0    1076.0     2.0   \n",
       "\n",
       "       waterfront  view  condition  grade  sqft_above  sqft_basement  \\\n",
       "0             NaN   0.0          3      7      1180.0            0.0   \n",
       "1             0.0   0.0          3      7      2170.0          400.0   \n",
       "2             0.0   0.0          3      6       770.0            0.0   \n",
       "3             0.0   0.0          5      7      1050.0          910.0   \n",
       "4             0.0   0.0          3      8      1680.0            0.0   \n",
       "...           ...   ...        ...    ...         ...            ...   \n",
       "21592         0.0   0.0          3      8      1530.0            0.0   \n",
       "21593         0.0   0.0          3      8      2310.0            0.0   \n",
       "21594         0.0   0.0          3      7      1020.0            0.0   \n",
       "21595         NaN   0.0          3      8      1600.0            0.0   \n",
       "21596         0.0   0.0          3      7      1020.0            0.0   \n",
       "\n",
       "       yr_built  yr_renovated  zipcode      lat     long  sqft_living15  \\\n",
       "0          1955           0.0    98178  47.5112 -122.257         1340.0   \n",
       "1          1951       19910.0    98125  47.7210 -122.319         1690.0   \n",
       "2          1933           NaN    98028  47.7379 -122.233         2720.0   \n",
       "3          1965           0.0    98136  47.5208 -122.393         1360.0   \n",
       "4          1987           0.0    98074  47.6168 -122.045         1800.0   \n",
       "...         ...           ...      ...      ...      ...            ...   \n",
       "21592      2009           0.0    98103  47.6993 -122.346         1530.0   \n",
       "21593      2014           0.0    98146  47.5107 -122.362         1830.0   \n",
       "21594      2009           0.0    98144  47.5944 -122.299         1020.0   \n",
       "21595      2004           0.0    98027  47.5345 -122.069         1410.0   \n",
       "21596      2008           0.0    98144  47.5941 -122.299         1020.0   \n",
       "\n",
       "       sqft_lot15        date     price  sales_id  \n",
       "0          5650.0  2014-10-13  221900.0         1  \n",
       "1          7639.0  2014-12-09  538000.0         2  \n",
       "2          8062.0  2015-02-25  180000.0         3  \n",
       "3          5000.0  2014-12-09  604000.0         4  \n",
       "4          7503.0  2015-02-18  510000.0         5  \n",
       "...           ...         ...       ...       ...  \n",
       "21592      1509.0  2014-05-21  360000.0     21593  \n",
       "21593      7200.0  2015-02-23  400000.0     21594  \n",
       "21594      2007.0  2014-06-23  402101.0     21595  \n",
       "21595      1287.0  2015-01-16  400000.0     21596  \n",
       "21596      1357.0  2014-10-15  325000.0     21597  \n",
       "\n",
       "[21597 rows x 22 columns]"
      ]
     },
     "execution_count": 5,
     "metadata": {},
     "output_type": "execute_result"
    }
   ],
   "source": [
    "df_import"
   ]
  },
  {
   "cell_type": "code",
   "execution_count": 6,
   "metadata": {},
   "outputs": [
    {
     "data": {
      "text/plain": [
       "(21597, 22)"
      ]
     },
     "execution_count": 6,
     "metadata": {},
     "output_type": "execute_result"
    }
   ],
   "source": [
    "#check the shape of your data\n",
    "df_import.shape"
   ]
  },
  {
   "cell_type": "code",
   "execution_count": 7,
   "metadata": {},
   "outputs": [
    {
     "data": {
      "text/plain": [
       "id                  0\n",
       "bedrooms            0\n",
       "bathrooms           0\n",
       "sqft_living         0\n",
       "sqft_lot            0\n",
       "floors              0\n",
       "waterfront       2391\n",
       "view               63\n",
       "condition           0\n",
       "grade               0\n",
       "sqft_above          0\n",
       "sqft_basement     452\n",
       "yr_built            0\n",
       "yr_renovated     3848\n",
       "zipcode             0\n",
       "lat                 0\n",
       "long                0\n",
       "sqft_living15       0\n",
       "sqft_lot15          0\n",
       "date                0\n",
       "price               0\n",
       "sales_id            0\n",
       "dtype: int64"
      ]
     },
     "execution_count": 7,
     "metadata": {},
     "output_type": "execute_result"
    }
   ],
   "source": [
    "# check the number of missing values per column\n",
    "df_import.isna().sum()\n"
   ]
  },
  {
   "cell_type": "code",
   "execution_count": 8,
   "metadata": {},
   "outputs": [
    {
     "data": {
      "text/html": [
       "<div>\n",
       "<style scoped>\n",
       "    .dataframe tbody tr th:only-of-type {\n",
       "        vertical-align: middle;\n",
       "    }\n",
       "\n",
       "    .dataframe tbody tr th {\n",
       "        vertical-align: top;\n",
       "    }\n",
       "\n",
       "    .dataframe thead th {\n",
       "        text-align: right;\n",
       "    }\n",
       "</style>\n",
       "<table border=\"1\" class=\"dataframe\">\n",
       "  <thead>\n",
       "    <tr style=\"text-align: right;\">\n",
       "      <th></th>\n",
       "      <th>id</th>\n",
       "      <th>bedrooms</th>\n",
       "      <th>bathrooms</th>\n",
       "      <th>sqft_living</th>\n",
       "      <th>sqft_lot</th>\n",
       "      <th>floors</th>\n",
       "      <th>waterfront</th>\n",
       "      <th>view</th>\n",
       "      <th>condition</th>\n",
       "      <th>grade</th>\n",
       "      <th>sqft_above</th>\n",
       "      <th>sqft_basement</th>\n",
       "      <th>yr_built</th>\n",
       "      <th>yr_renovated</th>\n",
       "      <th>zipcode</th>\n",
       "      <th>lat</th>\n",
       "      <th>long</th>\n",
       "      <th>sqft_living15</th>\n",
       "      <th>sqft_lot15</th>\n",
       "      <th>date</th>\n",
       "      <th>price</th>\n",
       "      <th>sales_id</th>\n",
       "    </tr>\n",
       "  </thead>\n",
       "  <tbody>\n",
       "  </tbody>\n",
       "</table>\n",
       "</div>"
      ],
      "text/plain": [
       "Empty DataFrame\n",
       "Columns: [id, bedrooms, bathrooms, sqft_living, sqft_lot, floors, waterfront, view, condition, grade, sqft_above, sqft_basement, yr_built, yr_renovated, zipcode, lat, long, sqft_living15, sqft_lot15, date, price, sales_id]\n",
       "Index: []"
      ]
     },
     "execution_count": 8,
     "metadata": {},
     "output_type": "execute_result"
    }
   ],
   "source": [
    "df_import[df_import['price'].isna()]"
   ]
  },
  {
   "cell_type": "code",
   "execution_count": 9,
   "metadata": {},
   "outputs": [
    {
     "data": {
      "text/html": [
       "<div>\n",
       "<style scoped>\n",
       "    .dataframe tbody tr th:only-of-type {\n",
       "        vertical-align: middle;\n",
       "    }\n",
       "\n",
       "    .dataframe tbody tr th {\n",
       "        vertical-align: top;\n",
       "    }\n",
       "\n",
       "    .dataframe thead th {\n",
       "        text-align: right;\n",
       "    }\n",
       "</style>\n",
       "<table border=\"1\" class=\"dataframe\">\n",
       "  <thead>\n",
       "    <tr style=\"text-align: right;\">\n",
       "      <th></th>\n",
       "      <th>id</th>\n",
       "      <th>bedrooms</th>\n",
       "      <th>bathrooms</th>\n",
       "      <th>sqft_living</th>\n",
       "      <th>sqft_lot</th>\n",
       "      <th>floors</th>\n",
       "      <th>waterfront</th>\n",
       "      <th>view</th>\n",
       "      <th>condition</th>\n",
       "      <th>grade</th>\n",
       "      <th>sqft_above</th>\n",
       "      <th>sqft_basement</th>\n",
       "      <th>yr_built</th>\n",
       "      <th>yr_renovated</th>\n",
       "      <th>zipcode</th>\n",
       "      <th>lat</th>\n",
       "      <th>long</th>\n",
       "      <th>sqft_living15</th>\n",
       "      <th>sqft_lot15</th>\n",
       "      <th>price</th>\n",
       "      <th>sales_id</th>\n",
       "    </tr>\n",
       "  </thead>\n",
       "  <tbody>\n",
       "    <tr>\n",
       "      <th>count</th>\n",
       "      <td>2.159700e+04</td>\n",
       "      <td>21597.000000</td>\n",
       "      <td>21597.000000</td>\n",
       "      <td>21597.000000</td>\n",
       "      <td>2.159700e+04</td>\n",
       "      <td>21597.000000</td>\n",
       "      <td>19206.000000</td>\n",
       "      <td>21534.000000</td>\n",
       "      <td>21597.000000</td>\n",
       "      <td>21597.000000</td>\n",
       "      <td>21597.000000</td>\n",
       "      <td>21145.000000</td>\n",
       "      <td>21597.000000</td>\n",
       "      <td>17749.000000</td>\n",
       "      <td>21597.000000</td>\n",
       "      <td>21597.000000</td>\n",
       "      <td>21597.000000</td>\n",
       "      <td>21597.000000</td>\n",
       "      <td>21597.000000</td>\n",
       "      <td>2.159700e+04</td>\n",
       "      <td>21597.000000</td>\n",
       "    </tr>\n",
       "    <tr>\n",
       "      <th>mean</th>\n",
       "      <td>4.580474e+09</td>\n",
       "      <td>3.373200</td>\n",
       "      <td>2.115826</td>\n",
       "      <td>2080.321850</td>\n",
       "      <td>1.509941e+04</td>\n",
       "      <td>1.494096</td>\n",
       "      <td>0.007602</td>\n",
       "      <td>0.233863</td>\n",
       "      <td>3.409825</td>\n",
       "      <td>7.657915</td>\n",
       "      <td>1788.596842</td>\n",
       "      <td>291.857224</td>\n",
       "      <td>1970.999676</td>\n",
       "      <td>836.650516</td>\n",
       "      <td>98077.951845</td>\n",
       "      <td>47.560093</td>\n",
       "      <td>-122.213983</td>\n",
       "      <td>1986.620318</td>\n",
       "      <td>12758.283512</td>\n",
       "      <td>5.402966e+05</td>\n",
       "      <td>10799.000000</td>\n",
       "    </tr>\n",
       "    <tr>\n",
       "      <th>std</th>\n",
       "      <td>2.876736e+09</td>\n",
       "      <td>0.926299</td>\n",
       "      <td>0.768984</td>\n",
       "      <td>918.106125</td>\n",
       "      <td>4.141264e+04</td>\n",
       "      <td>0.539683</td>\n",
       "      <td>0.086858</td>\n",
       "      <td>0.765686</td>\n",
       "      <td>0.650546</td>\n",
       "      <td>1.173200</td>\n",
       "      <td>827.759761</td>\n",
       "      <td>442.490863</td>\n",
       "      <td>29.375234</td>\n",
       "      <td>4000.110554</td>\n",
       "      <td>53.513072</td>\n",
       "      <td>0.138552</td>\n",
       "      <td>0.140724</td>\n",
       "      <td>685.230472</td>\n",
       "      <td>27274.441950</td>\n",
       "      <td>3.673681e+05</td>\n",
       "      <td>6234.661218</td>\n",
       "    </tr>\n",
       "    <tr>\n",
       "      <th>min</th>\n",
       "      <td>1.000102e+06</td>\n",
       "      <td>1.000000</td>\n",
       "      <td>0.500000</td>\n",
       "      <td>370.000000</td>\n",
       "      <td>5.200000e+02</td>\n",
       "      <td>1.000000</td>\n",
       "      <td>0.000000</td>\n",
       "      <td>0.000000</td>\n",
       "      <td>1.000000</td>\n",
       "      <td>3.000000</td>\n",
       "      <td>370.000000</td>\n",
       "      <td>0.000000</td>\n",
       "      <td>1900.000000</td>\n",
       "      <td>0.000000</td>\n",
       "      <td>98001.000000</td>\n",
       "      <td>47.155900</td>\n",
       "      <td>-122.519000</td>\n",
       "      <td>399.000000</td>\n",
       "      <td>651.000000</td>\n",
       "      <td>7.800000e+04</td>\n",
       "      <td>1.000000</td>\n",
       "    </tr>\n",
       "    <tr>\n",
       "      <th>25%</th>\n",
       "      <td>2.123049e+09</td>\n",
       "      <td>3.000000</td>\n",
       "      <td>1.750000</td>\n",
       "      <td>1430.000000</td>\n",
       "      <td>5.040000e+03</td>\n",
       "      <td>1.000000</td>\n",
       "      <td>0.000000</td>\n",
       "      <td>0.000000</td>\n",
       "      <td>3.000000</td>\n",
       "      <td>7.000000</td>\n",
       "      <td>1190.000000</td>\n",
       "      <td>0.000000</td>\n",
       "      <td>1951.000000</td>\n",
       "      <td>0.000000</td>\n",
       "      <td>98033.000000</td>\n",
       "      <td>47.471100</td>\n",
       "      <td>-122.328000</td>\n",
       "      <td>1490.000000</td>\n",
       "      <td>5100.000000</td>\n",
       "      <td>3.220000e+05</td>\n",
       "      <td>5400.000000</td>\n",
       "    </tr>\n",
       "    <tr>\n",
       "      <th>50%</th>\n",
       "      <td>3.904930e+09</td>\n",
       "      <td>3.000000</td>\n",
       "      <td>2.250000</td>\n",
       "      <td>1910.000000</td>\n",
       "      <td>7.618000e+03</td>\n",
       "      <td>1.500000</td>\n",
       "      <td>0.000000</td>\n",
       "      <td>0.000000</td>\n",
       "      <td>3.000000</td>\n",
       "      <td>7.000000</td>\n",
       "      <td>1560.000000</td>\n",
       "      <td>0.000000</td>\n",
       "      <td>1975.000000</td>\n",
       "      <td>0.000000</td>\n",
       "      <td>98065.000000</td>\n",
       "      <td>47.571800</td>\n",
       "      <td>-122.231000</td>\n",
       "      <td>1840.000000</td>\n",
       "      <td>7620.000000</td>\n",
       "      <td>4.500000e+05</td>\n",
       "      <td>10799.000000</td>\n",
       "    </tr>\n",
       "    <tr>\n",
       "      <th>75%</th>\n",
       "      <td>7.308900e+09</td>\n",
       "      <td>4.000000</td>\n",
       "      <td>2.500000</td>\n",
       "      <td>2550.000000</td>\n",
       "      <td>1.068500e+04</td>\n",
       "      <td>2.000000</td>\n",
       "      <td>0.000000</td>\n",
       "      <td>0.000000</td>\n",
       "      <td>4.000000</td>\n",
       "      <td>8.000000</td>\n",
       "      <td>2210.000000</td>\n",
       "      <td>560.000000</td>\n",
       "      <td>1997.000000</td>\n",
       "      <td>0.000000</td>\n",
       "      <td>98118.000000</td>\n",
       "      <td>47.678000</td>\n",
       "      <td>-122.125000</td>\n",
       "      <td>2360.000000</td>\n",
       "      <td>10083.000000</td>\n",
       "      <td>6.450000e+05</td>\n",
       "      <td>16198.000000</td>\n",
       "    </tr>\n",
       "    <tr>\n",
       "      <th>max</th>\n",
       "      <td>9.900000e+09</td>\n",
       "      <td>33.000000</td>\n",
       "      <td>8.000000</td>\n",
       "      <td>13540.000000</td>\n",
       "      <td>1.651359e+06</td>\n",
       "      <td>3.500000</td>\n",
       "      <td>1.000000</td>\n",
       "      <td>4.000000</td>\n",
       "      <td>5.000000</td>\n",
       "      <td>13.000000</td>\n",
       "      <td>9410.000000</td>\n",
       "      <td>4820.000000</td>\n",
       "      <td>2015.000000</td>\n",
       "      <td>20150.000000</td>\n",
       "      <td>98199.000000</td>\n",
       "      <td>47.777600</td>\n",
       "      <td>-121.315000</td>\n",
       "      <td>6210.000000</td>\n",
       "      <td>871200.000000</td>\n",
       "      <td>7.700000e+06</td>\n",
       "      <td>21597.000000</td>\n",
       "    </tr>\n",
       "  </tbody>\n",
       "</table>\n",
       "</div>"
      ],
      "text/plain": [
       "                 id      bedrooms     bathrooms   sqft_living      sqft_lot  \\\n",
       "count  2.159700e+04  21597.000000  21597.000000  21597.000000  2.159700e+04   \n",
       "mean   4.580474e+09      3.373200      2.115826   2080.321850  1.509941e+04   \n",
       "std    2.876736e+09      0.926299      0.768984    918.106125  4.141264e+04   \n",
       "min    1.000102e+06      1.000000      0.500000    370.000000  5.200000e+02   \n",
       "25%    2.123049e+09      3.000000      1.750000   1430.000000  5.040000e+03   \n",
       "50%    3.904930e+09      3.000000      2.250000   1910.000000  7.618000e+03   \n",
       "75%    7.308900e+09      4.000000      2.500000   2550.000000  1.068500e+04   \n",
       "max    9.900000e+09     33.000000      8.000000  13540.000000  1.651359e+06   \n",
       "\n",
       "             floors    waterfront          view     condition         grade  \\\n",
       "count  21597.000000  19206.000000  21534.000000  21597.000000  21597.000000   \n",
       "mean       1.494096      0.007602      0.233863      3.409825      7.657915   \n",
       "std        0.539683      0.086858      0.765686      0.650546      1.173200   \n",
       "min        1.000000      0.000000      0.000000      1.000000      3.000000   \n",
       "25%        1.000000      0.000000      0.000000      3.000000      7.000000   \n",
       "50%        1.500000      0.000000      0.000000      3.000000      7.000000   \n",
       "75%        2.000000      0.000000      0.000000      4.000000      8.000000   \n",
       "max        3.500000      1.000000      4.000000      5.000000     13.000000   \n",
       "\n",
       "         sqft_above  sqft_basement      yr_built  yr_renovated       zipcode  \\\n",
       "count  21597.000000   21145.000000  21597.000000  17749.000000  21597.000000   \n",
       "mean    1788.596842     291.857224   1970.999676    836.650516  98077.951845   \n",
       "std      827.759761     442.490863     29.375234   4000.110554     53.513072   \n",
       "min      370.000000       0.000000   1900.000000      0.000000  98001.000000   \n",
       "25%     1190.000000       0.000000   1951.000000      0.000000  98033.000000   \n",
       "50%     1560.000000       0.000000   1975.000000      0.000000  98065.000000   \n",
       "75%     2210.000000     560.000000   1997.000000      0.000000  98118.000000   \n",
       "max     9410.000000    4820.000000   2015.000000  20150.000000  98199.000000   \n",
       "\n",
       "                lat          long  sqft_living15     sqft_lot15         price  \\\n",
       "count  21597.000000  21597.000000   21597.000000   21597.000000  2.159700e+04   \n",
       "mean      47.560093   -122.213983    1986.620318   12758.283512  5.402966e+05   \n",
       "std        0.138552      0.140724     685.230472   27274.441950  3.673681e+05   \n",
       "min       47.155900   -122.519000     399.000000     651.000000  7.800000e+04   \n",
       "25%       47.471100   -122.328000    1490.000000    5100.000000  3.220000e+05   \n",
       "50%       47.571800   -122.231000    1840.000000    7620.000000  4.500000e+05   \n",
       "75%       47.678000   -122.125000    2360.000000   10083.000000  6.450000e+05   \n",
       "max       47.777600   -121.315000    6210.000000  871200.000000  7.700000e+06   \n",
       "\n",
       "           sales_id  \n",
       "count  21597.000000  \n",
       "mean   10799.000000  \n",
       "std     6234.661218  \n",
       "min        1.000000  \n",
       "25%     5400.000000  \n",
       "50%    10799.000000  \n",
       "75%    16198.000000  \n",
       "max    21597.000000  "
      ]
     },
     "execution_count": 9,
     "metadata": {},
     "output_type": "execute_result"
    }
   ],
   "source": [
    "df_import.describe()"
   ]
  },
  {
   "cell_type": "code",
   "execution_count": 10,
   "metadata": {},
   "outputs": [
    {
     "data": {
      "text/plain": [
       "0.0    19060\n",
       "1.0      146\n",
       "Name: waterfront, dtype: int64"
      ]
     },
     "execution_count": 10,
     "metadata": {},
     "output_type": "execute_result"
    }
   ],
   "source": [
    "df_import['waterfront'].value_counts()"
   ]
  },
  {
   "cell_type": "code",
   "execution_count": 11,
   "metadata": {},
   "outputs": [
    {
     "data": {
      "text/plain": [
       "<AxesSubplot:>"
      ]
     },
     "execution_count": 11,
     "metadata": {},
     "output_type": "execute_result"
    },
    {
     "data": {
      "image/png": "[encoded data removed]",
      "text/plain": [
       "<Figure size 640x480 with 1 Axes>"
      ]
     },
     "metadata": {},
     "output_type": "display_data"
    }
   ],
   "source": [
    "#check how many counts are in each of the grades first and then turn it into a data frame before you visualize it\n",
    "df_import['grade'].value_counts()\n",
    "pd.DataFrame(df_import['grade'].value_counts()).plot(kind='bar')"
   ]
  },
  {
   "cell_type": "code",
   "execution_count": 12,
   "metadata": {},
   "outputs": [],
   "source": [
    "# make a copy of your dataframe\n",
    "df2_import = df_import.copy()\n",
    "# make a list column names\n",
    "cols = df2_import.columns.tolist()\n",
    "# replace space with _\n",
    "cols = [col.replace(' ', '_') for col in cols]\n",
    "# reassign new column names to dataframe\n",
    "df2_import.columns = cols"
   ]
  },
  {
   "cell_type": "code",
   "execution_count": 13,
   "metadata": {},
   "outputs": [
    {
     "data": {
      "text/plain": [
       "array([nan,  0.,  1.])"
      ]
     },
     "execution_count": 13,
     "metadata": {},
     "output_type": "execute_result"
    }
   ],
   "source": [
    "#check the values in the waterfront\n",
    "df_import.waterfront.unique()"
   ]
  },
  {
   "cell_type": "code",
   "execution_count": 14,
   "metadata": {},
   "outputs": [
    {
     "data": {
      "text/plain": [
       "id               0\n",
       "bedrooms         0\n",
       "bathrooms        0\n",
       "sqft_living      0\n",
       "sqft_lot         0\n",
       "floors           0\n",
       "waterfront       0\n",
       "view             0\n",
       "condition        0\n",
       "grade            0\n",
       "sqft_above       0\n",
       "sqft_basement    0\n",
       "yr_built         0\n",
       "yr_renovated     0\n",
       "zipcode          0\n",
       "lat              0\n",
       "long             0\n",
       "sqft_living15    0\n",
       "sqft_lot15       0\n",
       "date             0\n",
       "price            0\n",
       "sales_id         0\n",
       "dtype: int64"
      ]
     },
     "execution_count": 14,
     "metadata": {},
     "output_type": "execute_result"
    }
   ],
   "source": [
    "# Notice the addition of the inplace argument here. \n",
    "# if you try to fill nans will some value: the first argument is the inserted value\n",
    "df2_import.fillna(0, inplace=True)\n",
    "# dropna() will drop the whole row, if nans are present\n",
    "df2_import.dropna(inplace=True) \n",
    "df2_import.isna().sum()"
   ]
  },
  {
   "cell_type": "code",
   "execution_count": 15,
   "metadata": {},
   "outputs": [
    {
     "data": {
      "text/plain": [
       "array([[<AxesSubplot:title={'center':'id'}>,\n",
       "        <AxesSubplot:title={'center':'bedrooms'}>,\n",
       "        <AxesSubplot:title={'center':'bathrooms'}>,\n",
       "        <AxesSubplot:title={'center':'sqft_living'}>,\n",
       "        <AxesSubplot:title={'center':'sqft_lot'}>],\n",
       "       [<AxesSubplot:title={'center':'floors'}>,\n",
       "        <AxesSubplot:title={'center':'waterfront'}>,\n",
       "        <AxesSubplot:title={'center':'view'}>,\n",
       "        <AxesSubplot:title={'center':'condition'}>,\n",
       "        <AxesSubplot:title={'center':'grade'}>],\n",
       "       [<AxesSubplot:title={'center':'sqft_above'}>,\n",
       "        <AxesSubplot:title={'center':'sqft_basement'}>,\n",
       "        <AxesSubplot:title={'center':'yr_built'}>,\n",
       "        <AxesSubplot:title={'center':'yr_renovated'}>,\n",
       "        <AxesSubplot:title={'center':'zipcode'}>],\n",
       "       [<AxesSubplot:title={'center':'lat'}>,\n",
       "        <AxesSubplot:title={'center':'long'}>,\n",
       "        <AxesSubplot:title={'center':'sqft_living15'}>,\n",
       "        <AxesSubplot:title={'center':'sqft_lot15'}>,\n",
       "        <AxesSubplot:title={'center':'price'}>],\n",
       "       [<AxesSubplot:title={'center':'sales_id'}>, <AxesSubplot:>,\n",
       "        <AxesSubplot:>, <AxesSubplot:>, <AxesSubplot:>]], dtype=object)"
      ]
     },
     "execution_count": 15,
     "metadata": {},
     "output_type": "execute_result"
    },
    {
     "data": {
      "image/png": "[encoded data removed]",
      "text/plain": [
       "<Figure size 2000x3000 with 25 Axes>"
      ]
     },
     "metadata": {},
     "output_type": "display_data"
    }
   ],
   "source": [
    "df2_import.hist(bins=80, figsize=(20,30))# curious to see the distribution of my data values"
   ]
  },
  {
   "cell_type": "code",
   "execution_count": 16,
   "metadata": {},
   "outputs": [
    {
     "data": {
      "text/plain": [
       "<AxesSubplot:ylabel='Frequency'>"
      ]
     },
     "execution_count": 16,
     "metadata": {},
     "output_type": "execute_result"
    },
    {
     "data": {
      "image/png": "[encoded data removed]",
      "text/plain": [
       "<Figure size 2000x1000 with 1 Axes>"
      ]
     },
     "metadata": {},
     "output_type": "display_data"
    }
   ],
   "source": [
    "# to plot a particular section to have a feeling of what is going on\n",
    "df_import[['price','grade']].plot(kind='hist', x='grade', y ='price', figsize=(20,10))"
   ]
  },
  {
   "cell_type": "code",
   "execution_count": 17,
   "metadata": {},
   "outputs": [
    {
     "data": {
      "text/html": [
       "<div>\n",
       "<style scoped>\n",
       "    .dataframe tbody tr th:only-of-type {\n",
       "        vertical-align: middle;\n",
       "    }\n",
       "\n",
       "    .dataframe tbody tr th {\n",
       "        vertical-align: top;\n",
       "    }\n",
       "\n",
       "    .dataframe thead th {\n",
       "        text-align: right;\n",
       "    }\n",
       "</style>\n",
       "<table border=\"1\" class=\"dataframe\">\n",
       "  <thead>\n",
       "    <tr style=\"text-align: right;\">\n",
       "      <th></th>\n",
       "      <th>id</th>\n",
       "      <th>bedrooms</th>\n",
       "      <th>bathrooms</th>\n",
       "      <th>sqft_living</th>\n",
       "      <th>sqft_lot</th>\n",
       "      <th>floors</th>\n",
       "      <th>waterfront</th>\n",
       "      <th>view</th>\n",
       "      <th>condition</th>\n",
       "      <th>grade</th>\n",
       "      <th>sqft_above</th>\n",
       "      <th>sqft_basement</th>\n",
       "      <th>yr_built</th>\n",
       "      <th>yr_renovated</th>\n",
       "      <th>zipcode</th>\n",
       "      <th>lat</th>\n",
       "      <th>long</th>\n",
       "      <th>sqft_living15</th>\n",
       "      <th>sqft_lot15</th>\n",
       "      <th>date</th>\n",
       "      <th>price</th>\n",
       "      <th>sales_id</th>\n",
       "    </tr>\n",
       "  </thead>\n",
       "  <tbody>\n",
       "    <tr>\n",
       "      <th>7195</th>\n",
       "      <td>8901000143</td>\n",
       "      <td>4.0</td>\n",
       "      <td>4.5</td>\n",
       "      <td>2690.0</td>\n",
       "      <td>7350.0</td>\n",
       "      <td>1.5</td>\n",
       "      <td>0.0</td>\n",
       "      <td>0.0</td>\n",
       "      <td>5</td>\n",
       "      <td>7</td>\n",
       "      <td>2690.0</td>\n",
       "      <td>0.0</td>\n",
       "      <td>1949</td>\n",
       "      <td>0.0</td>\n",
       "      <td>98125</td>\n",
       "      <td>47.7062</td>\n",
       "      <td>-122.311</td>\n",
       "      <td>1660.0</td>\n",
       "      <td>9000.0</td>\n",
       "      <td>2014-11-25</td>\n",
       "      <td>500000.0</td>\n",
       "      <td>7196</td>\n",
       "    </tr>\n",
       "    <tr>\n",
       "      <th>8608</th>\n",
       "      <td>5379801972</td>\n",
       "      <td>5.0</td>\n",
       "      <td>4.0</td>\n",
       "      <td>1400.0</td>\n",
       "      <td>8580.0</td>\n",
       "      <td>1.0</td>\n",
       "      <td>0.0</td>\n",
       "      <td>0.0</td>\n",
       "      <td>5</td>\n",
       "      <td>7</td>\n",
       "      <td>900.0</td>\n",
       "      <td>500.0</td>\n",
       "      <td>1954</td>\n",
       "      <td>0.0</td>\n",
       "      <td>98188</td>\n",
       "      <td>47.4560</td>\n",
       "      <td>-122.292</td>\n",
       "      <td>1220.0</td>\n",
       "      <td>8832.0</td>\n",
       "      <td>2014-08-18</td>\n",
       "      <td>265000.0</td>\n",
       "      <td>8609</td>\n",
       "    </tr>\n",
       "    <tr>\n",
       "      <th>12401</th>\n",
       "      <td>6087100070</td>\n",
       "      <td>4.0</td>\n",
       "      <td>4.0</td>\n",
       "      <td>2290.0</td>\n",
       "      <td>6250.0</td>\n",
       "      <td>1.5</td>\n",
       "      <td>0.0</td>\n",
       "      <td>0.0</td>\n",
       "      <td>5</td>\n",
       "      <td>7</td>\n",
       "      <td>1690.0</td>\n",
       "      <td>600.0</td>\n",
       "      <td>1940</td>\n",
       "      <td>0.0</td>\n",
       "      <td>98116</td>\n",
       "      <td>47.5824</td>\n",
       "      <td>-122.384</td>\n",
       "      <td>1920.0</td>\n",
       "      <td>4335.0</td>\n",
       "      <td>2014-05-23</td>\n",
       "      <td>661254.0</td>\n",
       "      <td>12402</td>\n",
       "    </tr>\n",
       "    <tr>\n",
       "      <th>15346</th>\n",
       "      <td>1175000280</td>\n",
       "      <td>4.0</td>\n",
       "      <td>4.0</td>\n",
       "      <td>1550.0</td>\n",
       "      <td>6596.0</td>\n",
       "      <td>1.5</td>\n",
       "      <td>0.0</td>\n",
       "      <td>0.0</td>\n",
       "      <td>5</td>\n",
       "      <td>7</td>\n",
       "      <td>1550.0</td>\n",
       "      <td>0.0</td>\n",
       "      <td>1907</td>\n",
       "      <td>0.0</td>\n",
       "      <td>98107</td>\n",
       "      <td>47.6711</td>\n",
       "      <td>-122.398</td>\n",
       "      <td>1830.0</td>\n",
       "      <td>4850.0</td>\n",
       "      <td>2014-11-07</td>\n",
       "      <td>707500.0</td>\n",
       "      <td>15347</td>\n",
       "    </tr>\n",
       "  </tbody>\n",
       "</table>\n",
       "</div>"
      ],
      "text/plain": [
       "               id  bedrooms  bathrooms  sqft_living  sqft_lot  floors  \\\n",
       "7195   8901000143       4.0        4.5       2690.0    7350.0     1.5   \n",
       "8608   5379801972       5.0        4.0       1400.0    8580.0     1.0   \n",
       "12401  6087100070       4.0        4.0       2290.0    6250.0     1.5   \n",
       "15346  1175000280       4.0        4.0       1550.0    6596.0     1.5   \n",
       "\n",
       "       waterfront  view  condition  grade  sqft_above  sqft_basement  \\\n",
       "7195          0.0   0.0          5      7      2690.0            0.0   \n",
       "8608          0.0   0.0          5      7       900.0          500.0   \n",
       "12401         0.0   0.0          5      7      1690.0          600.0   \n",
       "15346         0.0   0.0          5      7      1550.0            0.0   \n",
       "\n",
       "       yr_built  yr_renovated  zipcode      lat     long  sqft_living15  \\\n",
       "7195       1949           0.0    98125  47.7062 -122.311         1660.0   \n",
       "8608       1954           0.0    98188  47.4560 -122.292         1220.0   \n",
       "12401      1940           0.0    98116  47.5824 -122.384         1920.0   \n",
       "15346      1907           0.0    98107  47.6711 -122.398         1830.0   \n",
       "\n",
       "       sqft_lot15        date     price  sales_id  \n",
       "7195       9000.0  2014-11-25  500000.0      7196  \n",
       "8608       8832.0  2014-08-18  265000.0      8609  \n",
       "12401      4335.0  2014-05-23  661254.0     12402  \n",
       "15346      4850.0  2014-11-07  707500.0     15347  "
      ]
     },
     "execution_count": 17,
     "metadata": {},
     "output_type": "execute_result"
    }
   ],
   "source": [
    "# to get all the rows where grade is highest\n",
    "#df_import[df_import['grade']== 7]\n",
    "df_import.query('grade== 7 and condition ==5 and bathrooms >= 4')"
   ]
  },
  {
   "cell_type": "code",
   "execution_count": 18,
   "metadata": {},
   "outputs": [
    {
     "data": {
      "text/html": [
       "<div>\n",
       "<style scoped>\n",
       "    .dataframe tbody tr th:only-of-type {\n",
       "        vertical-align: middle;\n",
       "    }\n",
       "\n",
       "    .dataframe tbody tr th {\n",
       "        vertical-align: top;\n",
       "    }\n",
       "\n",
       "    .dataframe thead th {\n",
       "        text-align: right;\n",
       "    }\n",
       "</style>\n",
       "<table border=\"1\" class=\"dataframe\">\n",
       "  <thead>\n",
       "    <tr style=\"text-align: right;\">\n",
       "      <th></th>\n",
       "      <th>waterfront</th>\n",
       "      <th>yr_renovated</th>\n",
       "      <th>view</th>\n",
       "      <th>sqft_basement</th>\n",
       "    </tr>\n",
       "  </thead>\n",
       "  <tbody>\n",
       "    <tr>\n",
       "      <th>0.0</th>\n",
       "      <td>19060.0</td>\n",
       "      <td>17005.0</td>\n",
       "      <td>19422.0</td>\n",
       "      <td>12827.0</td>\n",
       "    </tr>\n",
       "    <tr>\n",
       "      <th>1.0</th>\n",
       "      <td>146.0</td>\n",
       "      <td>NaN</td>\n",
       "      <td>330.0</td>\n",
       "      <td>NaN</td>\n",
       "    </tr>\n",
       "    <tr>\n",
       "      <th>2.0</th>\n",
       "      <td>NaN</td>\n",
       "      <td>NaN</td>\n",
       "      <td>957.0</td>\n",
       "      <td>NaN</td>\n",
       "    </tr>\n",
       "    <tr>\n",
       "      <th>3.0</th>\n",
       "      <td>NaN</td>\n",
       "      <td>NaN</td>\n",
       "      <td>508.0</td>\n",
       "      <td>NaN</td>\n",
       "    </tr>\n",
       "    <tr>\n",
       "      <th>4.0</th>\n",
       "      <td>NaN</td>\n",
       "      <td>NaN</td>\n",
       "      <td>317.0</td>\n",
       "      <td>NaN</td>\n",
       "    </tr>\n",
       "    <tr>\n",
       "      <th>...</th>\n",
       "      <td>...</td>\n",
       "      <td>...</td>\n",
       "      <td>...</td>\n",
       "      <td>...</td>\n",
       "    </tr>\n",
       "    <tr>\n",
       "      <th>20110.0</th>\n",
       "      <td>NaN</td>\n",
       "      <td>9.0</td>\n",
       "      <td>NaN</td>\n",
       "      <td>NaN</td>\n",
       "    </tr>\n",
       "    <tr>\n",
       "      <th>20120.0</th>\n",
       "      <td>NaN</td>\n",
       "      <td>8.0</td>\n",
       "      <td>NaN</td>\n",
       "      <td>NaN</td>\n",
       "    </tr>\n",
       "    <tr>\n",
       "      <th>20130.0</th>\n",
       "      <td>NaN</td>\n",
       "      <td>31.0</td>\n",
       "      <td>NaN</td>\n",
       "      <td>NaN</td>\n",
       "    </tr>\n",
       "    <tr>\n",
       "      <th>20140.0</th>\n",
       "      <td>NaN</td>\n",
       "      <td>73.0</td>\n",
       "      <td>NaN</td>\n",
       "      <td>NaN</td>\n",
       "    </tr>\n",
       "    <tr>\n",
       "      <th>20150.0</th>\n",
       "      <td>NaN</td>\n",
       "      <td>14.0</td>\n",
       "      <td>NaN</td>\n",
       "      <td>NaN</td>\n",
       "    </tr>\n",
       "  </tbody>\n",
       "</table>\n",
       "<p>376 rows × 4 columns</p>\n",
       "</div>"
      ],
      "text/plain": [
       "         waterfront  yr_renovated     view  sqft_basement\n",
       "0.0         19060.0       17005.0  19422.0        12827.0\n",
       "1.0           146.0           NaN    330.0            NaN\n",
       "2.0             NaN           NaN    957.0            NaN\n",
       "3.0             NaN           NaN    508.0            NaN\n",
       "4.0             NaN           NaN    317.0            NaN\n",
       "...             ...           ...      ...            ...\n",
       "20110.0         NaN           9.0      NaN            NaN\n",
       "20120.0         NaN           8.0      NaN            NaN\n",
       "20130.0         NaN          31.0      NaN            NaN\n",
       "20140.0         NaN          73.0      NaN            NaN\n",
       "20150.0         NaN          14.0      NaN            NaN\n",
       "\n",
       "[376 rows x 4 columns]"
      ]
     },
     "execution_count": 18,
     "metadata": {},
     "output_type": "execute_result"
    }
   ],
   "source": [
    "#check to zoom the missing values in the columns\n",
    "incomplete_columns = df_import[['waterfront','yr_renovated', 'view', 'sqft_basement']]\n",
    "incomplete_columns.apply(pd.Series.value_counts)"
   ]
  },
  {
   "cell_type": "code",
   "execution_count": 19,
   "metadata": {},
   "outputs": [],
   "source": [
    "#replace null values in the columns to zeros\n",
    "#df2_import['waterfront'].fillna(False, inplace=True) # used to test for df_import\n",
    "#df2_import.loc[df2_import['waterfront']== 1, 'waterfront'] = True\n",
    "#df2_import.loc[df2_import['waterfront']== 0, 'waterfront'] = False\n",
    "df_import['sqft_basement'].fillna(0, inplace=True)\n",
    "df_import['view'].fillna(0, inplace=True)\n",
    "df_import['yr_renovated'].fillna(0, inplace=True)\n",
    "df_import['waterfront'].fillna(0, inplace=True)\n",
    "df_import.loc[df_import['waterfront']== 1, 'waterfront'] = True\n",
    "df_import.loc[df_import['waterfront']== 0, 'waterfront'] = False\n",
    "#df_import.loc[df_import['yr_renovated']== 0, 'yr_renovated'] = 0000\n"
   ]
  },
  {
   "cell_type": "code",
   "execution_count": 20,
   "metadata": {},
   "outputs": [
    {
     "data": {
      "text/plain": [
       "id                 int64\n",
       "bedrooms         float64\n",
       "bathrooms        float64\n",
       "sqft_living      float64\n",
       "sqft_lot         float64\n",
       "floors           float64\n",
       "waterfront        object\n",
       "view             float64\n",
       "condition          int64\n",
       "grade              int64\n",
       "sqft_above       float64\n",
       "sqft_basement    float64\n",
       "yr_built           int64\n",
       "yr_renovated     float64\n",
       "zipcode            int64\n",
       "lat              float64\n",
       "long             float64\n",
       "sqft_living15    float64\n",
       "sqft_lot15       float64\n",
       "date              object\n",
       "price            float64\n",
       "sales_id           int64\n",
       "dtype: object"
      ]
     },
     "execution_count": 20,
     "metadata": {},
     "output_type": "execute_result"
    }
   ],
   "source": [
    "# check datatypes\n",
    "df_import.dtypes"
   ]
  },
  {
   "cell_type": "code",
   "execution_count": 21,
   "metadata": {},
   "outputs": [
    {
     "data": {
      "text/plain": [
       "pandas._libs.tslibs.timestamps.Timestamp"
      ]
     },
     "execution_count": 21,
     "metadata": {},
     "output_type": "execute_result"
    }
   ],
   "source": [
    "# let us convert all the date\n",
    "df_import['date']=pd.to_datetime(df_import['date'],format='%Y/%m/%d')\n",
    "#df_import['yr_renovated']=pd.to_datetime(df_import['yr_renovated'],format='%Y')\n",
    "type(df_import['date'][20])\n",
    "#type(df_import['yr_renovated'][20])"
   ]
  },
  {
   "cell_type": "code",
   "execution_count": 22,
   "metadata": {},
   "outputs": [],
   "source": [
    "# let us convert waterfront to boolean\n",
    "df_import = df_import.astype({'waterfront': bool})"
   ]
  },
  {
   "cell_type": "code",
   "execution_count": 23,
   "metadata": {},
   "outputs": [
    {
     "data": {
      "text/plain": [
       "array([1. , 2. , 1.5, 3. , 2.5, 3.5])"
      ]
     },
     "execution_count": 23,
     "metadata": {},
     "output_type": "execute_result"
    }
   ],
   "source": [
    "df_import['floors'].unique()\n"
   ]
  },
  {
   "cell_type": "code",
   "execution_count": 24,
   "metadata": {},
   "outputs": [
    {
     "data": {
      "text/html": [
       "<div>\n",
       "<style scoped>\n",
       "    .dataframe tbody tr th:only-of-type {\n",
       "        vertical-align: middle;\n",
       "    }\n",
       "\n",
       "    .dataframe tbody tr th {\n",
       "        vertical-align: top;\n",
       "    }\n",
       "\n",
       "    .dataframe thead th {\n",
       "        text-align: right;\n",
       "    }\n",
       "</style>\n",
       "<table border=\"1\" class=\"dataframe\">\n",
       "  <thead>\n",
       "    <tr style=\"text-align: right;\">\n",
       "      <th></th>\n",
       "      <th>waterfront</th>\n",
       "      <th>grades</th>\n",
       "      <th>grade</th>\n",
       "    </tr>\n",
       "  </thead>\n",
       "  <tbody>\n",
       "    <tr>\n",
       "      <th>0</th>\n",
       "      <td>False</td>\n",
       "      <td>average</td>\n",
       "      <td>7</td>\n",
       "    </tr>\n",
       "    <tr>\n",
       "      <th>1</th>\n",
       "      <td>False</td>\n",
       "      <td>average</td>\n",
       "      <td>7</td>\n",
       "    </tr>\n",
       "    <tr>\n",
       "      <th>2</th>\n",
       "      <td>False</td>\n",
       "      <td>low_quality</td>\n",
       "      <td>6</td>\n",
       "    </tr>\n",
       "    <tr>\n",
       "      <th>3</th>\n",
       "      <td>False</td>\n",
       "      <td>average</td>\n",
       "      <td>7</td>\n",
       "    </tr>\n",
       "    <tr>\n",
       "      <th>4</th>\n",
       "      <td>False</td>\n",
       "      <td>above_average</td>\n",
       "      <td>8</td>\n",
       "    </tr>\n",
       "  </tbody>\n",
       "</table>\n",
       "</div>"
      ],
      "text/plain": [
       "   waterfront         grades  grade\n",
       "0       False        average      7\n",
       "1       False        average      7\n",
       "2       False    low_quality      6\n",
       "3       False        average      7\n",
       "4       False  above_average      8"
      ]
     },
     "execution_count": 24,
     "metadata": {},
     "output_type": "execute_result"
    }
   ],
   "source": [
    "# create dictionary called grade with grade as key and the actual category name as value\n",
    "# we get these values from the Google API King county\n",
    "grades = {\n",
    "    3:'poor_quality',\n",
    "    4:'lowest_quality',\n",
    "    5:'lower_quality',\n",
    "    6:'low_quality',\n",
    "    7:'average',\n",
    "    8:'above_average',\n",
    "    9:'better',\n",
    "    10:'high_quality',\n",
    "    11:'higher_quality',\n",
    "    12:'highest_quality',\n",
    "    13:'highest_mansion',\n",
    "}\n",
    "df_import['grades'] = df_import['grade'].map(grades)\n",
    "df_import[['waterfront','grades','grade']].head()\n"
   ]
  },
  {
   "cell_type": "code",
   "execution_count": 25,
   "metadata": {},
   "outputs": [],
   "source": [
    "#df_import_waterfront = df_import[df_import.waterfront== False]\n",
    "#geo_map = px.scatter_geo (df_import, # Main argument: The Dataframe\n",
    "                        #lat = \"lat\", # Y - Coordinate: Column from the df\n",
    "                        #lon = \"long\", scope='north america' ,color='waterfront', hover_name='price', title='Geo_map_for my client')\n",
    "#geo_map\n",
    "#df_import_waterfront.head()"
   ]
  },
  {
   "cell_type": "code",
   "execution_count": 26,
   "metadata": {},
   "outputs": [
    {
     "data": {
      "text/plain": [
       "Index(['id', 'bedrooms', 'bathrooms', 'sqft_living', 'sqft_lot', 'floors',\n",
       "       'waterfront', 'view', 'condition', 'grade', 'sqft_above',\n",
       "       'sqft_basement', 'yr_built', 'yr_renovated', 'zipcode', 'lat', 'long',\n",
       "       'sqft_living15', 'sqft_lot15', 'date', 'price', 'sales_id', 'grades'],\n",
       "      dtype='object')"
      ]
     },
     "execution_count": 26,
     "metadata": {},
     "output_type": "execute_result"
    }
   ],
   "source": [
    "df_import.columns"
   ]
  },
  {
   "cell_type": "code",
   "execution_count": 27,
   "metadata": {},
   "outputs": [],
   "source": [
    "df_Jakob = df_import[['sales_id','sqft_living','sqft_lot','floors','bedrooms', 'bathrooms', 'waterfront','price','view','condition','grades','yr_built','zipcode', 'lat', 'long',]]"
   ]
  },
  {
   "cell_type": "code",
   "execution_count": 28,
   "metadata": {},
   "outputs": [
    {
     "data": {
      "text/html": [
       "<div>\n",
       "<style scoped>\n",
       "    .dataframe tbody tr th:only-of-type {\n",
       "        vertical-align: middle;\n",
       "    }\n",
       "\n",
       "    .dataframe tbody tr th {\n",
       "        vertical-align: top;\n",
       "    }\n",
       "\n",
       "    .dataframe thead th {\n",
       "        text-align: right;\n",
       "    }\n",
       "</style>\n",
       "<table border=\"1\" class=\"dataframe\">\n",
       "  <thead>\n",
       "    <tr style=\"text-align: right;\">\n",
       "      <th></th>\n",
       "      <th>sales_id</th>\n",
       "      <th>sqft_living</th>\n",
       "      <th>sqft_lot</th>\n",
       "      <th>floors</th>\n",
       "      <th>bedrooms</th>\n",
       "      <th>bathrooms</th>\n",
       "      <th>waterfront</th>\n",
       "      <th>price</th>\n",
       "      <th>view</th>\n",
       "      <th>condition</th>\n",
       "      <th>grades</th>\n",
       "      <th>yr_built</th>\n",
       "      <th>zipcode</th>\n",
       "      <th>lat</th>\n",
       "      <th>long</th>\n",
       "    </tr>\n",
       "  </thead>\n",
       "  <tbody>\n",
       "    <tr>\n",
       "      <th>5</th>\n",
       "      <td>6</td>\n",
       "      <td>5420.0</td>\n",
       "      <td>101930.0</td>\n",
       "      <td>1.0</td>\n",
       "      <td>4.0</td>\n",
       "      <td>4.50</td>\n",
       "      <td>False</td>\n",
       "      <td>1230000.0</td>\n",
       "      <td>0.0</td>\n",
       "      <td>3</td>\n",
       "      <td>higher_quality</td>\n",
       "      <td>2001</td>\n",
       "      <td>98053</td>\n",
       "      <td>47.6561</td>\n",
       "      <td>-122.005</td>\n",
       "    </tr>\n",
       "    <tr>\n",
       "      <th>75</th>\n",
       "      <td>76</td>\n",
       "      <td>3430.0</td>\n",
       "      <td>35102.0</td>\n",
       "      <td>2.0</td>\n",
       "      <td>4.0</td>\n",
       "      <td>4.00</td>\n",
       "      <td>False</td>\n",
       "      <td>832500.0</td>\n",
       "      <td>0.0</td>\n",
       "      <td>4</td>\n",
       "      <td>high_quality</td>\n",
       "      <td>1986</td>\n",
       "      <td>98075</td>\n",
       "      <td>47.5822</td>\n",
       "      <td>-121.987</td>\n",
       "    </tr>\n",
       "    <tr>\n",
       "      <th>235</th>\n",
       "      <td>236</td>\n",
       "      <td>3760.0</td>\n",
       "      <td>28040.0</td>\n",
       "      <td>2.0</td>\n",
       "      <td>5.0</td>\n",
       "      <td>4.00</td>\n",
       "      <td>False</td>\n",
       "      <td>1030000.0</td>\n",
       "      <td>0.0</td>\n",
       "      <td>3</td>\n",
       "      <td>high_quality</td>\n",
       "      <td>1983</td>\n",
       "      <td>98033</td>\n",
       "      <td>47.6489</td>\n",
       "      <td>-122.183</td>\n",
       "    </tr>\n",
       "    <tr>\n",
       "      <th>270</th>\n",
       "      <td>271</td>\n",
       "      <td>5310.0</td>\n",
       "      <td>57346.0</td>\n",
       "      <td>2.0</td>\n",
       "      <td>4.0</td>\n",
       "      <td>4.75</td>\n",
       "      <td>False</td>\n",
       "      <td>1370000.0</td>\n",
       "      <td>0.0</td>\n",
       "      <td>4</td>\n",
       "      <td>higher_quality</td>\n",
       "      <td>1989</td>\n",
       "      <td>98077</td>\n",
       "      <td>47.7285</td>\n",
       "      <td>-122.042</td>\n",
       "    </tr>\n",
       "    <tr>\n",
       "      <th>300</th>\n",
       "      <td>301</td>\n",
       "      <td>4550.0</td>\n",
       "      <td>18641.0</td>\n",
       "      <td>1.0</td>\n",
       "      <td>4.0</td>\n",
       "      <td>5.00</td>\n",
       "      <td>True</td>\n",
       "      <td>3080000.0</td>\n",
       "      <td>4.0</td>\n",
       "      <td>3</td>\n",
       "      <td>high_quality</td>\n",
       "      <td>2002</td>\n",
       "      <td>98074</td>\n",
       "      <td>47.6053</td>\n",
       "      <td>-122.077</td>\n",
       "    </tr>\n",
       "    <tr>\n",
       "      <th>...</th>\n",
       "      <td>...</td>\n",
       "      <td>...</td>\n",
       "      <td>...</td>\n",
       "      <td>...</td>\n",
       "      <td>...</td>\n",
       "      <td>...</td>\n",
       "      <td>...</td>\n",
       "      <td>...</td>\n",
       "      <td>...</td>\n",
       "      <td>...</td>\n",
       "      <td>...</td>\n",
       "      <td>...</td>\n",
       "      <td>...</td>\n",
       "      <td>...</td>\n",
       "      <td>...</td>\n",
       "    </tr>\n",
       "    <tr>\n",
       "      <th>21504</th>\n",
       "      <td>21505</td>\n",
       "      <td>4920.0</td>\n",
       "      <td>50621.0</td>\n",
       "      <td>2.0</td>\n",
       "      <td>4.0</td>\n",
       "      <td>4.00</td>\n",
       "      <td>False</td>\n",
       "      <td>1410000.0</td>\n",
       "      <td>0.0</td>\n",
       "      <td>3</td>\n",
       "      <td>high_quality</td>\n",
       "      <td>2012</td>\n",
       "      <td>98053</td>\n",
       "      <td>47.6575</td>\n",
       "      <td>-122.006</td>\n",
       "    </tr>\n",
       "    <tr>\n",
       "      <th>21516</th>\n",
       "      <td>21517</td>\n",
       "      <td>4420.0</td>\n",
       "      <td>16526.0</td>\n",
       "      <td>2.0</td>\n",
       "      <td>4.0</td>\n",
       "      <td>4.00</td>\n",
       "      <td>False</td>\n",
       "      <td>1330000.0</td>\n",
       "      <td>0.0</td>\n",
       "      <td>3</td>\n",
       "      <td>higher_quality</td>\n",
       "      <td>2013</td>\n",
       "      <td>98075</td>\n",
       "      <td>47.5914</td>\n",
       "      <td>-122.027</td>\n",
       "    </tr>\n",
       "    <tr>\n",
       "      <th>21535</th>\n",
       "      <td>21536</td>\n",
       "      <td>4350.0</td>\n",
       "      <td>13405.0</td>\n",
       "      <td>2.0</td>\n",
       "      <td>5.0</td>\n",
       "      <td>4.50</td>\n",
       "      <td>False</td>\n",
       "      <td>1380000.0</td>\n",
       "      <td>0.0</td>\n",
       "      <td>3</td>\n",
       "      <td>higher_quality</td>\n",
       "      <td>2014</td>\n",
       "      <td>98074</td>\n",
       "      <td>47.6018</td>\n",
       "      <td>-122.060</td>\n",
       "    </tr>\n",
       "    <tr>\n",
       "      <th>21545</th>\n",
       "      <td>21546</td>\n",
       "      <td>4500.0</td>\n",
       "      <td>8130.0</td>\n",
       "      <td>2.0</td>\n",
       "      <td>5.0</td>\n",
       "      <td>4.00</td>\n",
       "      <td>False</td>\n",
       "      <td>750000.0</td>\n",
       "      <td>0.0</td>\n",
       "      <td>3</td>\n",
       "      <td>high_quality</td>\n",
       "      <td>2007</td>\n",
       "      <td>98059</td>\n",
       "      <td>47.4832</td>\n",
       "      <td>-122.145</td>\n",
       "    </tr>\n",
       "    <tr>\n",
       "      <th>21560</th>\n",
       "      <td>21561</td>\n",
       "      <td>4850.0</td>\n",
       "      <td>10584.0</td>\n",
       "      <td>2.0</td>\n",
       "      <td>5.0</td>\n",
       "      <td>4.50</td>\n",
       "      <td>True</td>\n",
       "      <td>3570000.0</td>\n",
       "      <td>4.0</td>\n",
       "      <td>3</td>\n",
       "      <td>high_quality</td>\n",
       "      <td>2007</td>\n",
       "      <td>98008</td>\n",
       "      <td>47.5943</td>\n",
       "      <td>-122.110</td>\n",
       "    </tr>\n",
       "  </tbody>\n",
       "</table>\n",
       "<p>402 rows × 15 columns</p>\n",
       "</div>"
      ],
      "text/plain": [
       "       sales_id  sqft_living  sqft_lot  floors  bedrooms  bathrooms  \\\n",
       "5             6       5420.0  101930.0     1.0       4.0       4.50   \n",
       "75           76       3430.0   35102.0     2.0       4.0       4.00   \n",
       "235         236       3760.0   28040.0     2.0       5.0       4.00   \n",
       "270         271       5310.0   57346.0     2.0       4.0       4.75   \n",
       "300         301       4550.0   18641.0     1.0       4.0       5.00   \n",
       "...         ...          ...       ...     ...       ...        ...   \n",
       "21504     21505       4920.0   50621.0     2.0       4.0       4.00   \n",
       "21516     21517       4420.0   16526.0     2.0       4.0       4.00   \n",
       "21535     21536       4350.0   13405.0     2.0       5.0       4.50   \n",
       "21545     21546       4500.0    8130.0     2.0       5.0       4.00   \n",
       "21560     21561       4850.0   10584.0     2.0       5.0       4.50   \n",
       "\n",
       "       waterfront      price  view  condition          grades  yr_built  \\\n",
       "5           False  1230000.0   0.0          3  higher_quality      2001   \n",
       "75          False   832500.0   0.0          4    high_quality      1986   \n",
       "235         False  1030000.0   0.0          3    high_quality      1983   \n",
       "270         False  1370000.0   0.0          4  higher_quality      1989   \n",
       "300          True  3080000.0   4.0          3    high_quality      2002   \n",
       "...           ...        ...   ...        ...             ...       ...   \n",
       "21504       False  1410000.0   0.0          3    high_quality      2012   \n",
       "21516       False  1330000.0   0.0          3  higher_quality      2013   \n",
       "21535       False  1380000.0   0.0          3  higher_quality      2014   \n",
       "21545       False   750000.0   0.0          3    high_quality      2007   \n",
       "21560        True  3570000.0   4.0          3    high_quality      2007   \n",
       "\n",
       "       zipcode      lat     long  \n",
       "5        98053  47.6561 -122.005  \n",
       "75       98075  47.5822 -121.987  \n",
       "235      98033  47.6489 -122.183  \n",
       "270      98077  47.7285 -122.042  \n",
       "300      98074  47.6053 -122.077  \n",
       "...        ...      ...      ...  \n",
       "21504    98053  47.6575 -122.006  \n",
       "21516    98075  47.5914 -122.027  \n",
       "21535    98074  47.6018 -122.060  \n",
       "21545    98059  47.4832 -122.145  \n",
       "21560    98008  47.5943 -122.110  \n",
       "\n",
       "[402 rows x 15 columns]"
      ]
     },
     "execution_count": 28,
     "metadata": {},
     "output_type": "execute_result"
    }
   ],
   "source": [
    "df_Jakob1 = df_Jakob[df_Jakob.bathrooms >= 4]\n",
    "df_Jakob1"
   ]
  },
  {
   "cell_type": "code",
   "execution_count": 29,
   "metadata": {},
   "outputs": [
    {
     "data": {
      "application/vnd.plotly.v1+json": {
       "config": {
        "plotlyServerURL": "https://plot.ly"
       },
       "data": [
        {
         "customdata": [
          [
           4,
           4.5,
           5420,
           101930,
           1
          ],
          [
           4,
           4,
           3430,
           35102,
           2
          ],
          [
           5,
           4,
           3760,
           28040,
           2
          ],
          [
           4,
           4.75,
           5310,
           57346,
           2
          ],
          [
           4,
           5,
           4550,
           18641,
           1
          ],
          [
           5,
           4.25,
           6070,
           171626,
           2
          ],
          [
           3,
           4.5,
           3970,
           24920,
           2
          ],
          [
           3,
           4.25,
           3840,
           6161,
           2
          ],
          [
           6,
           5,
           6050,
           230652,
           2
          ],
          [
           4,
           4,
           3200,
           7708,
           2
          ],
          [
           4,
           4,
           6050,
           84942,
           2.5
          ],
          [
           5,
           4.25,
           4860,
           9453,
           1.5
          ],
          [
           4,
           4.25,
           4890,
           15188,
           2
          ],
          [
           4,
           4.25,
           4250,
           6552,
           2
          ],
          [
           4,
           4.5,
           5670,
           84267,
           2
          ],
          [
           5,
           4.5,
           6070,
           14731,
           2
          ],
          [
           5,
           4.5,
           4300,
           12250,
           2
          ],
          [
           4,
           4,
           4390,
           17832,
           1
          ],
          [
           6,
           4.5,
           2940,
           7500,
           1.5
          ],
          [
           5,
           5.25,
           8010,
           45517,
           2
          ],
          [
           4,
           4,
           4460,
           103382,
           2
          ],
          [
           5,
           4.5,
           3732,
           4426,
           2.5
          ],
          [
           3,
           4.5,
           4380,
           47044,
           2
          ],
          [
           4,
           4.25,
           4930,
           25714,
           2
          ],
          [
           6,
           6,
           7390,
           24829,
           2
          ],
          [
           5,
           4.25,
           4640,
           22703,
           2
          ],
          [
           4,
           4,
           5320,
           20041,
           2
          ],
          [
           5,
           4.75,
           3830,
           35000,
           1
          ],
          [
           5,
           5,
           8000,
           23985,
           2
          ],
          [
           8,
           5,
           2800,
           2580,
           2
          ],
          [
           5,
           4.25,
           4830,
           11466,
           2
          ],
          [
           4,
           4,
           3570,
           8250,
           2
          ],
          [
           4,
           4.25,
           5710,
           24663,
           2
          ],
          [
           5,
           4.5,
           5620,
           5800,
           3
          ],
          [
           4,
           4,
           3280,
           8448,
           2
          ],
          [
           5,
           5,
           5774,
           31675,
           1
          ],
          [
           6,
           4,
           4470,
           17877,
           3
          ],
          [
           3,
           4.25,
           2820,
           7200,
           2
          ],
          [
           5,
           4,
           3600,
           14720,
           1
          ],
          [
           4,
           4.25,
           5040,
           16048,
           1
          ],
          [
           4,
           4.25,
           5770,
           21300,
           2
          ],
          [
           5,
           4.5,
           4030,
           13474,
           2
          ],
          [
           4,
           4,
           3010,
           7221,
           2
          ],
          [
           4,
           5,
           6055,
           21630,
           1
          ],
          [
           5,
           4,
           6300,
           16065,
           2
          ],
          [
           6,
           5,
           3440,
           4500,
           2
          ],
          [
           5,
           5,
           4930,
           14649,
           2
          ],
          [
           5,
           4.5,
           5130,
           43123,
           2
          ],
          [
           5,
           5.5,
           6640,
           40014,
           2
          ],
          [
           4,
           4.25,
           3770,
           13058,
           2
          ],
          [
           4,
           4,
           3770,
           9750,
           1
          ],
          [
           6,
           4.5,
           5740,
           10312,
           2
          ],
          [
           4,
           4.5,
           3080,
           10550,
           2
          ],
          [
           4,
           5.5,
           6930,
           45100,
           1
          ],
          [
           4,
           4.25,
           4070,
           13860,
           2
          ],
          [
           4,
           5.5,
           6550,
           217374,
           1
          ],
          [
           4,
           5.25,
           6110,
           10369,
           2
          ],
          [
           4,
           4.25,
           4883,
           26040,
           2
          ],
          [
           5,
           4,
           4660,
           9900,
           2
          ],
          [
           5,
           4.5,
           2120,
           8944,
           2
          ],
          [
           4,
           4.25,
           2360,
           57514,
           2
          ],
          [
           4,
           4.5,
           3890,
           5906,
           2
          ],
          [
           5,
           4.75,
           5410,
           13431,
           2
          ],
          [
           4,
           4.5,
           3780,
           6000,
           2
          ],
          [
           4,
           4.25,
           3010,
           4887,
           2
          ],
          [
           4,
           4,
           2680,
           6000,
           1
          ],
          [
           4,
           4.75,
           5230,
           89298,
           2.5
          ],
          [
           7,
           4.75,
           5370,
           10800,
           1.5
          ],
          [
           5,
           4.5,
           4140,
           7924,
           2
          ],
          [
           5,
           4,
           4430,
           9000,
           2
          ],
          [
           5,
           4,
           3310,
           8400,
           2
          ],
          [
           4,
           4,
           5780,
           7173,
           2
          ],
          [
           5,
           4.75,
           6240,
           47480,
           1
          ],
          [
           5,
           4.5,
           10040,
           37325,
           2
          ],
          [
           7,
           6.75,
           7480,
           41664,
           2
          ],
          [
           8,
           6,
           4340,
           9415,
           2
          ],
          [
           9,
           4.5,
           3830,
           6988,
           2.5
          ],
          [
           4,
           5.5,
           7080,
           16573,
           2
          ],
          [
           6,
           4.5,
           3902,
           3880,
           3
          ],
          [
           4,
           4,
           4000,
           9309,
           2
          ],
          [
           4,
           4.25,
           3500,
           8750,
           1
          ],
          [
           5,
           5.75,
           9200,
           35069,
           2
          ],
          [
           3,
           4,
           4380,
           42769,
           2
          ],
          [
           5,
           4,
           4580,
           4443,
           3
          ],
          [
           6,
           4,
           5310,
           12741,
           2
          ],
          [
           6,
           5.25,
           3600,
           3960,
           2
          ],
          [
           5,
           4.75,
           5180,
           17811,
           2
          ],
          [
           4,
           4,
           4050,
           9517,
           2
          ],
          [
           6,
           4.25,
           3100,
           9378,
           3
          ],
          [
           5,
           4,
           4690,
           8208,
           2
          ],
          [
           4,
           4,
           2850,
           2970,
           2
          ],
          [
           4,
           5.25,
           4140,
           14757,
           2
          ],
          [
           4,
           4.5,
           4750,
           13912,
           2
          ],
          [
           6,
           5,
           2850,
           6600,
           2
          ],
          [
           4,
           4.5,
           4060,
           10800,
           2
          ],
          [
           4,
           4,
           5040,
           17208,
           1
          ],
          [
           5,
           4,
           3460,
           5400,
           2
          ],
          [
           5,
           4.75,
           6390,
           13180,
           2
          ],
          [
           4,
           4.25,
           4720,
           21000,
           3
          ],
          [
           5,
           5,
           5450,
           20412,
           2
          ],
          [
           3,
           4,
           4160,
           31796,
           2
          ],
          [
           4,
           4.25,
           6410,
           43838,
           2.5
          ],
          [
           4,
           4,
           6330,
           13296,
           2
          ],
          [
           6,
           4,
           3600,
           6224,
           2
          ],
          [
           9,
           4.5,
           3650,
           5000,
           2
          ],
          [
           5,
           4.75,
           5990,
           10450,
           2
          ],
          [
           5,
           4,
           2980,
           4500,
           1.5
          ],
          [
           5,
           4,
           2980,
           4500,
           1.5
          ],
          [
           4,
           4,
           3610,
           12811,
           2
          ],
          [
           5,
           4.5,
           4440,
           9784,
           2
          ],
          [
           3,
           4.5,
           3950,
           6134,
           2
          ],
          [
           4,
           5.75,
           7220,
           223462,
           2
          ],
          [
           6,
           4.75,
           5480,
           19401,
           1.5
          ],
          [
           4,
           4,
           4500,
           11795,
           2
          ],
          [
           5,
           4,
           3400,
           5000,
           2
          ],
          [
           5,
           4.25,
           4650,
           108464,
           2
          ],
          [
           4,
           4.25,
           5180,
           13077,
           2
          ],
          [
           4,
           4.5,
           4490,
           24767,
           2
          ],
          [
           5,
           5.5,
           7050,
           42840,
           1
          ],
          [
           3,
           4,
           2550,
           3900,
           2
          ],
          [
           5,
           4.5,
           3100,
           7260,
           2
          ],
          [
           7,
           4.5,
           6210,
           8856,
           2.5
          ],
          [
           4,
           4,
           4270,
           6002,
           2
          ],
          [
           4,
           4.5,
           2690,
           7350,
           1.5
          ],
          [
           5,
           4.25,
           4230,
           6907,
           2
          ],
          [
           6,
           8,
           12050,
           27600,
           2.5
          ],
          [
           6,
           4.25,
           5480,
           189050,
           2
          ],
          [
           4,
           4,
           3330,
           24354,
           1
          ],
          [
           6,
           4.5,
           4800,
           9097,
           2
          ],
          [
           4,
           4.5,
           5250,
           48352,
           2
          ],
          [
           6,
           4.5,
           3300,
           7561,
           2
          ],
          [
           6,
           4.5,
           4230,
           6420,
           2
          ],
          [
           6,
           4,
           5330,
           18116,
           2
          ],
          [
           5,
           4.25,
           3920,
           16258,
           2
          ],
          [
           6,
           5,
           7100,
           18200,
           2.5
          ],
          [
           3,
           4.5,
           5230,
           17826,
           2
          ],
          [
           5,
           4.25,
           3380,
           7805,
           2
          ],
          [
           5,
           4.5,
           3820,
           5750,
           2
          ],
          [
           5,
           6.75,
           9640,
           13068,
           1
          ],
          [
           7,
           4,
           3150,
           7800,
           2
          ],
          [
           4,
           4.5,
           5030,
           11023,
           2
          ],
          [
           4,
           4.25,
           5660,
           193593,
           2
          ],
          [
           6,
           4.5,
           3560,
           14010,
           2
          ],
          [
           7,
           4,
           3150,
           34830,
           1
          ],
          [
           9,
           7.5,
           4050,
           6504,
           2
          ],
          [
           5,
           4,
           1400,
           8580,
           1
          ],
          [
           5,
           4,
           4460,
           269345,
           2
          ],
          [
           5,
           4,
           2900,
           9779,
           2
          ],
          [
           4,
           4.25,
           1960,
           3565,
           2
          ],
          [
           6,
           4.5,
           2810,
           11214,
           1
          ],
          [
           5,
           4.25,
           4420,
           13497,
           2
          ],
          [
           6,
           4.25,
           5720,
           10213,
           2
          ],
          [
           6,
           4.5,
           3500,
           8504,
           2
          ],
          [
           6,
           4.5,
           3500,
           8504,
           2
          ],
          [
           4,
           4.25,
           5584,
           68257,
           2
          ],
          [
           6,
           7.75,
           9890,
           31374,
           2
          ],
          [
           5,
           4.25,
           3970,
           4500,
           2
          ],
          [
           6,
           4.75,
           5770,
           16747,
           2
          ],
          [
           3,
           4,
           2080,
           2250,
           3
          ],
          [
           3,
           4,
           2080,
           2250,
           3
          ],
          [
           4,
           4.25,
           5540,
           15408,
           2
          ],
          [
           4,
           4,
           5050,
           202554,
           2
          ],
          [
           4,
           4,
           3530,
           8400,
           2
          ],
          [
           5,
           4.5,
           5220,
           67319,
           2
          ],
          [
           5,
           4.25,
           4830,
           8050,
           2.5
          ],
          [
           8,
           4,
           4020,
           7500,
           1
          ],
          [
           5,
           4.5,
           4850,
           40902,
           2
          ],
          [
           4,
           4.25,
           4480,
           5715,
           2
          ],
          [
           6,
           4,
           2280,
           5275,
           1
          ],
          [
           4,
           4.25,
           5860,
           52889,
           2
          ],
          [
           7,
           4,
           2960,
           2665,
           2
          ],
          [
           3,
           4,
           3910,
           5350,
           2
          ],
          [
           4,
           4,
           5545,
           871200,
           2
          ],
          [
           7,
           4,
           3440,
           8100,
           2
          ],
          [
           6,
           4.5,
           3900,
           9100,
           2
          ],
          [
           3,
           4.25,
           3840,
           9751,
           2
          ],
          [
           5,
           4,
           4420,
           36342,
           2
          ],
          [
           5,
           5,
           5000,
           32909,
           2
          ],
          [
           5,
           4.25,
           6510,
           16471,
           2
          ],
          [
           5,
           4,
           4230,
           27295,
           2
          ],
          [
           7,
           4,
           2690,
           10880,
           1
          ],
          [
           5,
           5.5,
           7400,
           18898,
           2
          ],
          [
           4,
           4,
           4260,
           11765,
           2
          ],
          [
           3,
           4.25,
           3300,
           308080,
           2
          ],
          [
           6,
           4.5,
           3300,
           7200,
           2
          ],
          [
           4,
           4,
           4090,
           51908,
           2
          ],
          [
           4,
           4,
           4320,
           8709,
           2
          ],
          [
           5,
           4.25,
           4720,
           18741,
           2
          ],
          [
           4,
           4,
           5000,
           12941,
           3
          ],
          [
           5,
           4.5,
           6085,
           142725,
           3
          ],
          [
           4,
           4.5,
           6640,
           53330,
           2
          ],
          [
           6,
           4.5,
           3500,
           8504,
           2
          ],
          [
           4,
           4.25,
           4850,
           12445,
           2
          ],
          [
           5,
           4.5,
           4400,
           15580,
           2
          ],
          [
           5,
           4.25,
           3920,
           5823,
           2
          ],
          [
           4,
           4,
           4130,
           5575,
           2
          ],
          [
           5,
           4.5,
           3810,
           8019,
           2
          ],
          [
           6,
           4.25,
           6900,
           244716,
           2
          ],
          [
           6,
           4.5,
           2750,
           4400,
           2
          ],
          [
           5,
           4.5,
           5840,
           17168,
           2
          ],
          [
           4,
           4.25,
           4980,
           13000,
           2
          ],
          [
           5,
           4,
           4850,
           36450,
           2
          ],
          [
           5,
           4,
           4050,
           11358,
           2
          ],
          [
           6,
           4.5,
           4000,
           7500,
           2
          ],
          [
           4,
           4.5,
           4225,
           284011,
           2
          ],
          [
           5,
           4.25,
           3350,
           3600,
           2
          ],
          [
           5,
           4,
           3366,
           7800,
           2.5
          ],
          [
           4,
           4.75,
           3700,
           11000,
           1
          ],
          [
           5,
           4.5,
           6200,
           23373,
           3
          ],
          [
           4,
           4.5,
           3850,
           13551,
           2
          ],
          [
           6,
           4,
           2700,
           7416,
           1
          ],
          [
           4,
           4,
           5280,
           17677,
           2
          ],
          [
           5,
           6,
           7440,
           21540,
           2
          ],
          [
           4,
           4,
           2290,
           6250,
           1.5
          ],
          [
           5,
           4.25,
           4610,
           13252,
           2
          ],
          [
           6,
           4,
           3020,
           13237,
           2
          ],
          [
           4,
           4.25,
           4285,
           9345,
           2
          ],
          [
           4,
           4,
           4430,
           31353,
           2
          ],
          [
           5,
           4.5,
           4690,
           6705,
           2
          ],
          [
           5,
           4,
           4440,
           9270,
           1
          ],
          [
           7,
           4.5,
           4140,
           9066,
           1
          ],
          [
           7,
           8,
           13540,
           307752,
           3
          ],
          [
           6,
           4.25,
           6980,
           15682,
           3
          ],
          [
           6,
           4,
           3120,
           4240,
           2
          ],
          [
           4,
           4.5,
           3860,
           15246,
           2
          ],
          [
           4,
           4.25,
           4590,
           17621,
           2
          ],
          [
           5,
           5,
           3960,
           94089,
           2
          ],
          [
           10,
           5.25,
           4590,
           10920,
           1
          ],
          [
           4,
           4.5,
           6380,
           88714,
           2
          ],
          [
           4,
           4,
           4550,
           54013,
           1
          ],
          [
           5,
           4.75,
           7880,
           24250,
           2
          ],
          [
           6,
           4,
           3300,
           5720,
           1
          ],
          [
           4,
           4.5,
           5270,
           12195,
           2
          ],
          [
           4,
           4,
           3180,
           7650,
           2
          ],
          [
           5,
           5.5,
           5190,
           12637,
           2
          ],
          [
           5,
           4.75,
           6200,
           13873,
           2
          ],
          [
           3,
           4,
           4200,
           30120,
           2
          ],
          [
           5,
           4,
           5840,
           11652,
           2
          ],
          [
           4,
           4.25,
           5550,
           12968,
           2
          ],
          [
           5,
           4.5,
           4130,
           10404,
           2
          ],
          [
           4,
           4.25,
           5020,
           26319,
           2
          ],
          [
           6,
           4.5,
           5480,
           10800,
           2
          ],
          [
           5,
           6.25,
           8670,
           64033,
           2
          ],
          [
           5,
           4,
           4770,
           31570,
           2
          ],
          [
           4,
           4,
           4930,
           22093,
           2
          ],
          [
           5,
           4.5,
           5160,
           44315,
           2
          ],
          [
           4,
           5,
           4110,
           43560,
           2
          ],
          [
           5,
           4,
           3760,
           22763,
           1
          ],
          [
           5,
           4.5,
           4230,
           9701,
           2
          ],
          [
           5,
           4,
           4780,
           118047,
           2
          ],
          [
           7,
           4.25,
           4670,
           23115,
           2
          ],
          [
           4,
           4.5,
           5770,
           10050,
           1
          ],
          [
           4,
           4,
           3860,
           67953,
           2
          ],
          [
           6,
           4.5,
           6040,
           219542,
           2
          ],
          [
           7,
           4.75,
           5310,
           8816,
           2
          ],
          [
           4,
           4.75,
           4790,
           25412,
           2
          ],
          [
           4,
           4,
           2530,
           1774,
           3
          ],
          [
           4,
           4,
           1550,
           6596,
           1.5
          ],
          [
           4,
           4.75,
           3970,
           9778,
           2
          ],
          [
           5,
           5.25,
           4830,
           18707,
           2
          ],
          [
           7,
           5.75,
           3700,
           7647,
           2
          ],
          [
           6,
           4.5,
           3830,
           4800,
           3
          ],
          [
           4,
           5,
           5310,
           16909,
           1
          ],
          [
           6,
           4.5,
           3300,
           7480,
           2
          ],
          [
           4,
           5,
           4630,
           24054,
           2
          ],
          [
           4,
           4.5,
           4510,
           12873,
           2
          ],
          [
           5,
           4.25,
           3530,
           7924,
           2
          ],
          [
           4,
           4.25,
           4390,
           13833,
           2
          ],
          [
           4,
           4,
           3680,
           18804,
           2
          ],
          [
           4,
           4,
           2790,
           16117,
           2
          ],
          [
           6,
           4.25,
           5860,
           13928,
           2
          ],
          [
           4,
           5,
           5810,
           7440,
           2
          ],
          [
           5,
           4,
           4700,
           22326,
           2
          ],
          [
           4,
           4,
           2630,
           59586,
           1
          ],
          [
           6,
           4,
           5110,
           7128,
           2.5
          ],
          [
           5,
           5.75,
           7730,
           230868,
           2
          ],
          [
           6,
           5.25,
           2860,
           5682,
           2
          ],
          [
           4,
           4.5,
           4300,
           19844,
           2
          ],
          [
           9,
           4,
           4620,
           5508,
           2.5
          ],
          [
           5,
           4,
           5610,
           22529,
           2
          ],
          [
           5,
           5.25,
           5090,
           23669,
           2
          ],
          [
           4,
           4.5,
           4240,
           13162,
           2
          ],
          [
           5,
           4,
           3720,
           15200,
           2
          ],
          [
           5,
           4.25,
           4050,
           18827,
           1
          ],
          [
           5,
           4,
           4070,
           11334,
           2
          ],
          [
           3,
           4.25,
           5150,
           7800,
           2.5
          ],
          [
           4,
           4.5,
           3420,
           7440,
           3
          ],
          [
           5,
           4,
           2710,
           2800,
           3
          ],
          [
           4,
           4.25,
           4960,
           6000,
           2.5
          ],
          [
           5,
           4,
           4510,
           15175,
           2
          ],
          [
           5,
           4.25,
           3920,
           11412,
           2
          ],
          [
           4,
           4.5,
           3180,
           4606,
           2
          ],
          [
           5,
           4.25,
           5040,
           9466,
           2
          ],
          [
           3,
           4,
           5120,
           4600,
           3
          ],
          [
           6,
           4.5,
           3810,
           28176,
           1
          ],
          [
           4,
           4,
           3530,
           10935,
           2
          ],
          [
           4,
           4.5,
           5550,
           16065,
           2
          ],
          [
           4,
           5.25,
           6500,
           14986,
           2
          ],
          [
           4,
           4,
           2740,
           8250,
           2
          ],
          [
           3,
           4,
           1390,
           1569,
           2
          ],
          [
           5,
           4.5,
           5190,
           23716,
           2
          ],
          [
           5,
           4.5,
           4820,
           13165,
           2
          ],
          [
           4,
           5.25,
           5240,
           320917,
           2
          ],
          [
           5,
           6.25,
           8020,
           21738,
           2
          ],
          [
           5,
           4,
           4390,
           6656,
           2
          ],
          [
           4,
           4.75,
           4575,
           24085,
           2.5
          ],
          [
           6,
           4.75,
           5540,
           7200,
           2.5
          ],
          [
           4,
           5,
           5820,
           13906,
           2
          ],
          [
           4,
           5.25,
           4670,
           43950,
           2
          ],
          [
           7,
           4.5,
           4290,
           37607,
           1.5
          ],
          [
           8,
           4,
           7710,
           11750,
           3.5
          ],
          [
           5,
           4,
           4280,
           11307,
           2
          ],
          [
           5,
           4,
           7320,
           217800,
           2
          ],
          [
           5,
           4.5,
           3540,
           21217,
           2
          ],
          [
           4,
           4,
           4690,
           6900,
           2
          ],
          [
           7,
           5.5,
           6630,
           13782,
           2
          ],
          [
           3,
           4.25,
           5510,
           35000,
           2
          ],
          [
           5,
           4,
           4720,
           493534,
           2
          ],
          [
           4,
           4.25,
           3250,
           11780,
           2
          ],
          [
           5,
           6,
           5490,
           19897,
           2
          ],
          [
           5,
           4.25,
           6490,
           10862,
           2
          ],
          [
           4,
           4.25,
           3650,
           5328,
           1.5
          ],
          [
           7,
           4.25,
           3670,
           4000,
           2
          ],
          [
           4,
           4.5,
           3870,
           35889,
           2
          ],
          [
           6,
           4.5,
           4520,
           40164,
           2
          ],
          [
           4,
           4,
           4360,
           12081,
           2
          ],
          [
           5,
           4,
           4180,
           7232,
           2
          ],
          [
           6,
           5,
           3028,
           18055,
           2
          ],
          [
           6,
           4.25,
           4310,
           10000,
           2
          ],
          [
           4,
           4,
           4168,
           8485,
           2
          ],
          [
           5,
           4.5,
           4630,
           6324,
           2
          ],
          [
           4,
           4,
           5610,
           11063,
           3
          ],
          [
           5,
           4,
           3210,
           7200,
           2
          ],
          [
           5,
           4.25,
           4660,
           16200,
           2
          ],
          [
           4,
           4.25,
           3720,
           5750,
           2
          ],
          [
           6,
           4.5,
           3600,
           6110,
           2
          ],
          [
           4,
           4,
           3970,
           7314,
           2
          ],
          [
           5,
           4.5,
           4270,
           8076,
           2
          ],
          [
           5,
           4,
           4180,
           12042,
           2
          ],
          [
           5,
           4.5,
           4590,
           14685,
           2
          ],
          [
           4,
           4,
           7850,
           89651,
           2
          ],
          [
           5,
           4.5,
           4280,
           8465,
           2
          ],
          [
           4,
           4,
           4420,
           5940,
           2
          ],
          [
           4,
           4.25,
           4645,
           7757,
           2
          ],
          [
           5,
           4.75,
           3940,
           7067,
           2
          ],
          [
           5,
           4.75,
           5305,
           8401,
           2
          ],
          [
           5,
           4,
           1680,
           7268,
           1
          ],
          [
           3,
           4,
           3880,
           13095,
           2
          ],
          [
           4,
           4.5,
           4650,
           7660,
           2
          ],
          [
           5,
           5.25,
           3410,
           8118,
           2
          ],
          [
           4,
           4.5,
           5120,
           41327,
           2
          ],
          [
           5,
           4.5,
           4340,
           5722,
           3
          ],
          [
           4,
           4,
           3770,
           8899,
           2
          ],
          [
           4,
           5.5,
           5060,
           10320,
           2
          ],
          [
           4,
           4.5,
           3130,
           5126,
           3
          ],
          [
           4,
           4.25,
           4700,
           10800,
           2
          ],
          [
           5,
           4.5,
           4000,
           6713,
           2
          ],
          [
           4,
           4.5,
           4920,
           270236,
           2
          ],
          [
           5,
           4.25,
           4150,
           12015,
           2
          ],
          [
           4,
           4,
           4810,
           18851,
           2
          ],
          [
           4,
           4,
           5635,
           9695,
           2
          ],
          [
           5,
           4,
           4410,
           14380,
           2
          ],
          [
           6,
           4.25,
           5550,
           11547,
           2
          ],
          [
           4,
           4.25,
           4420,
           5750,
           2
          ],
          [
           5,
           4.25,
           4110,
           42755,
           2
          ],
          [
           5,
           4,
           6670,
           16481,
           2
          ],
          [
           4,
           5.5,
           6530,
           871200,
           2
          ],
          [
           5,
           4,
           4360,
           8030,
           2
          ],
          [
           4,
           4.5,
           4020,
           9656,
           2
          ],
          [
           4,
           4.5,
           3720,
           7746,
           2
          ],
          [
           4,
           4.25,
           4470,
           5884,
           2
          ],
          [
           5,
           4,
           3870,
           5929,
           2
          ],
          [
           6,
           6.5,
           6260,
           10955,
           2
          ],
          [
           5,
           4.5,
           4600,
           7810,
           2
          ],
          [
           6,
           4,
           3180,
           6551,
           2
          ],
          [
           5,
           4.75,
           5780,
           17004,
           2
          ],
          [
           4,
           4,
           4360,
           8175,
           2.5
          ],
          [
           4,
           4,
           3650,
           18223,
           2
          ],
          [
           6,
           5.25,
           6160,
           27490,
           2
          ],
          [
           4,
           4.25,
           4500,
           215186,
           2
          ],
          [
           4,
           4.5,
           4040,
           8400,
           2
          ],
          [
           6,
           5,
           2732,
           7655,
           2
          ],
          [
           5,
           4,
           3040,
           6000,
           2
          ],
          [
           5,
           4,
           5190,
           14600,
           2
          ],
          [
           5,
           6,
           7120,
           40806,
           2
          ],
          [
           5,
           5,
           4490,
           10279,
           2
          ],
          [
           5,
           4,
           4100,
           8120,
           2
          ],
          [
           3,
           4,
           3370,
           8252,
           2
          ],
          [
           6,
           4.5,
           3390,
           7200,
           2
          ],
          [
           4,
           4.75,
           4150,
           6303,
           3
          ],
          [
           4,
           4.25,
           5010,
           19412,
           2
          ],
          [
           5,
           6,
           6880,
           279968,
           2
          ],
          [
           5,
           4,
           4590,
           35046,
           2
          ],
          [
           4,
           4,
           4620,
           130208,
           2
          ],
          [
           3,
           4.5,
           3850,
           62726,
           2
          ],
          [
           5,
           4.25,
           4010,
           8252,
           2
          ],
          [
           5,
           6.5,
           7270,
           130017,
           2
          ],
          [
           4,
           4,
           4920,
           50621,
           2
          ],
          [
           4,
           4,
           4420,
           16526,
           2
          ],
          [
           5,
           4.5,
           4350,
           13405,
           2
          ],
          [
           5,
           4,
           4500,
           8130,
           2
          ],
          [
           5,
           4.5,
           4850,
           10584,
           2
          ]
         ],
         "hovertemplate": "<b>%{hovertext}</b><br><br>lat=%{lat}<br>long=%{lon}<br>bedrooms=%{customdata[0]}<br>bathrooms=%{customdata[1]}<br>sqft_living=%{customdata[2]}<br>sqft_lot=%{customdata[3]}<br>floors=%{customdata[4]}<br>price=%{marker.color}<extra></extra>",
         "hovertext": [
          false,
          false,
          false,
          false,
          true,
          false,
          false,
          false,
          false,
          false,
          false,
          false,
          false,
          false,
          false,
          false,
          false,
          false,
          false,
          true,
          false,
          false,
          true,
          false,
          true,
          true,
          false,
          false,
          false,
          false,
          false,
          false,
          false,
          false,
          false,
          false,
          false,
          false,
          false,
          false,
          true,
          false,
          false,
          false,
          false,
          false,
          false,
          false,
          true,
          false,
          false,
          false,
          false,
          false,
          false,
          false,
          false,
          false,
          false,
          true,
          false,
          false,
          false,
          false,
          false,
          false,
          false,
          false,
          false,
          false,
          false,
          false,
          false,
          true,
          false,
          false,
          false,
          false,
          false,
          false,
          false,
          false,
          false,
          true,
          false,
          false,
          false,
          false,
          false,
          false,
          false,
          false,
          false,
          false,
          false,
          false,
          false,
          false,
          false,
          false,
          false,
          false,
          false,
          false,
          false,
          true,
          false,
          false,
          false,
          false,
          false,
          false,
          true,
          false,
          false,
          false,
          false,
          false,
          false,
          false,
          false,
          false,
          false,
          false,
          false,
          false,
          false,
          false,
          false,
          false,
          false,
          false,
          false,
          false,
          false,
          true,
          false,
          false,
          true,
          false,
          false,
          false,
          false,
          false,
          false,
          false,
          false,
          false,
          false,
          false,
          false,
          false,
          false,
          false,
          false,
          false,
          false,
          false,
          false,
          false,
          false,
          false,
          false,
          false,
          false,
          false,
          false,
          false,
          false,
          false,
          false,
          false,
          false,
          false,
          false,
          false,
          false,
          false,
          false,
          true,
          false,
          false,
          false,
          false,
          false,
          false,
          false,
          false,
          false,
          false,
          false,
          false,
          true,
          false,
          false,
          true,
          false,
          false,
          false,
          false,
          false,
          false,
          false,
          false,
          false,
          false,
          false,
          false,
          false,
          false,
          false,
          false,
          false,
          false,
          false,
          true,
          false,
          false,
          false,
          false,
          false,
          false,
          false,
          false,
          false,
          false,
          false,
          false,
          false,
          false,
          false,
          false,
          true,
          false,
          false,
          true,
          false,
          false,
          false,
          false,
          false,
          false,
          false,
          false,
          false,
          false,
          false,
          false,
          false,
          false,
          false,
          false,
          false,
          false,
          false,
          false,
          false,
          false,
          false,
          false,
          false,
          false,
          false,
          false,
          false,
          false,
          false,
          false,
          false,
          false,
          false,
          false,
          false,
          false,
          false,
          false,
          false,
          false,
          false,
          false,
          false,
          false,
          false,
          false,
          false,
          false,
          false,
          false,
          false,
          false,
          false,
          false,
          false,
          false,
          false,
          false,
          false,
          false,
          false,
          false,
          false,
          false,
          false,
          false,
          false,
          false,
          false,
          false,
          false,
          false,
          false,
          false,
          false,
          false,
          false,
          false,
          false,
          false,
          false,
          false,
          false,
          false,
          false,
          false,
          false,
          false,
          false,
          false,
          false,
          false,
          false,
          false,
          false,
          false,
          false,
          false,
          false,
          false,
          false,
          false,
          false,
          false,
          false,
          false,
          false,
          false,
          false,
          false,
          false,
          false,
          false,
          false,
          false,
          false,
          false,
          false,
          false,
          false,
          false,
          false,
          false,
          false,
          false,
          false,
          false,
          false,
          false,
          false,
          false,
          false,
          false,
          false,
          false,
          false,
          false,
          false,
          true,
          false,
          false,
          false,
          false,
          false,
          false,
          false,
          false,
          false,
          false,
          false,
          false,
          false,
          false,
          false,
          false,
          false,
          false,
          false,
          false,
          false,
          false,
          false,
          false,
          true
         ],
         "lat": [
          47.6561,
          47.5822,
          47.6489,
          47.7285,
          47.6053,
          47.5954,
          47.7183,
          47.6336,
          47.6033,
          47.5816,
          47.7466,
          47.6196,
          47.5602,
          47.5747,
          47.323,
          47.5306,
          47.5557,
          47.5283,
          47.7208,
          47.6767,
          47.634,
          47.6189,
          47.4734,
          47.3069,
          47.5631,
          47.6393,
          47.5852,
          47.7597,
          47.6232,
          47.6086,
          47.5774,
          47.5784,
          47.3065,
          47.6482,
          47.5818,
          47.3466,
          47.4514,
          47.6298,
          47.7022,
          47.6702,
          47.585,
          47.5812,
          47.5833,
          47.5524,
          47.5922,
          47.4871,
          47.5829,
          47.544,
          47.7493,
          47.7517,
          47.7159,
          47.5533,
          47.5806,
          47.5547,
          47.59,
          47.4302,
          47.5285,
          47.263,
          47.5135,
          47.5488,
          47.2843,
          47.5426,
          47.6306,
          47.5922,
          47.6933,
          47.6557,
          47.4097,
          47.538,
          47.6102,
          47.6168,
          47.6914,
          47.6374,
          47.5317,
          47.65,
          47.4643,
          47.6316,
          47.6927,
          47.6151,
          47.5837,
          47.5421,
          47.7222,
          47.6289,
          47.7167,
          47.5682,
          47.5696,
          47.5656,
          47.5405,
          47.5769,
          47.6381,
          47.6321,
          47.547,
          47.5871,
          47.5332,
          47.6813,
          47.4241,
          47.5701,
          47.5201,
          47.6312,
          47.7591,
          47.6209,
          47.6635,
          47.5703,
          47.6488,
          47.6531,
          47.6604,
          47.5554,
          47.6736,
          47.6736,
          47.5812,
          47.4702,
          47.6413,
          47.7097,
          47.6515,
          47.5533,
          47.6655,
          47.5669,
          47.5513,
          47.5544,
          47.6229,
          47.6415,
          47.5004,
          47.6307,
          47.5443,
          47.7062,
          47.6866,
          47.6298,
          47.412,
          47.5708,
          47.6259,
          47.4858,
          47.6795,
          47.6301,
          47.5503,
          47.5871,
          47.6427,
          47.5348,
          47.4349,
          47.5581,
          47.557,
          47.5259,
          47.5722,
          47.7064,
          47.3244,
          47.6029,
          47.5923,
          47.456,
          47.4992,
          47.5003,
          47.5849,
          47.4045,
          47.5262,
          47.5464,
          47.7351,
          47.7351,
          47.6113,
          47.6305,
          47.5402,
          47.5512,
          47.6598,
          47.6598,
          47.6071,
          47.5269,
          47.6402,
          47.7666,
          47.5789,
          47.6732,
          47.3181,
          47.373,
          47.5556,
          47.7245,
          47.5835,
          47.6393,
          47.676,
          47.6981,
          47.6612,
          47.6347,
          47.6468,
          47.6012,
          47.5758,
          47.6803,
          47.6787,
          47.5431,
          47.638,
          47.3979,
          47.6798,
          47.7226,
          47.5369,
          47.6347,
          47.55,
          47.6085,
          47.7283,
          47.7349,
          47.7011,
          47.6232,
          47.5492,
          47.5968,
          47.5915,
          47.7506,
          47.6883,
          47.5457,
          47.6406,
          47.6426,
          47.56,
          47.6146,
          47.6118,
          47.6351,
          47.6466,
          47.768,
          47.5632,
          47.5522,
          47.5525,
          47.5323,
          47.5692,
          47.5824,
          47.5878,
          47.5924,
          47.6332,
          47.6422,
          47.5539,
          47.5708,
          47.7302,
          47.6675,
          47.5552,
          47.5305,
          47.56,
          47.6973,
          47.38,
          47.5861,
          47.5592,
          47.5964,
          47.7334,
          47.676,
          47.5696,
          47.6887,
          47.5424,
          47.605,
          47.6379,
          47.5835,
          47.5305,
          47.5556,
          47.6008,
          47.6307,
          47.7295,
          47.5468,
          47.5874,
          47.6568,
          47.6353,
          47.5333,
          47.5444,
          47.7243,
          47.6183,
          47.677,
          47.7469,
          47.5622,
          47.6221,
          47.603,
          47.6362,
          47.6711,
          47.6312,
          47.5858,
          47.7393,
          47.6404,
          47.5515,
          47.6796,
          47.587,
          47.6491,
          47.5894,
          47.5566,
          47.6193,
          47.6033,
          47.5382,
          47.6878,
          47.5417,
          47.4496,
          47.6285,
          47.7615,
          47.303,
          47.6218,
          47.6684,
          47.7239,
          47.6297,
          47.6193,
          47.5956,
          47.5323,
          47.6771,
          47.6288,
          47.6875,
          47.6346,
          47.6437,
          47.5309,
          47.5766,
          47.6402,
          47.5282,
          47.7052,
          47.7612,
          47.3016,
          47.5455,
          47.6304,
          47.3735,
          47.671,
          47.5846,
          47.7295,
          47.5605,
          47.5675,
          47.648,
          47.6263,
          47.6361,
          47.3814,
          47.5456,
          47.4812,
          47.6263,
          47.5503,
          47.4473,
          47.4274,
          47.6165,
          47.5399,
          47.7296,
          47.4536,
          47.6322,
          47.6165,
          47.5728,
          47.638,
          47.6375,
          47.4677,
          47.407,
          47.6377,
          47.7049,
          47.3651,
          47.6214,
          47.3029,
          47.5382,
          47.65,
          47.7329,
          47.6326,
          47.5632,
          47.5687,
          47.6173,
          47.699,
          47.5959,
          47.664,
          47.5406,
          47.7325,
          47.5397,
          47.6248,
          47.6232,
          47.6864,
          47.5571,
          47.6996,
          47.6349,
          47.6295,
          47.7009,
          47.6715,
          47.6476,
          47.6245,
          47.6239,
          47.6882,
          47.5254,
          47.4695,
          47.5816,
          47.6364,
          47.3389,
          47.6463,
          47.6547,
          47.5404,
          47.3375,
          47.6409,
          47.664,
          47.5923,
          47.6358,
          47.7323,
          47.6387,
          47.6965,
          47.5947,
          47.5381,
          47.6236,
          47.5802,
          47.5724,
          47.5442,
          47.6094,
          47.559,
          47.7067,
          47.3045,
          47.5189,
          47.6102,
          47.5451,
          47.5974,
          47.6917,
          47.5965,
          47.5205,
          47.7047,
          47.5455,
          47.4624,
          47.6647,
          47.5885,
          47.6735,
          47.5974,
          47.5371,
          47.6575,
          47.5914,
          47.6018,
          47.4832,
          47.5943
         ],
         "legendgroup": "",
         "lon": [
          -122.005,
          -121.987,
          -122.183,
          -122.042,
          -122.077,
          -121.95,
          -122.258,
          -122.064,
          -121.943,
          -121.97,
          -122.029,
          -122.286,
          -122.227,
          -122.283,
          -122.044,
          -122.134,
          -122.027,
          -122.143,
          -122.182,
          -122.211,
          -121.997,
          -122.288,
          -122.365,
          -122.148,
          -122.21,
          -122.097,
          -121.966,
          -122.079,
          -122.22,
          -122.303,
          -122.222,
          -122.226,
          -122.158,
          -122.412,
          -121.973,
          -122.323,
          -122.273,
          -122.29,
          -122.227,
          -122.26,
          -122.222,
          -121.995,
          -121.97,
          -122.112,
          -122.207,
          -122.219,
          -122.247,
          -122.126,
          -122.28,
          -122.225,
          -122.367,
          -122.11,
          -122.244,
          -122.144,
          -122.229,
          -122.095,
          -122.135,
          -122.216,
          -122.2,
          -122.197,
          -122.294,
          -121.995,
          -122.288,
          -122.388,
          -122.272,
          -122.388,
          -122.063,
          -122.223,
          -121.993,
          -122.216,
          -122.214,
          -122.288,
          -122.233,
          -122.214,
          -122.368,
          -122.202,
          -122.338,
          -122.224,
          -122.399,
          -121.888,
          -122.367,
          -122.233,
          -122.109,
          -122.059,
          -122.213,
          -122.372,
          -121.868,
          -122.215,
          -122.314,
          -122.304,
          -122.01,
          -121.969,
          -122.265,
          -122.187,
          -122.29,
          -122.188,
          -122.204,
          -122.291,
          -122.376,
          -122.237,
          -122.017,
          -122.28,
          -122.201,
          -122.405,
          -122.289,
          -122.077,
          -122.323,
          -122.323,
          -121.993,
          -122.275,
          -122.405,
          -122.013,
          -122.277,
          -122.098,
          -122.363,
          -121.956,
          -122.109,
          -122.147,
          -122.22,
          -122.392,
          -122.162,
          -122.354,
          -121.994,
          -122.311,
          -122.205,
          -122.323,
          -122.168,
          -122.192,
          -122.291,
          -122.111,
          -122.104,
          -122.369,
          -122.137,
          -122.192,
          -122.408,
          -122.243,
          -122.328,
          -122.385,
          -122.21,
          -122.279,
          -122.236,
          -121.981,
          -122.217,
          -122.147,
          -122.301,
          -122.292,
          -122.06,
          -122.306,
          -122.384,
          -122.197,
          -122.143,
          -122.116,
          -122.295,
          -122.295,
          -121.952,
          -122.24,
          -122.069,
          -122.11,
          -122.355,
          -122.355,
          -122.212,
          -121.922,
          -122.395,
          -122.128,
          -122.286,
          -122.363,
          -122.344,
          -122.179,
          -122.294,
          -122.095,
          -122.313,
          -122.408,
          -121.882,
          -122.349,
          -122.137,
          -122.064,
          -122.151,
          -122.022,
          -122.242,
          -122.214,
          -122.168,
          -122.112,
          -122.288,
          -122.416,
          -122.104,
          -122.039,
          -122.07,
          -122.013,
          -122.103,
          -121.952,
          -122.046,
          -122.295,
          -122.244,
          -122.207,
          -122.008,
          -122.083,
          -122.058,
          -122.012,
          -122.335,
          -121.991,
          -122.101,
          -122.158,
          -122.225,
          -122.306,
          -122.024,
          -122.364,
          -122.391,
          -122.251,
          -122.215,
          -122.103,
          -122.3,
          -122.238,
          -122.189,
          -122.384,
          -121.969,
          -122.287,
          -122.199,
          -122.157,
          -122.108,
          -122.212,
          -122.291,
          -121.986,
          -122.231,
          -122.353,
          -122.161,
          -122.205,
          -122.011,
          -122.113,
          -122.015,
          -122.077,
          -122.362,
          -122.309,
          -122.09,
          -122.319,
          -121.872,
          -122.112,
          -122.311,
          -122.202,
          -122.135,
          -122.03,
          -122.01,
          -122.367,
          -122.372,
          -122.123,
          -121.965,
          -122.154,
          -122.18,
          -122.22,
          -122.131,
          -122.052,
          -122.227,
          -122.275,
          -122.378,
          -122.003,
          -122.208,
          -122.012,
          -122.369,
          -122.398,
          -122.366,
          -122.247,
          -122.289,
          -122.361,
          -122.113,
          -122.104,
          -121.966,
          -122.201,
          -122.243,
          -122.026,
          -122.014,
          -122.155,
          -122.114,
          -122.212,
          -122.111,
          -122.209,
          -122.304,
          -122.084,
          -122.221,
          -122.237,
          -122.309,
          -122.092,
          -122.216,
          -122.229,
          -122.026,
          -122.237,
          -122.187,
          -122.282,
          -122.33,
          -122.364,
          -122.356,
          -122.228,
          -122.151,
          -122.405,
          -122.133,
          -122.223,
          -122.381,
          -122.342,
          -122.214,
          -122.236,
          -122.156,
          -122.269,
          -122.223,
          -122.057,
          -121.905,
          -122.189,
          -122.397,
          -122.284,
          -122.366,
          -122.164,
          -122.126,
          -122.033,
          -122.314,
          -122.081,
          -122.086,
          -122.28,
          -122.216,
          -122.118,
          -122.37,
          -122.009,
          -122.203,
          -122.236,
          -122.205,
          -122.362,
          -122.388,
          -122.01,
          -122.216,
          -122.219,
          -122.125,
          -122.197,
          -122.062,
          -122.387,
          -121.86,
          -122.065,
          -121.966,
          -122.216,
          -122.399,
          -122.291,
          -122.056,
          -122.206,
          -122.014,
          -122.2,
          -121.982,
          -122.165,
          -122.072,
          -122.29,
          -122.205,
          -122.215,
          -122.356,
          -122.233,
          -122.198,
          -122.236,
          -122.059,
          -122.406,
          -122.079,
          -122.21,
          -122.29,
          -122.214,
          -121.886,
          -121.775,
          -122.021,
          -122.214,
          -122.334,
          -122.121,
          -122.202,
          -122.073,
          -122.337,
          -122.221,
          -121.878,
          -121.973,
          -122.207,
          -122.165,
          -122.405,
          -122.134,
          -122.039,
          -121.86,
          -122.023,
          -122.212,
          -122.104,
          -122.116,
          -122.023,
          -122.045,
          -122.131,
          -122.211,
          -121.876,
          -122.225,
          -122.114,
          -122.202,
          -122.02,
          -122.013,
          -122.288,
          -122.123,
          -122.211,
          -121.779,
          -122.16,
          -121.939,
          -122.058,
          -122.013,
          -121.982,
          -122.006,
          -122.027,
          -122.06,
          -122.145,
          -122.11
         ],
         "marker": {
          "color": [
           1230000,
           832500,
           1030000,
           1370000,
           3080000,
           1550000,
           1450000,
           868700,
           1600000,
           720000,
           930000,
           2250000,
           2400000,
           2450000,
           935000,
           1570000,
           975000,
           1280000,
           482500,
           5110000,
           1150000,
           1230000,
           995000,
           835000,
           5300000,
           2200000,
           1060000,
           480000,
           5350000,
           490000,
           1680000,
           597326,
           930000,
           1570000,
           785500,
           740000,
           598800,
           1600000,
           835000,
           2530000,
           3850000,
           989000,
           765000,
           1760000,
           2750000,
           495000,
           1700000,
           1600000,
           4500000,
           925000,
           872000,
           1380000,
           1400000,
           2530000,
           2300000,
           1500000,
           1320000,
           537000,
           739000,
           1000000,
           590000,
           970000,
           2540000,
           1600000,
           870000,
           777000,
           1350000,
           884900,
           1060000,
           2450000,
           1650000,
           2890000,
           2950000,
           7060000,
           800000,
           2150000,
           599999,
           4000000,
           1300000,
           688000,
           1080000,
           5570000,
           1050000,
           2000000,
           1050000,
           643500,
           1080000,
           1200000,
           1130000,
           2050000,
           620000,
           1060000,
           1310000,
           655000,
           530000,
           2850000,
           980000,
           2470000,
           1530000,
           3420000,
           1110000,
           2730000,
           2390000,
           1110000,
           1280000,
           2200000,
           842500,
           850000,
           870000,
           600000,
           1930000,
           1940000,
           3650000,
           1520000,
           870000,
           985000,
           1490000,
           1390000,
           3800000,
           990000,
           460000,
           3200000,
           1300000,
           500000,
           1400000,
           7700000,
           800000,
           2500000,
           1980000,
           915000,
           510000,
           1470000,
           1130000,
           1000000,
           3200000,
           3400000,
           569950,
           920000,
           4670000,
           450000,
           2450000,
           955000,
           389000,
           999000,
           450000,
           265000,
           833450,
           312000,
           540000,
           290000,
           1210000,
           1330000,
           350000,
           682500,
           1680000,
           6890000,
           811500,
           1680000,
           715000,
           780000,
           2580000,
           1340000,
           1100000,
           1570000,
           1930000,
           900000,
           569950,
           490000,
           449500,
           1160000,
           853800,
           1700000,
           937500,
           550000,
           650000,
           858450,
           1320000,
           1250000,
           1900000,
           2700000,
           597157,
           2980000,
           3400000,
           729000,
           510000,
           1040000,
           1050000,
           875000,
           1690000,
           1610000,
           1820000,
           592500,
           3000000,
           1800000,
           827500,
           2750000,
           966000,
           1140000,
           869900,
           2200000,
           1250000,
           975000,
           1290000,
           739000,
           1010000,
           1430000,
           1300000,
           599000,
           1960000,
           995000,
           385000,
           1550000,
           4210000,
           661254,
           1170000,
           1900000,
           1890000,
           1960000,
           932808,
           1300000,
           565000,
           2280000,
           3100000,
           315000,
           1700000,
           1140000,
           1180000,
           1150000,
           1820000,
           1050000,
           2420000,
           780000,
           2600000,
           775000,
           925000,
           3300000,
           2230000,
           2200000,
           1500000,
           998000,
           1500000,
           2400000,
           2890000,
           1480000,
           1470000,
           1900000,
           1040000,
           1380000,
           935000,
           1640000,
           2450000,
           1540000,
           1760000,
           1150000,
           2300000,
           1680000,
           1120000,
           707500,
           2300000,
           1680000,
           540000,
           989000,
           2480000,
           510000,
           1430000,
           1820000,
           1400000,
           1050000,
           675000,
           865000,
           1750000,
           1880000,
           1400000,
           631000,
           2140000,
           1920000,
           300000,
           2500000,
           1400000,
           995000,
           3100000,
           2190000,
           960000,
           1380000,
           1450000,
           2250000,
           1350000,
           1200000,
           1430000,
           1870000,
           650500,
           1050000,
           1280000,
           1550000,
           2010000,
           510000,
           1650000,
           2460000,
           415000,
           458000,
           1700000,
           1060000,
           1860000,
           3300000,
           1230000,
           2920000,
           2630000,
           784500,
           1420000,
           840000,
           3300000,
           839000,
           1140000,
           707000,
           1950000,
           1240000,
           3800000,
           745000,
           980000,
           3640000,
           2000000,
           1520000,
           824000,
           589900,
           550000,
           1980000,
           1040000,
           480000,
           780000,
           442000,
           809000,
           1580000,
           465000,
           2640000,
           1050000,
           729999,
           949990,
           1530000,
           1260000,
           1710000,
           2700000,
           995500,
           909500,
           1600000,
           1700000,
           2700000,
           545000,
           1030000,
           1750000,
           2250000,
           1240000,
           2950000,
           1100000,
           2150000,
           1330000,
           2230000,
           771005,
           1040000,
           1210000,
           3200000,
           950000,
           1240000,
           2350000,
           890000,
           734000,
           3000000,
           1600000,
           1290000,
           1900000,
           960000,
           2950000,
           1300000,
           1180000,
           805000,
           859950,
           2320000,
           2300000,
           799900,
           1280000,
           1830000,
           860000,
           343000,
           605000,
           2900000,
           900000,
           1800000,
           950000,
           1070000,
           303500,
           988990,
           2350000,
           1490000,
           1720000,
           1460000,
           915000,
           1150000,
           2240000,
           1410000,
           1330000,
           1380000,
           750000,
           3570000
          ],
          "coloraxis": "coloraxis"
         },
         "mode": "markers",
         "name": "",
         "showlegend": false,
         "subplot": "mapbox",
         "type": "scattermapbox"
        }
       ],
       "layout": {
        "coloraxis": {
         "colorbar": {
          "title": {
           "text": "price"
          }
         },
         "colorscale": [
          [
           0,
           "green"
          ],
          [
           1,
           "red"
          ]
         ]
        },
        "height": 800,
        "legend": {
         "tracegroupgap": 0
        },
        "mapbox": {
         "center": {
          "lat": 47.59440174129353,
          "lon": -122.17868159203981
         },
         "domain": {
          "x": [
           0,
           1
          ],
          "y": [
           0,
           1
          ]
         },
         "style": "open-street-map",
         "zoom": 10
        },
        "margin": {
         "b": 0,
         "l": 0,
         "r": 0,
         "t": 0
        },
        "template": {
         "data": {
          "bar": [
           {
            "error_x": {
             "color": "#2a3f5f"
            },
            "error_y": {
             "color": "#2a3f5f"
            },
            "marker": {
             "line": {
              "color": "#E5ECF6",
              "width": 0.5
             },
             "pattern": {
              "fillmode": "overlay",
              "size": 10,
              "solidity": 0.2
             }
            },
            "type": "bar"
           }
          ],
          "barpolar": [
           {
            "marker": {
             "line": {
              "color": "#E5ECF6",
              "width": 0.5
             },
             "pattern": {
              "fillmode": "overlay",
              "size": 10,
              "solidity": 0.2
             }
            },
            "type": "barpolar"
           }
          ],
          "carpet": [
           {
            "aaxis": {
             "endlinecolor": "#2a3f5f",
             "gridcolor": "white",
             "linecolor": "white",
             "minorgridcolor": "white",
             "startlinecolor": "#2a3f5f"
            },
            "baxis": {
             "endlinecolor": "#2a3f5f",
             "gridcolor": "white",
             "linecolor": "white",
             "minorgridcolor": "white",
             "startlinecolor": "#2a3f5f"
            },
            "type": "carpet"
           }
          ],
          "choropleth": [
           {
            "colorbar": {
             "outlinewidth": 0,
             "ticks": ""
            },
            "type": "choropleth"
           }
          ],
          "contour": [
           {
            "colorbar": {
             "outlinewidth": 0,
             "ticks": ""
            },
            "colorscale": [
             [
              0,
              "#0d0887"
             ],
             [
              0.1111111111111111,
              "#46039f"
             ],
             [
              0.2222222222222222,
              "#7201a8"
             ],
             [
              0.3333333333333333,
              "#9c179e"
             ],
             [
              0.4444444444444444,
              "#bd3786"
             ],
             [
              0.5555555555555556,
              "#d8576b"
             ],
             [
              0.6666666666666666,
              "#ed7953"
             ],
             [
              0.7777777777777778,
              "#fb9f3a"
             ],
             [
              0.8888888888888888,
              "#fdca26"
             ],
             [
              1,
              "#f0f921"
             ]
            ],
            "type": "contour"
           }
          ],
          "contourcarpet": [
           {
            "colorbar": {
             "outlinewidth": 0,
             "ticks": ""
            },
            "type": "contourcarpet"
           }
          ],
          "heatmap": [
           {
            "colorbar": {
             "outlinewidth": 0,
             "ticks": ""
            },
            "colorscale": [
             [
              0,
              "#0d0887"
             ],
             [
              0.1111111111111111,
              "#46039f"
             ],
             [
              0.2222222222222222,
              "#7201a8"
             ],
             [
              0.3333333333333333,
              "#9c179e"
             ],
             [
              0.4444444444444444,
              "#bd3786"
             ],
             [
              0.5555555555555556,
              "#d8576b"
             ],
             [
              0.6666666666666666,
              "#ed7953"
             ],
             [
              0.7777777777777778,
              "#fb9f3a"
             ],
             [
              0.8888888888888888,
              "#fdca26"
             ],
             [
              1,
              "#f0f921"
             ]
            ],
            "type": "heatmap"
           }
          ],
          "heatmapgl": [
           {
            "colorbar": {
             "outlinewidth": 0,
             "ticks": ""
            },
            "colorscale": [
             [
              0,
              "#0d0887"
             ],
             [
              0.1111111111111111,
              "#46039f"
             ],
             [
              0.2222222222222222,
              "#7201a8"
             ],
             [
              0.3333333333333333,
              "#9c179e"
             ],
             [
              0.4444444444444444,
              "#bd3786"
             ],
             [
              0.5555555555555556,
              "#d8576b"
             ],
             [
              0.6666666666666666,
              "#ed7953"
             ],
             [
              0.7777777777777778,
              "#fb9f3a"
             ],
             [
              0.8888888888888888,
              "#fdca26"
             ],
             [
              1,
              "#f0f921"
             ]
            ],
            "type": "heatmapgl"
           }
          ],
          "histogram": [
           {
            "marker": {
             "pattern": {
              "fillmode": "overlay",
              "size": 10,
              "solidity": 0.2
             }
            },
            "type": "histogram"
           }
          ],
          "histogram2d": [
           {
            "colorbar": {
             "outlinewidth": 0,
             "ticks": ""
            },
            "colorscale": [
             [
              0,
              "#0d0887"
             ],
             [
              0.1111111111111111,
              "#46039f"
             ],
             [
              0.2222222222222222,
              "#7201a8"
             ],
             [
              0.3333333333333333,
              "#9c179e"
             ],
             [
              0.4444444444444444,
              "#bd3786"
             ],
             [
              0.5555555555555556,
              "#d8576b"
             ],
             [
              0.6666666666666666,
              "#ed7953"
             ],
             [
              0.7777777777777778,
              "#fb9f3a"
             ],
             [
              0.8888888888888888,
              "#fdca26"
             ],
             [
              1,
              "#f0f921"
             ]
            ],
            "type": "histogram2d"
           }
          ],
          "histogram2dcontour": [
           {
            "colorbar": {
             "outlinewidth": 0,
             "ticks": ""
            },
            "colorscale": [
             [
              0,
              "#0d0887"
             ],
             [
              0.1111111111111111,
              "#46039f"
             ],
             [
              0.2222222222222222,
              "#7201a8"
             ],
             [
              0.3333333333333333,
              "#9c179e"
             ],
             [
              0.4444444444444444,
              "#bd3786"
             ],
             [
              0.5555555555555556,
              "#d8576b"
             ],
             [
              0.6666666666666666,
              "#ed7953"
             ],
             [
              0.7777777777777778,
              "#fb9f3a"
             ],
             [
              0.8888888888888888,
              "#fdca26"
             ],
             [
              1,
              "#f0f921"
             ]
            ],
            "type": "histogram2dcontour"
           }
          ],
          "mesh3d": [
           {
            "colorbar": {
             "outlinewidth": 0,
             "ticks": ""
            },
            "type": "mesh3d"
           }
          ],
          "parcoords": [
           {
            "line": {
             "colorbar": {
              "outlinewidth": 0,
              "ticks": ""
             }
            },
            "type": "parcoords"
           }
          ],
          "pie": [
           {
            "automargin": true,
            "type": "pie"
           }
          ],
          "scatter": [
           {
            "fillpattern": {
             "fillmode": "overlay",
             "size": 10,
             "solidity": 0.2
            },
            "type": "scatter"
           }
          ],
          "scatter3d": [
           {
            "line": {
             "colorbar": {
              "outlinewidth": 0,
              "ticks": ""
             }
            },
            "marker": {
             "colorbar": {
              "outlinewidth": 0,
              "ticks": ""
             }
            },
            "type": "scatter3d"
           }
          ],
          "scattercarpet": [
           {
            "marker": {
             "colorbar": {
              "outlinewidth": 0,
              "ticks": ""
             }
            },
            "type": "scattercarpet"
           }
          ],
          "scattergeo": [
           {
            "marker": {
             "colorbar": {
              "outlinewidth": 0,
              "ticks": ""
             }
            },
            "type": "scattergeo"
           }
          ],
          "scattergl": [
           {
            "marker": {
             "colorbar": {
              "outlinewidth": 0,
              "ticks": ""
             }
            },
            "type": "scattergl"
           }
          ],
          "scattermapbox": [
           {
            "marker": {
             "colorbar": {
              "outlinewidth": 0,
              "ticks": ""
             }
            },
            "type": "scattermapbox"
           }
          ],
          "scatterpolar": [
           {
            "marker": {
             "colorbar": {
              "outlinewidth": 0,
              "ticks": ""
             }
            },
            "type": "scatterpolar"
           }
          ],
          "scatterpolargl": [
           {
            "marker": {
             "colorbar": {
              "outlinewidth": 0,
              "ticks": ""
             }
            },
            "type": "scatterpolargl"
           }
          ],
          "scatterternary": [
           {
            "marker": {
             "colorbar": {
              "outlinewidth": 0,
              "ticks": ""
             }
            },
            "type": "scatterternary"
           }
          ],
          "surface": [
           {
            "colorbar": {
             "outlinewidth": 0,
             "ticks": ""
            },
            "colorscale": [
             [
              0,
              "#0d0887"
             ],
             [
              0.1111111111111111,
              "#46039f"
             ],
             [
              0.2222222222222222,
              "#7201a8"
             ],
             [
              0.3333333333333333,
              "#9c179e"
             ],
             [
              0.4444444444444444,
              "#bd3786"
             ],
             [
              0.5555555555555556,
              "#d8576b"
             ],
             [
              0.6666666666666666,
              "#ed7953"
             ],
             [
              0.7777777777777778,
              "#fb9f3a"
             ],
             [
              0.8888888888888888,
              "#fdca26"
             ],
             [
              1,
              "#f0f921"
             ]
            ],
            "type": "surface"
           }
          ],
          "table": [
           {
            "cells": {
             "fill": {
              "color": "#EBF0F8"
             },
             "line": {
              "color": "white"
             }
            },
            "header": {
             "fill": {
              "color": "#C8D4E3"
             },
             "line": {
              "color": "white"
             }
            },
            "type": "table"
           }
          ]
         },
         "layout": {
          "annotationdefaults": {
           "arrowcolor": "#2a3f5f",
           "arrowhead": 0,
           "arrowwidth": 1
          },
          "autotypenumbers": "strict",
          "coloraxis": {
           "colorbar": {
            "outlinewidth": 0,
            "ticks": ""
           }
          },
          "colorscale": {
           "diverging": [
            [
             0,
             "#8e0152"
            ],
            [
             0.1,
             "#c51b7d"
            ],
            [
             0.2,
             "#de77ae"
            ],
            [
             0.3,
             "#f1b6da"
            ],
            [
             0.4,
             "#fde0ef"
            ],
            [
             0.5,
             "#f7f7f7"
            ],
            [
             0.6,
             "#e6f5d0"
            ],
            [
             0.7,
             "#b8e186"
            ],
            [
             0.8,
             "#7fbc41"
            ],
            [
             0.9,
             "#4d9221"
            ],
            [
             1,
             "#276419"
            ]
           ],
           "sequential": [
            [
             0,
             "#0d0887"
            ],
            [
             0.1111111111111111,
             "#46039f"
            ],
            [
             0.2222222222222222,
             "#7201a8"
            ],
            [
             0.3333333333333333,
             "#9c179e"
            ],
            [
             0.4444444444444444,
             "#bd3786"
            ],
            [
             0.5555555555555556,
             "#d8576b"
            ],
            [
             0.6666666666666666,
             "#ed7953"
            ],
            [
             0.7777777777777778,
             "#fb9f3a"
            ],
            [
             0.8888888888888888,
             "#fdca26"
            ],
            [
             1,
             "#f0f921"
            ]
           ],
           "sequentialminus": [
            [
             0,
             "#0d0887"
            ],
            [
             0.1111111111111111,
             "#46039f"
            ],
            [
             0.2222222222222222,
             "#7201a8"
            ],
            [
             0.3333333333333333,
             "#9c179e"
            ],
            [
             0.4444444444444444,
             "#bd3786"
            ],
            [
             0.5555555555555556,
             "#d8576b"
            ],
            [
             0.6666666666666666,
             "#ed7953"
            ],
            [
             0.7777777777777778,
             "#fb9f3a"
            ],
            [
             0.8888888888888888,
             "#fdca26"
            ],
            [
             1,
             "#f0f921"
            ]
           ]
          },
          "colorway": [
           "#636efa",
           "#EF553B",
           "#00cc96",
           "#ab63fa",
           "#FFA15A",
           "#19d3f3",
           "#FF6692",
           "#B6E880",
           "#FF97FF",
           "#FECB52"
          ],
          "font": {
           "color": "#2a3f5f"
          },
          "geo": {
           "bgcolor": "white",
           "lakecolor": "white",
           "landcolor": "#E5ECF6",
           "showlakes": true,
           "showland": true,
           "subunitcolor": "white"
          },
          "hoverlabel": {
           "align": "left"
          },
          "hovermode": "closest",
          "mapbox": {
           "style": "light"
          },
          "paper_bgcolor": "white",
          "plot_bgcolor": "#E5ECF6",
          "polar": {
           "angularaxis": {
            "gridcolor": "white",
            "linecolor": "white",
            "ticks": ""
           },
           "bgcolor": "#E5ECF6",
           "radialaxis": {
            "gridcolor": "white",
            "linecolor": "white",
            "ticks": ""
           }
          },
          "scene": {
           "xaxis": {
            "backgroundcolor": "#E5ECF6",
            "gridcolor": "white",
            "gridwidth": 2,
            "linecolor": "white",
            "showbackground": true,
            "ticks": "",
            "zerolinecolor": "white"
           },
           "yaxis": {
            "backgroundcolor": "#E5ECF6",
            "gridcolor": "white",
            "gridwidth": 2,
            "linecolor": "white",
            "showbackground": true,
            "ticks": "",
            "zerolinecolor": "white"
           },
           "zaxis": {
            "backgroundcolor": "#E5ECF6",
            "gridcolor": "white",
            "gridwidth": 2,
            "linecolor": "white",
            "showbackground": true,
            "ticks": "",
            "zerolinecolor": "white"
           }
          },
          "shapedefaults": {
           "line": {
            "color": "#2a3f5f"
           }
          },
          "ternary": {
           "aaxis": {
            "gridcolor": "white",
            "linecolor": "white",
            "ticks": ""
           },
           "baxis": {
            "gridcolor": "white",
            "linecolor": "white",
            "ticks": ""
           },
           "bgcolor": "#E5ECF6",
           "caxis": {
            "gridcolor": "white",
            "linecolor": "white",
            "ticks": ""
           }
          },
          "title": {
           "x": 0.05
          },
          "xaxis": {
           "automargin": true,
           "gridcolor": "white",
           "linecolor": "white",
           "ticks": "",
           "title": {
            "standoff": 15
           },
           "zerolinecolor": "white",
           "zerolinewidth": 2
          },
          "yaxis": {
           "automargin": true,
           "gridcolor": "white",
           "linecolor": "white",
           "ticks": "",
           "title": {
            "standoff": 15
           },
           "zerolinecolor": "white",
           "zerolinewidth": 2
          }
         }
        },
        "width": 800
       }
      }
     },
     "metadata": {},
     "output_type": "display_data"
    }
   ],
   "source": [
    "import plotly.express as px\n",
    "\n",
    "color_scale = [(0, 'orange'), (1,'red')]\n",
    "\n",
    "fig = px.scatter_mapbox(df_Jakob1, \n",
    "                        lat=\"lat\", \n",
    "                        lon=\"long\", \n",
    "                        hover_name=\"waterfront\", \n",
    "                        hover_data=['bedrooms', 'bathrooms','sqft_living','sqft_lot','floors'],\n",
    "                        color=\"price\",\n",
    "                        #color_continuous_scale=color_scale,\n",
    "                        #size=\"Listed\",\n",
    "                        color_continuous_scale=['green','red'],\n",
    "                        zoom=10, \n",
    "                        height=800,\n",
    "                        width=800)\n",
    "\n",
    "\n",
    "fig.update_layout(mapbox_style=\"open-street-map\")\n",
    "fig.update_layout(margin={\"r\":0,\"t\":0,\"l\":0,\"b\":0})\n",
    "fig.show()"
   ]
  },
  {
   "cell_type": "code",
   "execution_count": 30,
   "metadata": {},
   "outputs": [
    {
     "data": {
      "application/vnd.plotly.v1+json": {
       "config": {
        "plotlyServerURL": "https://plot.ly"
       },
       "data": [
        {
         "geo": "geo",
         "hovertemplate": "<b>%{hovertext}</b><br><br>grades=higher_quality<br>lat=%{lat}<br>long=%{lon}<extra></extra>",
         "hovertext": [
          1230000,
          1370000,
          1600000,
          2400000,
          935000,
          1570000,
          1280000,
          1150000,
          1060000,
          930000,
          1570000,
          740000,
          3850000,
          989000,
          1700000,
          1600000,
          1380000,
          2530000,
          1500000,
          1320000,
          970000,
          1600000,
          1350000,
          2890000,
          2950000,
          7060000,
          800000,
          1050000,
          1080000,
          1200000,
          1130000,
          1060000,
          1530000,
          3420000,
          1110000,
          2200000,
          1930000,
          3650000,
          1390000,
          3200000,
          1130000,
          2450000,
          1210000,
          1680000,
          2580000,
          1570000,
          1930000,
          937500,
          1900000,
          3400000,
          1040000,
          1050000,
          875000,
          1610000,
          1800000,
          1010000,
          1960000,
          1550000,
          1170000,
          1700000,
          2600000,
          925000,
          3300000,
          2230000,
          2200000,
          1500000,
          1040000,
          1380000,
          1640000,
          2450000,
          1150000,
          2300000,
          1430000,
          1400000,
          2140000,
          2500000,
          1400000,
          995000,
          2250000,
          1430000,
          1280000,
          1550000,
          2460000,
          1700000,
          1060000,
          3300000,
          2630000,
          784500,
          1140000,
          1950000,
          2000000,
          1580000,
          2640000,
          1530000,
          2700000,
          1030000,
          1750000,
          2250000,
          2150000,
          2230000,
          3200000,
          1240000,
          2350000,
          1600000,
          2950000,
          1180000,
          2320000,
          1280000,
          1830000,
          2900000,
          2350000,
          1330000,
          1380000
         ],
         "lat": [
          47.6561,
          47.7285,
          47.6033,
          47.5602,
          47.323,
          47.5306,
          47.5283,
          47.634,
          47.5852,
          47.3065,
          47.6482,
          47.3466,
          47.585,
          47.5812,
          47.5829,
          47.544,
          47.5533,
          47.5547,
          47.4302,
          47.5285,
          47.5426,
          47.5922,
          47.4097,
          47.6374,
          47.5317,
          47.65,
          47.4643,
          47.7167,
          47.5405,
          47.5769,
          47.6381,
          47.5871,
          47.7591,
          47.6209,
          47.6635,
          47.5554,
          47.6413,
          47.6515,
          47.5544,
          47.6307,
          47.5503,
          47.5722,
          47.5262,
          47.6113,
          47.6071,
          47.7666,
          47.5789,
          47.676,
          47.5758,
          47.638,
          47.7226,
          47.5369,
          47.6347,
          47.6085,
          47.6232,
          47.6118,
          47.5632,
          47.5323,
          47.5878,
          47.56,
          47.5696,
          47.5424,
          47.605,
          47.6379,
          47.5835,
          47.5305,
          47.6353,
          47.5333,
          47.7243,
          47.6183,
          47.5622,
          47.6312,
          47.587,
          47.5417,
          47.6285,
          47.6218,
          47.6684,
          47.7239,
          47.6288,
          47.6437,
          47.5282,
          47.7052,
          47.6304,
          47.5846,
          47.7295,
          47.5675,
          47.6361,
          47.3814,
          47.4473,
          47.6165,
          47.5728,
          47.65,
          47.6326,
          47.699,
          47.6864,
          47.6996,
          47.6349,
          47.6295,
          47.6245,
          47.6882,
          47.6364,
          47.6463,
          47.6547,
          47.664,
          47.6387,
          47.5947,
          47.5802,
          47.6094,
          47.559,
          47.6102,
          47.5455,
          47.5914,
          47.6018
         ],
         "legendgroup": "higher_quality",
         "lon": [
          -122.005,
          -122.042,
          -121.943,
          -122.227,
          -122.044,
          -122.134,
          -122.143,
          -121.997,
          -121.966,
          -122.158,
          -122.412,
          -122.323,
          -122.222,
          -121.995,
          -122.247,
          -122.126,
          -122.11,
          -122.144,
          -122.095,
          -122.135,
          -121.995,
          -122.388,
          -122.063,
          -122.288,
          -122.233,
          -122.214,
          -122.368,
          -122.109,
          -121.868,
          -122.215,
          -122.314,
          -121.969,
          -122.376,
          -122.237,
          -122.017,
          -122.077,
          -122.405,
          -122.277,
          -122.147,
          -122.354,
          -122.137,
          -122.236,
          -122.143,
          -121.952,
          -122.212,
          -122.128,
          -122.286,
          -121.882,
          -122.242,
          -122.288,
          -122.039,
          -122.07,
          -122.013,
          -121.952,
          -122.207,
          -122.024,
          -122.215,
          -122.238,
          -121.969,
          -122.161,
          -122.09,
          -121.872,
          -122.112,
          -122.311,
          -122.202,
          -122.135,
          -122.18,
          -122.22,
          -122.052,
          -122.227,
          -122.003,
          -122.366,
          -121.966,
          -122.111,
          -122.304,
          -122.237,
          -122.309,
          -122.092,
          -122.282,
          -122.356,
          -122.133,
          -122.223,
          -122.236,
          -122.223,
          -122.057,
          -122.189,
          -122.366,
          -122.164,
          -122.086,
          -122.216,
          -122.205,
          -122.065,
          -122.216,
          -122.206,
          -122.215,
          -122.233,
          -122.198,
          -122.236,
          -122.21,
          -122.214,
          -122.214,
          -122.121,
          -122.202,
          -121.878,
          -122.405,
          -122.039,
          -122.212,
          -122.023,
          -122.045,
          -122.225,
          -122.211,
          -122.027,
          -122.06
         ],
         "marker": {
          "color": "#636efa",
          "symbol": "circle"
         },
         "mode": "markers",
         "name": "higher_quality",
         "showlegend": true,
         "type": "scattergeo"
        },
        {
         "geo": "geo",
         "hovertemplate": "<b>%{hovertext}</b><br><br>grades=high_quality<br>lat=%{lat}<br>long=%{lon}<extra></extra>",
         "hovertext": [
          832500,
          1030000,
          3080000,
          1450000,
          868700,
          720000,
          2250000,
          2450000,
          975000,
          1230000,
          1680000,
          597326,
          785500,
          1600000,
          2530000,
          765000,
          2300000,
          537000,
          2540000,
          870000,
          1060000,
          2450000,
          1650000,
          2000000,
          1050000,
          1310000,
          530000,
          2850000,
          980000,
          2470000,
          870000,
          600000,
          985000,
          1300000,
          1400000,
          800000,
          2500000,
          1980000,
          915000,
          3400000,
          955000,
          1330000,
          1340000,
          569950,
          1160000,
          1700000,
          858450,
          1320000,
          1250000,
          3000000,
          2750000,
          966000,
          975000,
          1290000,
          1430000,
          995000,
          1890000,
          932808,
          1300000,
          1140000,
          1180000,
          998000,
          935000,
          2300000,
          1400000,
          1050000,
          675000,
          1750000,
          1880000,
          2190000,
          960000,
          1380000,
          1450000,
          1200000,
          1870000,
          2010000,
          510000,
          1860000,
          2920000,
          840000,
          839000,
          1240000,
          589900,
          1980000,
          442000,
          1260000,
          1710000,
          995500,
          909500,
          1600000,
          1700000,
          1240000,
          2950000,
          1100000,
          1330000,
          1040000,
          1210000,
          950000,
          890000,
          734000,
          1290000,
          1900000,
          960000,
          1300000,
          2300000,
          1800000,
          1070000,
          1720000,
          1460000,
          915000,
          1150000,
          1410000,
          750000,
          3570000
         ],
         "lat": [
          47.5822,
          47.6489,
          47.6053,
          47.7183,
          47.6336,
          47.5816,
          47.6196,
          47.5747,
          47.5557,
          47.6189,
          47.5774,
          47.5784,
          47.5818,
          47.6298,
          47.6702,
          47.5833,
          47.59,
          47.263,
          47.6306,
          47.6933,
          47.6102,
          47.6168,
          47.6914,
          47.5682,
          47.5696,
          47.5332,
          47.4241,
          47.5701,
          47.5201,
          47.6312,
          47.5812,
          47.4702,
          47.5669,
          47.5443,
          47.6866,
          47.412,
          47.5708,
          47.6259,
          47.4858,
          47.5348,
          47.7064,
          47.5464,
          47.5269,
          47.3181,
          47.7245,
          47.6393,
          47.6347,
          47.6468,
          47.6012,
          47.7011,
          47.5968,
          47.5915,
          47.6426,
          47.56,
          47.6351,
          47.5522,
          47.6332,
          47.5539,
          47.5708,
          47.6973,
          47.38,
          47.5556,
          47.5444,
          47.6221,
          47.5894,
          47.5566,
          47.6193,
          47.5382,
          47.6878,
          47.6193,
          47.5956,
          47.5323,
          47.6771,
          47.6346,
          47.5309,
          47.7612,
          47.3016,
          47.5605,
          47.6263,
          47.4812,
          47.5503,
          47.5399,
          47.4677,
          47.6377,
          47.3029,
          47.5959,
          47.664,
          47.7325,
          47.5397,
          47.6248,
          47.6232,
          47.7009,
          47.6715,
          47.6476,
          47.6239,
          47.4695,
          47.5816,
          47.3389,
          47.5404,
          47.3375,
          47.5923,
          47.6358,
          47.7323,
          47.6965,
          47.5724,
          47.5974,
          47.5965,
          47.6647,
          47.5885,
          47.6735,
          47.5974,
          47.6575,
          47.4832,
          47.5943
         ],
         "legendgroup": "high_quality",
         "lon": [
          -121.987,
          -122.183,
          -122.077,
          -122.258,
          -122.064,
          -121.97,
          -122.286,
          -122.283,
          -122.027,
          -122.288,
          -122.222,
          -122.226,
          -121.973,
          -122.29,
          -122.26,
          -121.97,
          -122.229,
          -122.216,
          -122.288,
          -122.272,
          -121.993,
          -122.216,
          -122.214,
          -122.059,
          -122.213,
          -122.265,
          -122.29,
          -122.188,
          -122.204,
          -122.291,
          -121.993,
          -122.275,
          -121.956,
          -121.994,
          -122.205,
          -122.168,
          -122.192,
          -122.291,
          -122.111,
          -122.243,
          -121.981,
          -122.116,
          -121.922,
          -122.344,
          -122.095,
          -122.408,
          -122.064,
          -122.151,
          -122.022,
          -122.244,
          -122.083,
          -122.058,
          -122.158,
          -122.225,
          -122.364,
          -122.103,
          -122.199,
          -122.108,
          -122.212,
          -122.205,
          -122.011,
          -122.03,
          -122.131,
          -122.208,
          -122.243,
          -122.026,
          -122.014,
          -122.114,
          -122.212,
          -122.229,
          -122.026,
          -122.237,
          -122.187,
          -122.364,
          -122.228,
          -122.381,
          -122.342,
          -121.905,
          -122.284,
          -122.033,
          -122.081,
          -122.118,
          -122.01,
          -122.219,
          -122.387,
          -122.014,
          -122.2,
          -122.165,
          -122.072,
          -122.29,
          -122.205,
          -122.059,
          -122.406,
          -122.079,
          -122.29,
          -121.775,
          -122.021,
          -122.334,
          -122.073,
          -122.337,
          -121.973,
          -122.207,
          -122.165,
          -122.134,
          -122.104,
          -122.202,
          -122.013,
          -122.16,
          -121.939,
          -122.058,
          -122.013,
          -122.006,
          -122.145,
          -122.11
         ],
         "marker": {
          "color": "#EF553B",
          "symbol": "circle"
         },
         "mode": "markers",
         "name": "high_quality",
         "showlegend": true,
         "type": "scattergeo"
        },
        {
         "geo": "geo",
         "hovertemplate": "<b>%{hovertext}</b><br><br>grades=highest_quality<br>lat=%{lat}<br>long=%{lon}<extra></extra>",
         "hovertext": [
          1550000,
          5110000,
          835000,
          5300000,
          5350000,
          1760000,
          2750000,
          4500000,
          4000000,
          2730000,
          1940000,
          1520000,
          1490000,
          4670000,
          1680000,
          1690000,
          1820000,
          2200000,
          4210000,
          1960000,
          2280000,
          3100000,
          1820000,
          1500000,
          1480000,
          1470000,
          1900000,
          1760000,
          1680000,
          2480000,
          1820000,
          1920000,
          3100000,
          1420000,
          3300000,
          3640000,
          2700000,
          3000000,
          900000,
          1490000,
          2240000
         ],
         "lat": [
          47.5954,
          47.6767,
          47.3069,
          47.5631,
          47.6232,
          47.5524,
          47.5922,
          47.7493,
          47.6151,
          47.5703,
          47.7097,
          47.5533,
          47.5513,
          47.557,
          47.5512,
          47.55,
          47.7283,
          47.5457,
          47.5692,
          47.6422,
          47.6675,
          47.5552,
          47.5592,
          47.6008,
          47.5468,
          47.5874,
          47.6568,
          47.7469,
          47.603,
          47.5515,
          47.6491,
          47.7615,
          47.6297,
          47.5456,
          47.6263,
          47.6165,
          47.5406,
          47.6409,
          47.5451,
          47.4624,
          47.5371
         ],
         "legendgroup": "highest_quality",
         "lon": [
          -121.95,
          -122.211,
          -122.148,
          -122.21,
          -122.22,
          -122.112,
          -122.207,
          -122.28,
          -122.224,
          -122.28,
          -122.013,
          -122.098,
          -122.109,
          -122.21,
          -122.11,
          -122.103,
          -122.046,
          -121.991,
          -122.189,
          -122.157,
          -121.986,
          -122.231,
          -122.015,
          -122.01,
          -122.123,
          -121.965,
          -122.154,
          -122.378,
          -122.012,
          -122.113,
          -122.201,
          -122.084,
          -122.216,
          -122.126,
          -122.314,
          -122.236,
          -121.982,
          -122.221,
          -122.114,
          -121.779,
          -121.982
         ],
         "marker": {
          "color": "#00cc96",
          "symbol": "circle"
         },
         "mode": "markers",
         "name": "highest_quality",
         "showlegend": true,
         "type": "scattergeo"
        },
        {
         "geo": "geo",
         "hovertemplate": "<b>%{hovertext}</b><br><br>grades=better<br>lat=%{lat}<br>long=%{lon}<extra></extra>",
         "hovertext": [
          930000,
          995000,
          598800,
          872000,
          739000,
          1300000,
          688000,
          1080000,
          2050000,
          1110000,
          1000000,
          920000,
          999000,
          833450,
          811500,
          853800,
          729000,
          827500,
          1140000,
          1250000,
          1150000,
          1050000,
          2400000,
          1540000,
          1120000,
          1680000,
          989000,
          865000,
          1350000,
          1050000,
          1650000,
          415000,
          458000,
          1230000,
          745000,
          1520000,
          550000,
          1040000,
          809000,
          1050000,
          729999,
          949990,
          771005,
          805000,
          859950,
          799900,
          860000,
          950000,
          988990
         ],
         "lat": [
          47.7466,
          47.4734,
          47.4514,
          47.7159,
          47.5135,
          47.5837,
          47.5421,
          47.7222,
          47.6321,
          47.6531,
          47.5871,
          47.5581,
          47.6029,
          47.4992,
          47.5402,
          47.5835,
          47.3979,
          47.5492,
          47.7506,
          47.6406,
          47.5861,
          47.5964,
          47.6307,
          47.677,
          47.6362,
          47.5858,
          47.6404,
          47.6033,
          47.6875,
          47.6402,
          47.5455,
          47.3735,
          47.671,
          47.648,
          47.4536,
          47.638,
          47.407,
          47.7049,
          47.5382,
          47.5632,
          47.5687,
          47.6173,
          47.5254,
          47.5381,
          47.6236,
          47.5442,
          47.7067,
          47.6917,
          47.7047
         ],
         "legendgroup": "better",
         "lon": [
          -122.029,
          -122.365,
          -122.273,
          -122.367,
          -122.2,
          -122.399,
          -121.888,
          -122.367,
          -122.304,
          -122.405,
          -122.192,
          -122.385,
          -122.147,
          -122.06,
          -122.069,
          -122.313,
          -122.416,
          -122.008,
          -122.012,
          -122.101,
          -122.113,
          -122.077,
          -122.367,
          -122.275,
          -122.369,
          -122.247,
          -122.361,
          -122.155,
          -122.33,
          -122.405,
          -122.214,
          -122.156,
          -122.269,
          -122.397,
          -122.009,
          -122.362,
          -122.216,
          -122.125,
          -121.86,
          -122.399,
          -122.291,
          -122.056,
          -121.886,
          -121.86,
          -122.023,
          -122.116,
          -122.131,
          -122.02,
          -122.123
         ],
         "marker": {
          "color": "#ab63fa",
          "symbol": "circle"
         },
         "mode": "markers",
         "name": "better",
         "showlegend": true,
         "type": "scattergeo"
        },
        {
         "geo": "geo",
         "hovertemplate": "<b>%{hovertext}</b><br><br>grades=above_average<br>lat=%{lat}<br>long=%{lon}<extra></extra>",
         "hovertext": [
          482500,
          2200000,
          480000,
          490000,
          835000,
          495000,
          925000,
          1400000,
          1000000,
          590000,
          884900,
          2150000,
          620000,
          1280000,
          870000,
          990000,
          460000,
          510000,
          1470000,
          569950,
          450000,
          290000,
          715000,
          780000,
          1100000,
          900000,
          650000,
          2700000,
          597157,
          510000,
          869900,
          1300000,
          1900000,
          780000,
          775000,
          540000,
          510000,
          707000,
          980000,
          824000,
          780000,
          465000,
          545000,
          605000,
          303500
         ],
         "lat": [
          47.7208,
          47.6393,
          47.7597,
          47.6086,
          47.7022,
          47.4871,
          47.7517,
          47.5806,
          47.5488,
          47.2843,
          47.538,
          47.6316,
          47.547,
          47.6604,
          47.6655,
          47.6415,
          47.5004,
          47.6795,
          47.6301,
          47.4349,
          47.5259,
          47.4045,
          47.6598,
          47.6598,
          47.6402,
          47.6732,
          47.6612,
          47.6803,
          47.6787,
          47.6798,
          47.6883,
          47.6466,
          47.5924,
          47.676,
          47.6887,
          47.7393,
          47.6796,
          47.4274,
          47.6322,
          47.6375,
          47.6214,
          47.7329,
          47.5571,
          47.5189,
          47.5205
         ],
         "legendgroup": "above_average",
         "lon": [
          -122.182,
          -122.097,
          -122.079,
          -122.303,
          -122.227,
          -122.219,
          -122.225,
          -122.244,
          -122.197,
          -122.294,
          -122.223,
          -122.202,
          -122.01,
          -122.289,
          -122.363,
          -122.392,
          -122.162,
          -122.104,
          -122.369,
          -122.328,
          -122.279,
          -122.197,
          -122.355,
          -122.355,
          -122.395,
          -122.363,
          -122.137,
          -122.214,
          -122.168,
          -122.104,
          -122.335,
          -122.391,
          -122.287,
          -122.309,
          -122.319,
          -122.289,
          -122.104,
          -122.28,
          -122.203,
          -122.388,
          -122.062,
          -121.966,
          -122.356,
          -121.876,
          -122.288
         ],
         "marker": {
          "color": "#FFA15A",
          "symbol": "circle"
         },
         "mode": "markers",
         "name": "above_average",
         "showlegend": true,
         "type": "scattergeo"
        },
        {
         "geo": "geo",
         "hovertemplate": "<b>%{hovertext}</b><br><br>grades=average<br>lat=%{lat}<br>long=%{lon}<extra></extra>",
         "hovertext": [
          777000,
          599999,
          643500,
          655000,
          842500,
          850000,
          500000,
          389000,
          450000,
          265000,
          312000,
          540000,
          350000,
          682500,
          490000,
          449500,
          550000,
          592500,
          739000,
          599000,
          385000,
          661254,
          565000,
          315000,
          707500,
          631000,
          300000,
          650500,
          480000,
          343000
         ],
         "lat": [
          47.6557,
          47.6927,
          47.5656,
          47.6813,
          47.6736,
          47.6736,
          47.7062,
          47.3244,
          47.5923,
          47.456,
          47.5003,
          47.5849,
          47.7351,
          47.7351,
          47.373,
          47.5556,
          47.6981,
          47.7349,
          47.6146,
          47.768,
          47.5525,
          47.5824,
          47.7302,
          47.5305,
          47.6711,
          47.4496,
          47.303,
          47.5766,
          47.3651,
          47.3045
         ],
         "legendgroup": "average",
         "lon": [
          -122.388,
          -122.338,
          -122.372,
          -122.187,
          -122.323,
          -122.323,
          -122.311,
          -122.217,
          -122.301,
          -122.292,
          -122.306,
          -122.384,
          -122.295,
          -122.295,
          -122.179,
          -122.294,
          -122.349,
          -122.295,
          -122.306,
          -122.251,
          -122.3,
          -122.384,
          -122.291,
          -122.353,
          -122.398,
          -122.209,
          -122.221,
          -122.151,
          -122.197,
          -122.211
         ],
         "marker": {
          "color": "#19d3f3",
          "symbol": "circle"
         },
         "mode": "markers",
         "name": "average",
         "showlegend": true,
         "type": "scattergeo"
        },
        {
         "geo": "geo",
         "hovertemplate": "<b>%{hovertext}</b><br><br>grades=highest_mansion<br>lat=%{lat}<br>long=%{lon}<extra></extra>",
         "hovertext": [
          5570000,
          2390000,
          3800000,
          7700000,
          3200000,
          6890000,
          2980000,
          2420000,
          2890000,
          3800000
         ],
         "lat": [
          47.6289,
          47.6488,
          47.6229,
          47.6298,
          47.6427,
          47.6305,
          47.5431,
          47.7334,
          47.7295,
          47.7296
         ],
         "legendgroup": "highest_mansion",
         "lon": [
          -122.233,
          -122.201,
          -122.22,
          -122.323,
          -122.408,
          -122.24,
          -122.112,
          -122.362,
          -122.372,
          -122.37
         ],
         "marker": {
          "color": "#FF6692",
          "symbol": "circle"
         },
         "mode": "markers",
         "name": "highest_mansion",
         "showlegend": true,
         "type": "scattergeo"
        }
       ],
       "layout": {
        "geo": {
         "center": {},
         "domain": {
          "x": [
           0,
           1
          ],
          "y": [
           0,
           1
          ]
         },
         "scope": "usa"
        },
        "legend": {
         "title": {
          "text": "grades"
         },
         "tracegroupgap": 0
        },
        "template": {
         "data": {
          "bar": [
           {
            "error_x": {
             "color": "#2a3f5f"
            },
            "error_y": {
             "color": "#2a3f5f"
            },
            "marker": {
             "line": {
              "color": "#E5ECF6",
              "width": 0.5
             },
             "pattern": {
              "fillmode": "overlay",
              "size": 10,
              "solidity": 0.2
             }
            },
            "type": "bar"
           }
          ],
          "barpolar": [
           {
            "marker": {
             "line": {
              "color": "#E5ECF6",
              "width": 0.5
             },
             "pattern": {
              "fillmode": "overlay",
              "size": 10,
              "solidity": 0.2
             }
            },
            "type": "barpolar"
           }
          ],
          "carpet": [
           {
            "aaxis": {
             "endlinecolor": "#2a3f5f",
             "gridcolor": "white",
             "linecolor": "white",
             "minorgridcolor": "white",
             "startlinecolor": "#2a3f5f"
            },
            "baxis": {
             "endlinecolor": "#2a3f5f",
             "gridcolor": "white",
             "linecolor": "white",
             "minorgridcolor": "white",
             "startlinecolor": "#2a3f5f"
            },
            "type": "carpet"
           }
          ],
          "choropleth": [
           {
            "colorbar": {
             "outlinewidth": 0,
             "ticks": ""
            },
            "type": "choropleth"
           }
          ],
          "contour": [
           {
            "colorbar": {
             "outlinewidth": 0,
             "ticks": ""
            },
            "colorscale": [
             [
              0,
              "#0d0887"
             ],
             [
              0.1111111111111111,
              "#46039f"
             ],
             [
              0.2222222222222222,
              "#7201a8"
             ],
             [
              0.3333333333333333,
              "#9c179e"
             ],
             [
              0.4444444444444444,
              "#bd3786"
             ],
             [
              0.5555555555555556,
              "#d8576b"
             ],
             [
              0.6666666666666666,
              "#ed7953"
             ],
             [
              0.7777777777777778,
              "#fb9f3a"
             ],
             [
              0.8888888888888888,
              "#fdca26"
             ],
             [
              1,
              "#f0f921"
             ]
            ],
            "type": "contour"
           }
          ],
          "contourcarpet": [
           {
            "colorbar": {
             "outlinewidth": 0,
             "ticks": ""
            },
            "type": "contourcarpet"
           }
          ],
          "heatmap": [
           {
            "colorbar": {
             "outlinewidth": 0,
             "ticks": ""
            },
            "colorscale": [
             [
              0,
              "#0d0887"
             ],
             [
              0.1111111111111111,
              "#46039f"
             ],
             [
              0.2222222222222222,
              "#7201a8"
             ],
             [
              0.3333333333333333,
              "#9c179e"
             ],
             [
              0.4444444444444444,
              "#bd3786"
             ],
             [
              0.5555555555555556,
              "#d8576b"
             ],
             [
              0.6666666666666666,
              "#ed7953"
             ],
             [
              0.7777777777777778,
              "#fb9f3a"
             ],
             [
              0.8888888888888888,
              "#fdca26"
             ],
             [
              1,
              "#f0f921"
             ]
            ],
            "type": "heatmap"
           }
          ],
          "heatmapgl": [
           {
            "colorbar": {
             "outlinewidth": 0,
             "ticks": ""
            },
            "colorscale": [
             [
              0,
              "#0d0887"
             ],
             [
              0.1111111111111111,
              "#46039f"
             ],
             [
              0.2222222222222222,
              "#7201a8"
             ],
             [
              0.3333333333333333,
              "#9c179e"
             ],
             [
              0.4444444444444444,
              "#bd3786"
             ],
             [
              0.5555555555555556,
              "#d8576b"
             ],
             [
              0.6666666666666666,
              "#ed7953"
             ],
             [
              0.7777777777777778,
              "#fb9f3a"
             ],
             [
              0.8888888888888888,
              "#fdca26"
             ],
             [
              1,
              "#f0f921"
             ]
            ],
            "type": "heatmapgl"
           }
          ],
          "histogram": [
           {
            "marker": {
             "pattern": {
              "fillmode": "overlay",
              "size": 10,
              "solidity": 0.2
             }
            },
            "type": "histogram"
           }
          ],
          "histogram2d": [
           {
            "colorbar": {
             "outlinewidth": 0,
             "ticks": ""
            },
            "colorscale": [
             [
              0,
              "#0d0887"
             ],
             [
              0.1111111111111111,
              "#46039f"
             ],
             [
              0.2222222222222222,
              "#7201a8"
             ],
             [
              0.3333333333333333,
              "#9c179e"
             ],
             [
              0.4444444444444444,
              "#bd3786"
             ],
             [
              0.5555555555555556,
              "#d8576b"
             ],
             [
              0.6666666666666666,
              "#ed7953"
             ],
             [
              0.7777777777777778,
              "#fb9f3a"
             ],
             [
              0.8888888888888888,
              "#fdca26"
             ],
             [
              1,
              "#f0f921"
             ]
            ],
            "type": "histogram2d"
           }
          ],
          "histogram2dcontour": [
           {
            "colorbar": {
             "outlinewidth": 0,
             "ticks": ""
            },
            "colorscale": [
             [
              0,
              "#0d0887"
             ],
             [
              0.1111111111111111,
              "#46039f"
             ],
             [
              0.2222222222222222,
              "#7201a8"
             ],
             [
              0.3333333333333333,
              "#9c179e"
             ],
             [
              0.4444444444444444,
              "#bd3786"
             ],
             [
              0.5555555555555556,
              "#d8576b"
             ],
             [
              0.6666666666666666,
              "#ed7953"
             ],
             [
              0.7777777777777778,
              "#fb9f3a"
             ],
             [
              0.8888888888888888,
              "#fdca26"
             ],
             [
              1,
              "#f0f921"
             ]
            ],
            "type": "histogram2dcontour"
           }
          ],
          "mesh3d": [
           {
            "colorbar": {
             "outlinewidth": 0,
             "ticks": ""
            },
            "type": "mesh3d"
           }
          ],
          "parcoords": [
           {
            "line": {
             "colorbar": {
              "outlinewidth": 0,
              "ticks": ""
             }
            },
            "type": "parcoords"
           }
          ],
          "pie": [
           {
            "automargin": true,
            "type": "pie"
           }
          ],
          "scatter": [
           {
            "fillpattern": {
             "fillmode": "overlay",
             "size": 10,
             "solidity": 0.2
            },
            "type": "scatter"
           }
          ],
          "scatter3d": [
           {
            "line": {
             "colorbar": {
              "outlinewidth": 0,
              "ticks": ""
             }
            },
            "marker": {
             "colorbar": {
              "outlinewidth": 0,
              "ticks": ""
             }
            },
            "type": "scatter3d"
           }
          ],
          "scattercarpet": [
           {
            "marker": {
             "colorbar": {
              "outlinewidth": 0,
              "ticks": ""
             }
            },
            "type": "scattercarpet"
           }
          ],
          "scattergeo": [
           {
            "marker": {
             "colorbar": {
              "outlinewidth": 0,
              "ticks": ""
             }
            },
            "type": "scattergeo"
           }
          ],
          "scattergl": [
           {
            "marker": {
             "colorbar": {
              "outlinewidth": 0,
              "ticks": ""
             }
            },
            "type": "scattergl"
           }
          ],
          "scattermapbox": [
           {
            "marker": {
             "colorbar": {
              "outlinewidth": 0,
              "ticks": ""
             }
            },
            "type": "scattermapbox"
           }
          ],
          "scatterpolar": [
           {
            "marker": {
             "colorbar": {
              "outlinewidth": 0,
              "ticks": ""
             }
            },
            "type": "scatterpolar"
           }
          ],
          "scatterpolargl": [
           {
            "marker": {
             "colorbar": {
              "outlinewidth": 0,
              "ticks": ""
             }
            },
            "type": "scatterpolargl"
           }
          ],
          "scatterternary": [
           {
            "marker": {
             "colorbar": {
              "outlinewidth": 0,
              "ticks": ""
             }
            },
            "type": "scatterternary"
           }
          ],
          "surface": [
           {
            "colorbar": {
             "outlinewidth": 0,
             "ticks": ""
            },
            "colorscale": [
             [
              0,
              "#0d0887"
             ],
             [
              0.1111111111111111,
              "#46039f"
             ],
             [
              0.2222222222222222,
              "#7201a8"
             ],
             [
              0.3333333333333333,
              "#9c179e"
             ],
             [
              0.4444444444444444,
              "#bd3786"
             ],
             [
              0.5555555555555556,
              "#d8576b"
             ],
             [
              0.6666666666666666,
              "#ed7953"
             ],
             [
              0.7777777777777778,
              "#fb9f3a"
             ],
             [
              0.8888888888888888,
              "#fdca26"
             ],
             [
              1,
              "#f0f921"
             ]
            ],
            "type": "surface"
           }
          ],
          "table": [
           {
            "cells": {
             "fill": {
              "color": "#EBF0F8"
             },
             "line": {
              "color": "white"
             }
            },
            "header": {
             "fill": {
              "color": "#C8D4E3"
             },
             "line": {
              "color": "white"
             }
            },
            "type": "table"
           }
          ]
         },
         "layout": {
          "annotationdefaults": {
           "arrowcolor": "#2a3f5f",
           "arrowhead": 0,
           "arrowwidth": 1
          },
          "autotypenumbers": "strict",
          "coloraxis": {
           "colorbar": {
            "outlinewidth": 0,
            "ticks": ""
           }
          },
          "colorscale": {
           "diverging": [
            [
             0,
             "#8e0152"
            ],
            [
             0.1,
             "#c51b7d"
            ],
            [
             0.2,
             "#de77ae"
            ],
            [
             0.3,
             "#f1b6da"
            ],
            [
             0.4,
             "#fde0ef"
            ],
            [
             0.5,
             "#f7f7f7"
            ],
            [
             0.6,
             "#e6f5d0"
            ],
            [
             0.7,
             "#b8e186"
            ],
            [
             0.8,
             "#7fbc41"
            ],
            [
             0.9,
             "#4d9221"
            ],
            [
             1,
             "#276419"
            ]
           ],
           "sequential": [
            [
             0,
             "#0d0887"
            ],
            [
             0.1111111111111111,
             "#46039f"
            ],
            [
             0.2222222222222222,
             "#7201a8"
            ],
            [
             0.3333333333333333,
             "#9c179e"
            ],
            [
             0.4444444444444444,
             "#bd3786"
            ],
            [
             0.5555555555555556,
             "#d8576b"
            ],
            [
             0.6666666666666666,
             "#ed7953"
            ],
            [
             0.7777777777777778,
             "#fb9f3a"
            ],
            [
             0.8888888888888888,
             "#fdca26"
            ],
            [
             1,
             "#f0f921"
            ]
           ],
           "sequentialminus": [
            [
             0,
             "#0d0887"
            ],
            [
             0.1111111111111111,
             "#46039f"
            ],
            [
             0.2222222222222222,
             "#7201a8"
            ],
            [
             0.3333333333333333,
             "#9c179e"
            ],
            [
             0.4444444444444444,
             "#bd3786"
            ],
            [
             0.5555555555555556,
             "#d8576b"
            ],
            [
             0.6666666666666666,
             "#ed7953"
            ],
            [
             0.7777777777777778,
             "#fb9f3a"
            ],
            [
             0.8888888888888888,
             "#fdca26"
            ],
            [
             1,
             "#f0f921"
            ]
           ]
          },
          "colorway": [
           "#636efa",
           "#EF553B",
           "#00cc96",
           "#ab63fa",
           "#FFA15A",
           "#19d3f3",
           "#FF6692",
           "#B6E880",
           "#FF97FF",
           "#FECB52"
          ],
          "font": {
           "color": "#2a3f5f"
          },
          "geo": {
           "bgcolor": "white",
           "lakecolor": "white",
           "landcolor": "#E5ECF6",
           "showlakes": true,
           "showland": true,
           "subunitcolor": "white"
          },
          "hoverlabel": {
           "align": "left"
          },
          "hovermode": "closest",
          "mapbox": {
           "style": "light"
          },
          "paper_bgcolor": "white",
          "plot_bgcolor": "#E5ECF6",
          "polar": {
           "angularaxis": {
            "gridcolor": "white",
            "linecolor": "white",
            "ticks": ""
           },
           "bgcolor": "#E5ECF6",
           "radialaxis": {
            "gridcolor": "white",
            "linecolor": "white",
            "ticks": ""
           }
          },
          "scene": {
           "xaxis": {
            "backgroundcolor": "#E5ECF6",
            "gridcolor": "white",
            "gridwidth": 2,
            "linecolor": "white",
            "showbackground": true,
            "ticks": "",
            "zerolinecolor": "white"
           },
           "yaxis": {
            "backgroundcolor": "#E5ECF6",
            "gridcolor": "white",
            "gridwidth": 2,
            "linecolor": "white",
            "showbackground": true,
            "ticks": "",
            "zerolinecolor": "white"
           },
           "zaxis": {
            "backgroundcolor": "#E5ECF6",
            "gridcolor": "white",
            "gridwidth": 2,
            "linecolor": "white",
            "showbackground": true,
            "ticks": "",
            "zerolinecolor": "white"
           }
          },
          "shapedefaults": {
           "line": {
            "color": "#2a3f5f"
           }
          },
          "ternary": {
           "aaxis": {
            "gridcolor": "white",
            "linecolor": "white",
            "ticks": ""
           },
           "baxis": {
            "gridcolor": "white",
            "linecolor": "white",
            "ticks": ""
           },
           "bgcolor": "#E5ECF6",
           "caxis": {
            "gridcolor": "white",
            "linecolor": "white",
            "ticks": ""
           }
          },
          "title": {
           "x": 0.05
          },
          "xaxis": {
           "automargin": true,
           "gridcolor": "white",
           "linecolor": "white",
           "ticks": "",
           "title": {
            "standoff": 15
           },
           "zerolinecolor": "white",
           "zerolinewidth": 2
          },
          "yaxis": {
           "automargin": true,
           "gridcolor": "white",
           "linecolor": "white",
           "ticks": "",
           "title": {
            "standoff": 15
           },
           "zerolinecolor": "white",
           "zerolinewidth": 2
          }
         }
        },
        "title": {
         "text": "Geographical map of USA"
        }
       }
      }
     },
     "metadata": {},
     "output_type": "display_data"
    }
   ],
   "source": [
    "geo_map = px.scatter_geo (df_Jakob1, # Main argument: The Dataframe\n",
    "                        lat = \"lat\", # Y - Coordinate: Column from the df\n",
    "                        lon = \"long\", scope= 'usa',color='grades', hover_name='price', title='Geographical map of USA')\n",
    "geo_map"
   ]
  },
  {
   "attachments": {},
   "cell_type": "markdown",
   "metadata": {},
   "source": [
    "From The geo_map; I can draw a hypothesis that \n",
    "*if a house has the best grades, then it has to have waterfront and big lot\n",
    "*if a houses has big lots, then it must be in good condition\n",
    "*The higher the floor of the house, the higher the price"
   ]
  },
  {
   "cell_type": "code",
   "execution_count": 31,
   "metadata": {},
   "outputs": [
    {
     "data": {
      "image/png": "[encoded data removed]",
      "text/plain": [
       "<Figure size 1500x800 with 1 Axes>"
      ]
     },
     "metadata": {},
     "output_type": "display_data"
    }
   ],
   "source": [
    "# Plot number of grades per category\n",
    "plt.figure(figsize=(15,8)) # specify figure size\n",
    "f1 = sns.countplot(x=df_Jakob1['grades']) # create countplot\n",
    "f1.tick_params(axis='x', rotation=90) # get x-ticks and rotate them\n",
    "f1.set(xlabel=None) # set no label for x-axis \n",
    "f1.set_ylabel(\"Distribution of grades\", fontsize = 10); # set label for y-axis\n",
    "f1.set_title('Available housing according to grades', fontsize=20); # set title"
   ]
  },
  {
   "cell_type": "code",
   "execution_count": 32,
   "metadata": {},
   "outputs": [
    {
     "data": {
      "image/png": "[encoded data removed]",
      "text/plain": [
       "<Figure size 2000x1500 with 5 Axes>"
      ]
     },
     "metadata": {},
     "output_type": "display_data"
    }
   ],
   "source": [
    "# Plot views, likes, dislikes and comments per category\n",
    "fig, ax = plt.subplots(2,3, figsize=(20,15)) # create subplots on 2 rows and 2 columns\n",
    "plt.suptitle('sqft_living, bathrooms, sqft_lot and price per grades', fontsize=20) \n",
    "fig.tight_layout()   # tight_layout automatically adjusts subplot params so that the subplot(s) fits in to the figure area\n",
    "plt.subplots_adjust(hspace = .6, wspace = .2, top = .9) # adjusts the space between the single subplots\n",
    "\n",
    "f1 = sns.barplot(x=df_Jakob1[\"grades\"], y = df_Jakob1['sqft_living'], ax=ax[0,0]) # creates barchart for number of views\n",
    "f1.tick_params(axis='x', labelrotation=90) # sets the label y-axis\n",
    "f1.set(xlabel=None) # sets the x-axis label\n",
    "f1.set_ylabel(\"sqft_living distribution\", fontsize = 10) # limits the x-axis values from 0 to 1000000\n",
    "f1.set_title(\"sqft_living per grades\", fontsize = 15);  # sets title for subplot\n",
    "\n",
    "f2= sns.barplot(x=df_Jakob1[\"grades\"], y = df_Jakob1['bathrooms'], ax=ax[0,1])\n",
    "f2.tick_params(axis='x', labelrotation=90)\n",
    "f2.set(xlabel=None)\n",
    "f2.set_ylabel(\"bathrooms distribution\", fontsize = 10)\n",
    "f2.set_title(\"bathrooms for housing per grades\", fontsize = 15);\n",
    "\n",
    "f3 = sns.barplot(x=df_Jakob1[\"grades\"], y = df_Jakob1['sqft_lot'], ax=ax[0,2])\n",
    "f3.tick_params(axis='x', labelrotation=90)\n",
    "f3.set(xlabel=None)\n",
    "f3.set_ylabel(\"sqft_lot distribution\", fontsize = 10)\n",
    "f3.set_title(\"sqft_lot for housing per grades\", fontsize = 15);\n",
    "\n",
    "f4 = sns.barplot(x=df_Jakob1[\"grades\"], y = df_Jakob1['bedrooms'], ax=ax[1,0])\n",
    "f4.tick_params(axis='x', labelrotation=90)\n",
    "f4.set(xlabel=None)\n",
    "f4.set_ylabel(\"bedrooms distribution\", fontsize = 10)\n",
    "f4.set_title(\"bedrooms for housing per grades\", fontsize = 15);\n",
    "\n",
    "f5 = sns.barplot(x=df_Jakob1[\"grades\"], y = df_Jakob1['floors'], ax=ax[1,1])\n",
    "f5.tick_params(axis='x', labelrotation=90)\n",
    "f5.set(xlabel=None)\n",
    "f5.set_ylabel(\"distribution of floors\", fontsize = 10)\n",
    "f5.set_title(\"floors for housing per grades\", fontsize = 15);\n",
    "\n",
    "fig.delaxes(ax[1][2]);"
   ]
  },
  {
   "cell_type": "code",
   "execution_count": 33,
   "metadata": {},
   "outputs": [
    {
     "data": {
      "text/plain": [
       "<AxesSubplot:xlabel='grades', ylabel='price'>"
      ]
     },
     "execution_count": 33,
     "metadata": {},
     "output_type": "execute_result"
    },
    {
     "data": {
      "image/png": "[encoded data removed]",
      "text/plain": [
       "<Figure size 640x480 with 1 Axes>"
      ]
     },
     "metadata": {},
     "output_type": "display_data"
    }
   ],
   "source": [
    "sns.barplot(x='grades', y ='price', data=df_Jakob1)"
   ]
  },
  {
   "cell_type": "code",
   "execution_count": 34,
   "metadata": {},
   "outputs": [
    {
     "data": {
      "text/plain": [
       "<AxesSubplot:xlabel='sqft_lot', ylabel='grades'>"
      ]
     },
     "execution_count": 34,
     "metadata": {},
     "output_type": "execute_result"
    },
    {
     "data": {
      "image/png": "[encoded data removed]",
      "text/plain": [
       "<Figure size 640x480 with 1 Axes>"
      ]
     },
     "metadata": {},
     "output_type": "display_data"
    }
   ],
   "source": [
    "sns.barplot(x='sqft_lot', y= 'grades', data=df_Jakob1, hue='waterfront') # the higher sqft_lot has both higher quality and waterfront. my buyer doesnot need to buy a highest mansion"
   ]
  },
  {
   "attachments": {},
   "cell_type": "markdown",
   "metadata": {},
   "source": [
    "My hypothesis of house being the best grades with waterfront has been proven wrong as the house with highest quality grade has waterfront as well as big lot"
   ]
  },
  {
   "cell_type": "code",
   "execution_count": 35,
   "metadata": {},
   "outputs": [
    {
     "data": {
      "text/plain": [
       "<AxesSubplot:xlabel='floors', ylabel='sqft_lot'>"
      ]
     },
     "execution_count": 35,
     "metadata": {},
     "output_type": "execute_result"
    },
    {
     "data": {
      "image/png": "[encoded data removed]",
      "text/plain": [
       "<Figure size 640x480 with 1 Axes>"
      ]
     },
     "metadata": {},
     "output_type": "display_data"
    }
   ],
   "source": [
    "sns.barplot(x='floors', y= 'sqft_lot', data=df_Jakob1, hue ='condition') #an average condition has the highest lot size"
   ]
  },
  {
   "cell_type": "code",
   "execution_count": 36,
   "metadata": {},
   "outputs": [
    {
     "data": {
      "text/plain": [
       "Index(['sales_id', 'sqft_living', 'sqft_lot', 'floors', 'bedrooms',\n",
       "       'bathrooms', 'waterfront', 'price', 'view', 'condition', 'grades',\n",
       "       'yr_built', 'zipcode', 'lat', 'long'],\n",
       "      dtype='object')"
      ]
     },
     "execution_count": 36,
     "metadata": {},
     "output_type": "execute_result"
    }
   ],
   "source": [
    "df_Jakob1.columns"
   ]
  },
  {
   "cell_type": "code",
   "execution_count": 37,
   "metadata": {},
   "outputs": [
    {
     "data": {
      "text/plain": [
       "<AxesSubplot:xlabel='grades', ylabel='floors'>"
      ]
     },
     "execution_count": 37,
     "metadata": {},
     "output_type": "execute_result"
    },
    {
     "data": {
      "image/png": "[encoded data removed]",
      "text/plain": [
       "<Figure size 640x480 with 2 Axes>"
      ]
     },
     "metadata": {},
     "output_type": "display_data"
    }
   ],
   "source": [
    "#The higher the floor of the house, the higher the price\n",
    "df_floor= df_Jakob1[['price','grades','floors']]\n",
    "df_floor = df_floor.pivot_table(index ='floors', columns='grades', values='price')\n",
    "#df_floor[df_floor['floors'].isna()]\n",
    "#df_import[df_import['bathrooms'].isna()]\n",
    "df_floor\n",
    "#df_floor['floors'].fillna(0, inplace=True)\n",
    "sns.heatmap(df_floor, cmap='Blues', linecolor='white', linewidth=1)"
   ]
  },
  {
   "cell_type": "code",
   "execution_count": 38,
   "metadata": {},
   "outputs": [
    {
     "data": {
      "text/plain": [
       "<AxesSubplot:xlabel='floors', ylabel='price'>"
      ]
     },
     "execution_count": 38,
     "metadata": {},
     "output_type": "execute_result"
    },
    {
     "data": {
      "image/png": "[encoded data removed]",
      "text/plain": [
       "<Figure size 640x480 with 1 Axes>"
      ]
     },
     "metadata": {},
     "output_type": "display_data"
    }
   ],
   "source": [
    "sns.barplot(x='floors', y= 'price', data=df_Jakob1, hue ='bathrooms')"
   ]
  },
  {
   "cell_type": "code",
   "execution_count": 39,
   "metadata": {},
   "outputs": [
    {
     "data": {
      "text/plain": [
       "array([1. , 2. , 1.5, 3. , 2.5, 3.5])"
      ]
     },
     "execution_count": 39,
     "metadata": {},
     "output_type": "execute_result"
    }
   ],
   "source": [
    "df_import['floors'].unique()"
   ]
  },
  {
   "cell_type": "code",
   "execution_count": 40,
   "metadata": {},
   "outputs": [
    {
     "data": {
      "text/html": [
       "<div>\n",
       "<style scoped>\n",
       "    .dataframe tbody tr th:only-of-type {\n",
       "        vertical-align: middle;\n",
       "    }\n",
       "\n",
       "    .dataframe tbody tr th {\n",
       "        vertical-align: top;\n",
       "    }\n",
       "\n",
       "    .dataframe thead th {\n",
       "        text-align: right;\n",
       "    }\n",
       "</style>\n",
       "<table border=\"1\" class=\"dataframe\">\n",
       "  <thead>\n",
       "    <tr style=\"text-align: right;\">\n",
       "      <th></th>\n",
       "      <th>sales_id</th>\n",
       "      <th>sqft_living</th>\n",
       "      <th>sqft_lot</th>\n",
       "      <th>floors</th>\n",
       "      <th>bedrooms</th>\n",
       "      <th>bathrooms</th>\n",
       "      <th>waterfront</th>\n",
       "      <th>price</th>\n",
       "      <th>view</th>\n",
       "      <th>condition</th>\n",
       "      <th>grades</th>\n",
       "      <th>yr_built</th>\n",
       "      <th>zipcode</th>\n",
       "      <th>lat</th>\n",
       "      <th>long</th>\n",
       "    </tr>\n",
       "  </thead>\n",
       "  <tbody>\n",
       "    <tr>\n",
       "      <th>779</th>\n",
       "      <td>780</td>\n",
       "      <td>4860.0</td>\n",
       "      <td>9453.0</td>\n",
       "      <td>1.5</td>\n",
       "      <td>5.0</td>\n",
       "      <td>4.25</td>\n",
       "      <td>False</td>\n",
       "      <td>2250000.0</td>\n",
       "      <td>1.0</td>\n",
       "      <td>5</td>\n",
       "      <td>high_quality</td>\n",
       "      <td>1905</td>\n",
       "      <td>98112</td>\n",
       "      <td>47.6196</td>\n",
       "      <td>-122.286</td>\n",
       "    </tr>\n",
       "    <tr>\n",
       "      <th>2018</th>\n",
       "      <td>2019</td>\n",
       "      <td>3600.0</td>\n",
       "      <td>14720.0</td>\n",
       "      <td>1.0</td>\n",
       "      <td>5.0</td>\n",
       "      <td>4.00</td>\n",
       "      <td>False</td>\n",
       "      <td>835000.0</td>\n",
       "      <td>2.0</td>\n",
       "      <td>5</td>\n",
       "      <td>above_average</td>\n",
       "      <td>1960</td>\n",
       "      <td>98034</td>\n",
       "      <td>47.7022</td>\n",
       "      <td>-122.227</td>\n",
       "    </tr>\n",
       "    <tr>\n",
       "      <th>4312</th>\n",
       "      <td>4313</td>\n",
       "      <td>3500.0</td>\n",
       "      <td>8750.0</td>\n",
       "      <td>1.0</td>\n",
       "      <td>4.0</td>\n",
       "      <td>4.25</td>\n",
       "      <td>False</td>\n",
       "      <td>1080000.0</td>\n",
       "      <td>4.0</td>\n",
       "      <td>5</td>\n",
       "      <td>better</td>\n",
       "      <td>1951</td>\n",
       "      <td>98177</td>\n",
       "      <td>47.7222</td>\n",
       "      <td>-122.367</td>\n",
       "    </tr>\n",
       "    <tr>\n",
       "      <th>4470</th>\n",
       "      <td>4471</td>\n",
       "      <td>4380.0</td>\n",
       "      <td>42769.0</td>\n",
       "      <td>2.0</td>\n",
       "      <td>3.0</td>\n",
       "      <td>4.00</td>\n",
       "      <td>False</td>\n",
       "      <td>1050000.0</td>\n",
       "      <td>0.0</td>\n",
       "      <td>5</td>\n",
       "      <td>higher_quality</td>\n",
       "      <td>1983</td>\n",
       "      <td>98052</td>\n",
       "      <td>47.7167</td>\n",
       "      <td>-122.109</td>\n",
       "    </tr>\n",
       "    <tr>\n",
       "      <th>5444</th>\n",
       "      <td>5445</td>\n",
       "      <td>5040.0</td>\n",
       "      <td>17208.0</td>\n",
       "      <td>1.0</td>\n",
       "      <td>4.0</td>\n",
       "      <td>4.00</td>\n",
       "      <td>False</td>\n",
       "      <td>2850000.0</td>\n",
       "      <td>0.0</td>\n",
       "      <td>5</td>\n",
       "      <td>high_quality</td>\n",
       "      <td>1976</td>\n",
       "      <td>98006</td>\n",
       "      <td>47.5701</td>\n",
       "      <td>-122.188</td>\n",
       "    </tr>\n",
       "    <tr>\n",
       "      <th>5844</th>\n",
       "      <td>5845</td>\n",
       "      <td>4720.0</td>\n",
       "      <td>21000.0</td>\n",
       "      <td>3.0</td>\n",
       "      <td>4.0</td>\n",
       "      <td>4.25</td>\n",
       "      <td>False</td>\n",
       "      <td>1530000.0</td>\n",
       "      <td>4.0</td>\n",
       "      <td>5</td>\n",
       "      <td>higher_quality</td>\n",
       "      <td>1971</td>\n",
       "      <td>98177</td>\n",
       "      <td>47.7591</td>\n",
       "      <td>-122.376</td>\n",
       "    </tr>\n",
       "    <tr>\n",
       "      <th>7184</th>\n",
       "      <td>7185</td>\n",
       "      <td>6210.0</td>\n",
       "      <td>8856.0</td>\n",
       "      <td>2.5</td>\n",
       "      <td>7.0</td>\n",
       "      <td>4.50</td>\n",
       "      <td>False</td>\n",
       "      <td>3200000.0</td>\n",
       "      <td>2.0</td>\n",
       "      <td>5</td>\n",
       "      <td>higher_quality</td>\n",
       "      <td>1910</td>\n",
       "      <td>98109</td>\n",
       "      <td>47.6307</td>\n",
       "      <td>-122.354</td>\n",
       "    </tr>\n",
       "    <tr>\n",
       "      <th>7195</th>\n",
       "      <td>7196</td>\n",
       "      <td>2690.0</td>\n",
       "      <td>7350.0</td>\n",
       "      <td>1.5</td>\n",
       "      <td>4.0</td>\n",
       "      <td>4.50</td>\n",
       "      <td>False</td>\n",
       "      <td>500000.0</td>\n",
       "      <td>0.0</td>\n",
       "      <td>5</td>\n",
       "      <td>average</td>\n",
       "      <td>1949</td>\n",
       "      <td>98125</td>\n",
       "      <td>47.7062</td>\n",
       "      <td>-122.311</td>\n",
       "    </tr>\n",
       "    <tr>\n",
       "      <th>8608</th>\n",
       "      <td>8609</td>\n",
       "      <td>1400.0</td>\n",
       "      <td>8580.0</td>\n",
       "      <td>1.0</td>\n",
       "      <td>5.0</td>\n",
       "      <td>4.00</td>\n",
       "      <td>False</td>\n",
       "      <td>265000.0</td>\n",
       "      <td>0.0</td>\n",
       "      <td>5</td>\n",
       "      <td>average</td>\n",
       "      <td>1954</td>\n",
       "      <td>98188</td>\n",
       "      <td>47.4560</td>\n",
       "      <td>-122.292</td>\n",
       "    </tr>\n",
       "    <tr>\n",
       "      <th>9343</th>\n",
       "      <td>9344</td>\n",
       "      <td>3530.0</td>\n",
       "      <td>8400.0</td>\n",
       "      <td>2.0</td>\n",
       "      <td>4.0</td>\n",
       "      <td>4.00</td>\n",
       "      <td>False</td>\n",
       "      <td>1100000.0</td>\n",
       "      <td>0.0</td>\n",
       "      <td>5</td>\n",
       "      <td>above_average</td>\n",
       "      <td>1958</td>\n",
       "      <td>98199</td>\n",
       "      <td>47.6402</td>\n",
       "      <td>-122.395</td>\n",
       "    </tr>\n",
       "    <tr>\n",
       "      <th>9670</th>\n",
       "      <td>9671</td>\n",
       "      <td>3910.0</td>\n",
       "      <td>5350.0</td>\n",
       "      <td>2.0</td>\n",
       "      <td>3.0</td>\n",
       "      <td>4.00</td>\n",
       "      <td>False</td>\n",
       "      <td>1700000.0</td>\n",
       "      <td>2.0</td>\n",
       "      <td>5</td>\n",
       "      <td>high_quality</td>\n",
       "      <td>1933</td>\n",
       "      <td>98199</td>\n",
       "      <td>47.6393</td>\n",
       "      <td>-122.408</td>\n",
       "    </tr>\n",
       "    <tr>\n",
       "      <th>9903</th>\n",
       "      <td>9904</td>\n",
       "      <td>4420.0</td>\n",
       "      <td>36342.0</td>\n",
       "      <td>2.0</td>\n",
       "      <td>5.0</td>\n",
       "      <td>4.00</td>\n",
       "      <td>False</td>\n",
       "      <td>1320000.0</td>\n",
       "      <td>0.0</td>\n",
       "      <td>5</td>\n",
       "      <td>high_quality</td>\n",
       "      <td>1982</td>\n",
       "      <td>98007</td>\n",
       "      <td>47.6468</td>\n",
       "      <td>-122.151</td>\n",
       "    </tr>\n",
       "    <tr>\n",
       "      <th>12401</th>\n",
       "      <td>12402</td>\n",
       "      <td>2290.0</td>\n",
       "      <td>6250.0</td>\n",
       "      <td>1.5</td>\n",
       "      <td>4.0</td>\n",
       "      <td>4.00</td>\n",
       "      <td>False</td>\n",
       "      <td>661254.0</td>\n",
       "      <td>0.0</td>\n",
       "      <td>5</td>\n",
       "      <td>average</td>\n",
       "      <td>1940</td>\n",
       "      <td>98116</td>\n",
       "      <td>47.5824</td>\n",
       "      <td>-122.384</td>\n",
       "    </tr>\n",
       "    <tr>\n",
       "      <th>12669</th>\n",
       "      <td>12670</td>\n",
       "      <td>4440.0</td>\n",
       "      <td>9270.0</td>\n",
       "      <td>1.0</td>\n",
       "      <td>5.0</td>\n",
       "      <td>4.00</td>\n",
       "      <td>False</td>\n",
       "      <td>1300000.0</td>\n",
       "      <td>0.0</td>\n",
       "      <td>5</td>\n",
       "      <td>high_quality</td>\n",
       "      <td>1968</td>\n",
       "      <td>98040</td>\n",
       "      <td>47.5708</td>\n",
       "      <td>-122.212</td>\n",
       "    </tr>\n",
       "    <tr>\n",
       "      <th>15035</th>\n",
       "      <td>15036</td>\n",
       "      <td>5770.0</td>\n",
       "      <td>10050.0</td>\n",
       "      <td>1.0</td>\n",
       "      <td>4.0</td>\n",
       "      <td>4.50</td>\n",
       "      <td>False</td>\n",
       "      <td>1540000.0</td>\n",
       "      <td>3.0</td>\n",
       "      <td>5</td>\n",
       "      <td>better</td>\n",
       "      <td>1949</td>\n",
       "      <td>98115</td>\n",
       "      <td>47.6770</td>\n",
       "      <td>-122.275</td>\n",
       "    </tr>\n",
       "    <tr>\n",
       "      <th>15346</th>\n",
       "      <td>15347</td>\n",
       "      <td>1550.0</td>\n",
       "      <td>6596.0</td>\n",
       "      <td>1.5</td>\n",
       "      <td>4.0</td>\n",
       "      <td>4.00</td>\n",
       "      <td>False</td>\n",
       "      <td>707500.0</td>\n",
       "      <td>0.0</td>\n",
       "      <td>5</td>\n",
       "      <td>average</td>\n",
       "      <td>1907</td>\n",
       "      <td>98107</td>\n",
       "      <td>47.6711</td>\n",
       "      <td>-122.398</td>\n",
       "    </tr>\n",
       "    <tr>\n",
       "      <th>15578</th>\n",
       "      <td>15579</td>\n",
       "      <td>4830.0</td>\n",
       "      <td>18707.0</td>\n",
       "      <td>2.0</td>\n",
       "      <td>5.0</td>\n",
       "      <td>5.25</td>\n",
       "      <td>False</td>\n",
       "      <td>1680000.0</td>\n",
       "      <td>1.0</td>\n",
       "      <td>5</td>\n",
       "      <td>better</td>\n",
       "      <td>1952</td>\n",
       "      <td>98040</td>\n",
       "      <td>47.5858</td>\n",
       "      <td>-122.247</td>\n",
       "    </tr>\n",
       "    <tr>\n",
       "      <th>17665</th>\n",
       "      <td>17666</td>\n",
       "      <td>3810.0</td>\n",
       "      <td>28176.0</td>\n",
       "      <td>1.0</td>\n",
       "      <td>6.0</td>\n",
       "      <td>4.50</td>\n",
       "      <td>False</td>\n",
       "      <td>2010000.0</td>\n",
       "      <td>4.0</td>\n",
       "      <td>5</td>\n",
       "      <td>high_quality</td>\n",
       "      <td>1969</td>\n",
       "      <td>98177</td>\n",
       "      <td>47.7612</td>\n",
       "      <td>-122.381</td>\n",
       "    </tr>\n",
       "    <tr>\n",
       "      <th>18314</th>\n",
       "      <td>18315</td>\n",
       "      <td>4575.0</td>\n",
       "      <td>24085.0</td>\n",
       "      <td>2.5</td>\n",
       "      <td>4.0</td>\n",
       "      <td>4.75</td>\n",
       "      <td>False</td>\n",
       "      <td>2920000.0</td>\n",
       "      <td>2.0</td>\n",
       "      <td>5</td>\n",
       "      <td>high_quality</td>\n",
       "      <td>1926</td>\n",
       "      <td>98112</td>\n",
       "      <td>47.6263</td>\n",
       "      <td>-122.284</td>\n",
       "    </tr>\n",
       "    <tr>\n",
       "      <th>18445</th>\n",
       "      <td>18446</td>\n",
       "      <td>4290.0</td>\n",
       "      <td>37607.0</td>\n",
       "      <td>1.5</td>\n",
       "      <td>7.0</td>\n",
       "      <td>4.50</td>\n",
       "      <td>False</td>\n",
       "      <td>840000.0</td>\n",
       "      <td>0.0</td>\n",
       "      <td>5</td>\n",
       "      <td>high_quality</td>\n",
       "      <td>1982</td>\n",
       "      <td>98027</td>\n",
       "      <td>47.4812</td>\n",
       "      <td>-122.033</td>\n",
       "    </tr>\n",
       "    <tr>\n",
       "      <th>18462</th>\n",
       "      <td>18463</td>\n",
       "      <td>7710.0</td>\n",
       "      <td>11750.0</td>\n",
       "      <td>3.5</td>\n",
       "      <td>8.0</td>\n",
       "      <td>4.00</td>\n",
       "      <td>False</td>\n",
       "      <td>3300000.0</td>\n",
       "      <td>0.0</td>\n",
       "      <td>5</td>\n",
       "      <td>highest_quality</td>\n",
       "      <td>1904</td>\n",
       "      <td>98112</td>\n",
       "      <td>47.6263</td>\n",
       "      <td>-122.314</td>\n",
       "    </tr>\n",
       "    <tr>\n",
       "      <th>19076</th>\n",
       "      <td>19077</td>\n",
       "      <td>4720.0</td>\n",
       "      <td>493534.0</td>\n",
       "      <td>2.0</td>\n",
       "      <td>5.0</td>\n",
       "      <td>4.00</td>\n",
       "      <td>False</td>\n",
       "      <td>745000.0</td>\n",
       "      <td>0.0</td>\n",
       "      <td>5</td>\n",
       "      <td>better</td>\n",
       "      <td>1975</td>\n",
       "      <td>98027</td>\n",
       "      <td>47.4536</td>\n",
       "      <td>-122.009</td>\n",
       "    </tr>\n",
       "  </tbody>\n",
       "</table>\n",
       "</div>"
      ],
      "text/plain": [
       "       sales_id  sqft_living  sqft_lot  floors  bedrooms  bathrooms  \\\n",
       "779         780       4860.0    9453.0     1.5       5.0       4.25   \n",
       "2018       2019       3600.0   14720.0     1.0       5.0       4.00   \n",
       "4312       4313       3500.0    8750.0     1.0       4.0       4.25   \n",
       "4470       4471       4380.0   42769.0     2.0       3.0       4.00   \n",
       "5444       5445       5040.0   17208.0     1.0       4.0       4.00   \n",
       "5844       5845       4720.0   21000.0     3.0       4.0       4.25   \n",
       "7184       7185       6210.0    8856.0     2.5       7.0       4.50   \n",
       "7195       7196       2690.0    7350.0     1.5       4.0       4.50   \n",
       "8608       8609       1400.0    8580.0     1.0       5.0       4.00   \n",
       "9343       9344       3530.0    8400.0     2.0       4.0       4.00   \n",
       "9670       9671       3910.0    5350.0     2.0       3.0       4.00   \n",
       "9903       9904       4420.0   36342.0     2.0       5.0       4.00   \n",
       "12401     12402       2290.0    6250.0     1.5       4.0       4.00   \n",
       "12669     12670       4440.0    9270.0     1.0       5.0       4.00   \n",
       "15035     15036       5770.0   10050.0     1.0       4.0       4.50   \n",
       "15346     15347       1550.0    6596.0     1.5       4.0       4.00   \n",
       "15578     15579       4830.0   18707.0     2.0       5.0       5.25   \n",
       "17665     17666       3810.0   28176.0     1.0       6.0       4.50   \n",
       "18314     18315       4575.0   24085.0     2.5       4.0       4.75   \n",
       "18445     18446       4290.0   37607.0     1.5       7.0       4.50   \n",
       "18462     18463       7710.0   11750.0     3.5       8.0       4.00   \n",
       "19076     19077       4720.0  493534.0     2.0       5.0       4.00   \n",
       "\n",
       "       waterfront      price  view  condition           grades  yr_built  \\\n",
       "779         False  2250000.0   1.0          5     high_quality      1905   \n",
       "2018        False   835000.0   2.0          5    above_average      1960   \n",
       "4312        False  1080000.0   4.0          5           better      1951   \n",
       "4470        False  1050000.0   0.0          5   higher_quality      1983   \n",
       "5444        False  2850000.0   0.0          5     high_quality      1976   \n",
       "5844        False  1530000.0   4.0          5   higher_quality      1971   \n",
       "7184        False  3200000.0   2.0          5   higher_quality      1910   \n",
       "7195        False   500000.0   0.0          5          average      1949   \n",
       "8608        False   265000.0   0.0          5          average      1954   \n",
       "9343        False  1100000.0   0.0          5    above_average      1958   \n",
       "9670        False  1700000.0   2.0          5     high_quality      1933   \n",
       "9903        False  1320000.0   0.0          5     high_quality      1982   \n",
       "12401       False   661254.0   0.0          5          average      1940   \n",
       "12669       False  1300000.0   0.0          5     high_quality      1968   \n",
       "15035       False  1540000.0   3.0          5           better      1949   \n",
       "15346       False   707500.0   0.0          5          average      1907   \n",
       "15578       False  1680000.0   1.0          5           better      1952   \n",
       "17665       False  2010000.0   4.0          5     high_quality      1969   \n",
       "18314       False  2920000.0   2.0          5     high_quality      1926   \n",
       "18445       False   840000.0   0.0          5     high_quality      1982   \n",
       "18462       False  3300000.0   0.0          5  highest_quality      1904   \n",
       "19076       False   745000.0   0.0          5           better      1975   \n",
       "\n",
       "       zipcode      lat     long  \n",
       "779      98112  47.6196 -122.286  \n",
       "2018     98034  47.7022 -122.227  \n",
       "4312     98177  47.7222 -122.367  \n",
       "4470     98052  47.7167 -122.109  \n",
       "5444     98006  47.5701 -122.188  \n",
       "5844     98177  47.7591 -122.376  \n",
       "7184     98109  47.6307 -122.354  \n",
       "7195     98125  47.7062 -122.311  \n",
       "8608     98188  47.4560 -122.292  \n",
       "9343     98199  47.6402 -122.395  \n",
       "9670     98199  47.6393 -122.408  \n",
       "9903     98007  47.6468 -122.151  \n",
       "12401    98116  47.5824 -122.384  \n",
       "12669    98040  47.5708 -122.212  \n",
       "15035    98115  47.6770 -122.275  \n",
       "15346    98107  47.6711 -122.398  \n",
       "15578    98040  47.5858 -122.247  \n",
       "17665    98177  47.7612 -122.381  \n",
       "18314    98112  47.6263 -122.284  \n",
       "18445    98027  47.4812 -122.033  \n",
       "18462    98112  47.6263 -122.314  \n",
       "19076    98027  47.4536 -122.009  "
      ]
     },
     "execution_count": 40,
     "metadata": {},
     "output_type": "execute_result"
    }
   ],
   "source": [
    "\n",
    "df2_Jakob=df_Jakob1[(df_Jakob1['condition']== 5) & (df_Jakob1['waterfront'] == False) ]\n",
    "df2_Jakob"
   ]
  },
  {
   "cell_type": "code",
   "execution_count": 49,
   "metadata": {},
   "outputs": [
    {
     "data": {
      "image/png": "[encoded data removed]",
      "text/plain": [
       "<Figure size 1170x1227 with 1 Axes>"
      ]
     },
     "metadata": {},
     "output_type": "display_data"
    }
   ],
   "source": [
    "sns.barplot(x='zipcode', y= 'sqft_lot', data=df2_Jakob, hue='floors')\n",
    "sns.set(rc={'figure.figsize':(11.7,12.27)})\n",
    "plt.yticks();\n",
    "plt.xticks();"
   ]
  },
  {
   "cell_type": "code",
   "execution_count": 42,
   "metadata": {},
   "outputs": [
    {
     "data": {
      "text/html": [
       "<div>\n",
       "<style scoped>\n",
       "    .dataframe tbody tr th:only-of-type {\n",
       "        vertical-align: middle;\n",
       "    }\n",
       "\n",
       "    .dataframe tbody tr th {\n",
       "        vertical-align: top;\n",
       "    }\n",
       "\n",
       "    .dataframe thead th {\n",
       "        text-align: right;\n",
       "    }\n",
       "</style>\n",
       "<table border=\"1\" class=\"dataframe\">\n",
       "  <thead>\n",
       "    <tr style=\"text-align: right;\">\n",
       "      <th></th>\n",
       "      <th>sales_id</th>\n",
       "      <th>sqft_living</th>\n",
       "      <th>sqft_lot</th>\n",
       "      <th>floors</th>\n",
       "      <th>bedrooms</th>\n",
       "      <th>bathrooms</th>\n",
       "      <th>waterfront</th>\n",
       "      <th>price</th>\n",
       "      <th>view</th>\n",
       "      <th>condition</th>\n",
       "      <th>grades</th>\n",
       "      <th>yr_built</th>\n",
       "      <th>zipcode</th>\n",
       "      <th>lat</th>\n",
       "      <th>long</th>\n",
       "    </tr>\n",
       "  </thead>\n",
       "  <tbody>\n",
       "    <tr>\n",
       "      <th>19076</th>\n",
       "      <td>19077</td>\n",
       "      <td>4720.0</td>\n",
       "      <td>493534.0</td>\n",
       "      <td>2.0</td>\n",
       "      <td>5.0</td>\n",
       "      <td>4.0</td>\n",
       "      <td>False</td>\n",
       "      <td>745000.0</td>\n",
       "      <td>0.0</td>\n",
       "      <td>5</td>\n",
       "      <td>better</td>\n",
       "      <td>1975</td>\n",
       "      <td>98027</td>\n",
       "      <td>47.4536</td>\n",
       "      <td>-122.009</td>\n",
       "    </tr>\n",
       "  </tbody>\n",
       "</table>\n",
       "</div>"
      ],
      "text/plain": [
       "       sales_id  sqft_living  sqft_lot  floors  bedrooms  bathrooms  \\\n",
       "19076     19077       4720.0  493534.0     2.0       5.0        4.0   \n",
       "\n",
       "       waterfront     price  view  condition  grades  yr_built  zipcode  \\\n",
       "19076       False  745000.0   0.0          5  better      1975    98027   \n",
       "\n",
       "           lat     long  \n",
       "19076  47.4536 -122.009  "
      ]
     },
     "execution_count": 42,
     "metadata": {},
     "output_type": "execute_result"
    }
   ],
   "source": [
    "df3_Jakob=df_Jakob1[(df_Jakob1['sqft_lot'] >400000) & (df_Jakob1['zipcode'] == 98027) ]\n",
    "df3_Jakob"
   ]
  },
  {
   "cell_type": "code",
   "execution_count": 43,
   "metadata": {},
   "outputs": [
    {
     "data": {
      "text/plain": [
       "<AxesSubplot:xlabel='zipcode', ylabel='price'>"
      ]
     },
     "execution_count": 43,
     "metadata": {},
     "output_type": "execute_result"
    },
    {
     "data": {
      "image/png": "[encoded data removed]",
      "text/plain": [
       "<Figure size 640x480 with 1 Axes>"
      ]
     },
     "metadata": {},
     "output_type": "display_data"
    }
   ],
   "source": [
    "sns.barplot(x='zipcode', y= 'price', data=df3_Jakob)"
   ]
  }
 ],
 "metadata": {
  "kernelspec": {
   "display_name": "Python 3 (ipykernel)",
   "language": "python",
   "name": "python3"
  },
  "language_info": {
   "codemirror_mode": {
    "name": "ipython",
    "version": 3
   },
   "file_extension": ".py",
   "mimetype": "text/x-python",
   "name": "python",
   "nbconvert_exporter": "python",
   "pygments_lexer": "ipython3",
   "version": "3.9.8"
  },
  "vscode": {
   "interpreter": {
    "hash": "2be5a5f52948b5baf14ff21477c029968eb1b6a8e67a01ab6a331a1472d2ff39"
   }
  }
 },
 "nbformat": 4,
 "nbformat_minor": 4
}
